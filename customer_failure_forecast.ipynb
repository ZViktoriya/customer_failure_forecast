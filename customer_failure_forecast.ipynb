{
 "cells": [
  {
   "cell_type": "markdown",
   "metadata": {
    "toc": true
   },
   "source": [
    "<h1>Содержание<span class=\"tocSkip\"></span></h1>\n",
    "<div class=\"toc\"><ul class=\"toc-item\"><li><span><a href=\"#Подготовка-данных\" data-toc-modified-id=\"Подготовка-данных-1\"><span class=\"toc-item-num\">1&nbsp;&nbsp;</span>Подготовка данных</a></span><ul class=\"toc-item\"><li><span><a href=\"#Откроем-и-изучим-файл\" data-toc-modified-id=\"Откроем-и-изучим-файл-1.1\"><span class=\"toc-item-num\">1.1&nbsp;&nbsp;</span>Откроем и изучим файл</a></span></li><li><span><a href=\"#Преобразуем-категориальные-признаки.\" data-toc-modified-id=\"Преобразуем-категориальные-признаки.-1.2\"><span class=\"toc-item-num\">1.2&nbsp;&nbsp;</span>Преобразуем категориальные признаки.</a></span></li><li><span><a href=\"#Разделим-данные-на--обучающую-(features_train,-target_train),-валидационную-(features_valid,-target_valid)-и-тестовую-(features_test,-target_test)-выборки,-а-также-масштабируем-числовые-признаки.\" data-toc-modified-id=\"Разделим-данные-на--обучающую-(features_train,-target_train),-валидационную-(features_valid,-target_valid)-и-тестовую-(features_test,-target_test)-выборки,-а-также-масштабируем-числовые-признаки.-1.3\"><span class=\"toc-item-num\">1.3&nbsp;&nbsp;</span>Разделим данные на  обучающую (features_train, target_train), валидационную (features_valid, target_valid) и тестовую (features_test, target_test) выборки, а также масштабируем числовые признаки.</a></span></li></ul></li><li><span><a href=\"#Исследование-задачи\" data-toc-modified-id=\"Исследование-задачи-2\"><span class=\"toc-item-num\">2&nbsp;&nbsp;</span>Исследование задачи</a></span><ul class=\"toc-item\"><li><span><a href=\"#Исследуем-баланс-классов.\" data-toc-modified-id=\"Исследуем-баланс-классов.-2.1\"><span class=\"toc-item-num\">2.1&nbsp;&nbsp;</span>Исследуем баланс классов.</a></span></li><li><span><a href=\"#Обучение-моделей-RandomForestClassifier-и-LogisticRegression-без-учета-дисбаланса.\" data-toc-modified-id=\"Обучение-моделей-RandomForestClassifier-и-LogisticRegression-без-учета-дисбаланса.-2.2\"><span class=\"toc-item-num\">2.2&nbsp;&nbsp;</span>Обучение моделей RandomForestClassifier и LogisticRegression без учета дисбаланса.</a></span></li></ul></li><li><span><a href=\"#Борьба-с-дисбалансом\" data-toc-modified-id=\"Борьба-с-дисбалансом-3\"><span class=\"toc-item-num\">3&nbsp;&nbsp;</span>Борьба с дисбалансом</a></span><ul class=\"toc-item\"><li><span><a href=\"#Сделаем-объекты-редкого-класса-не-такими-редкими-в-данных,обучим-модели-на-основе-техники-upsampling-(от-англ.-up,-«вверх»;-sampling,-«выборка»).\" data-toc-modified-id=\"Сделаем-объекты-редкого-класса-не-такими-редкими-в-данных,обучим-модели-на-основе-техники-upsampling-(от-англ.-up,-«вверх»;-sampling,-«выборка»).-3.1\"><span class=\"toc-item-num\">3.1&nbsp;&nbsp;</span>Сделаем объекты редкого класса не такими редкими в данных,обучим модели на основе техники upsampling (от англ. up, «вверх»; sampling, «выборка»).</a></span></li><li><span><a href=\"#Cделаем-объекты-частого-класса-не-такими-частыми,обучим-модели-на-основе-техники-downsampling-(от-англ.-down-—-«вниз»;-sampling-—-«выборка»)\" data-toc-modified-id=\"Cделаем-объекты-частого-класса-не-такими-частыми,обучим-модели-на-основе-техники-downsampling-(от-англ.-down-—-«вниз»;-sampling-—-«выборка»)-3.2\"><span class=\"toc-item-num\">3.2&nbsp;&nbsp;</span>Cделаем объекты частого класса не такими частыми,обучим модели на основе техники downsampling (от англ. down — «вниз»; sampling — «выборка»)</a></span></li></ul></li><li><span><a href=\"#Тестирование-модели\" data-toc-modified-id=\"Тестирование-модели-4\"><span class=\"toc-item-num\">4&nbsp;&nbsp;</span>Тестирование модели</a></span><ul class=\"toc-item\"><li><span><a href=\"#Тестирование-модели,обученной-на-основе-техники-upsampling.\" data-toc-modified-id=\"Тестирование-модели,обученной-на-основе-техники-upsampling.-4.1\"><span class=\"toc-item-num\">4.1&nbsp;&nbsp;</span>Тестирование модели,обученной на основе техники upsampling.</a></span></li><li><span><a href=\"#Тестирование-модели,обученной-на-основе-техники-downsampling.\" data-toc-modified-id=\"Тестирование-модели,обученной-на-основе-техники-downsampling.-4.2\"><span class=\"toc-item-num\">4.2&nbsp;&nbsp;</span>Тестирование модели,обученной на основе техники downsampling.</a></span></li></ul></li><li><span><a href=\"#Чек-лист-готовности-проекта\" data-toc-modified-id=\"Чек-лист-готовности-проекта-5\"><span class=\"toc-item-num\">5&nbsp;&nbsp;</span>Чек-лист готовности проекта</a></span></li></ul></div>"
   ]
  },
  {
   "cell_type": "markdown",
   "metadata": {},
   "source": [
    "# **<p style=\"text-align: center;\">Отток клиентов.</p>**"
   ]
  },
  {
   "cell_type": "markdown",
   "metadata": {},
   "source": [
    "Из «Бета-Банка» стали уходить клиенты. Каждый месяц. Немного, но заметно. Банковские маркетологи посчитали: сохранять текущих клиентов дешевле, чем привлекать новых.\n",
    "\n",
    "В проекте нужно решить следующую задачу: спрогнозировать, уйдёт клиент из банка в ближайшее время или нет. В проекте предоставлены исторические данные о поведении клиентов и расторжении договоров с банком. \n",
    "\n",
    "Нужно построить модель с предельно большим значением *F1*-меры. \n",
    "\n",
    "Дополнительно нужно измерить *AUC-ROC*, сравнивая её значение с *F1*-мерой.\n",
    "\n",
    "Источник данных: [https://www.kaggle.com/barelydedicated/bank-customer-churn-modeling](https://www.kaggle.com/barelydedicated/bank-customer-churn-modeling)"
   ]
  },
  {
   "cell_type": "markdown",
   "metadata": {},
   "source": [
    "<img src=\"https://immigrantinvest.com/wp-content/uploads/2022/06/bank-reliability-rating-161138852.jpg\" alt=\"Bank\" width=\"30%\" height=\"30%\">"
   ]
  },
  {
   "cell_type": "markdown",
   "metadata": {},
   "source": [
    "## Подготовка данных"
   ]
  },
  {
   "cell_type": "code",
   "execution_count": 1,
   "metadata": {},
   "outputs": [
    {
     "name": "stdout",
     "output_type": "stream",
     "text": [
      "Requirement already satisfied: scikit-learn==1.1.3 in /opt/conda/lib/python3.9/site-packages (1.1.3)\n",
      "Requirement already satisfied: threadpoolctl>=2.0.0 in /opt/conda/lib/python3.9/site-packages (from scikit-learn==1.1.3) (3.1.0)\n",
      "Requirement already satisfied: numpy>=1.17.3 in /opt/conda/lib/python3.9/site-packages (from scikit-learn==1.1.3) (1.21.1)\n",
      "Requirement already satisfied: joblib>=1.0.0 in /opt/conda/lib/python3.9/site-packages (from scikit-learn==1.1.3) (1.1.0)\n",
      "Requirement already satisfied: scipy>=1.3.2 in /opt/conda/lib/python3.9/site-packages (from scikit-learn==1.1.3) (1.9.1)\n"
     ]
    }
   ],
   "source": [
    "!pip install scikit-learn==1.1.3"
   ]
  },
  {
   "cell_type": "code",
   "execution_count": 3,
   "metadata": {},
   "outputs": [],
   "source": [
    "import pandas as pd\n",
    "import matplotlib.pyplot as plt\n",
    "from sklearn.model_selection import train_test_split, GridSearchCV\n",
    "from sklearn.preprocessing import StandardScaler, OneHotEncoder\n",
    "from sklearn.ensemble import RandomForestClassifier\n",
    "from sklearn.linear_model import LogisticRegression\n",
    "from sklearn.metrics import f1_score, roc_auc_score, recall_score\n",
    "from sklearn.utils import shuffle\n",
    "from sklearn.impute import SimpleImputer\n",
    "from sklearn.dummy import DummyClassifier"
   ]
  },
  {
   "cell_type": "markdown",
   "metadata": {},
   "source": [
    "### Откроем и изучим файл"
   ]
  },
  {
   "cell_type": "code",
   "execution_count": 4,
   "metadata": {},
   "outputs": [
    {
     "data": {
      "text/html": [
       "<div>\n",
       "<style scoped>\n",
       "    .dataframe tbody tr th:only-of-type {\n",
       "        vertical-align: middle;\n",
       "    }\n",
       "\n",
       "    .dataframe tbody tr th {\n",
       "        vertical-align: top;\n",
       "    }\n",
       "\n",
       "    .dataframe thead th {\n",
       "        text-align: right;\n",
       "    }\n",
       "</style>\n",
       "<table border=\"1\" class=\"dataframe\">\n",
       "  <thead>\n",
       "    <tr style=\"text-align: right;\">\n",
       "      <th></th>\n",
       "      <th>RowNumber</th>\n",
       "      <th>CustomerId</th>\n",
       "      <th>Surname</th>\n",
       "      <th>CreditScore</th>\n",
       "      <th>Geography</th>\n",
       "      <th>Gender</th>\n",
       "      <th>Age</th>\n",
       "      <th>Tenure</th>\n",
       "      <th>Balance</th>\n",
       "      <th>NumOfProducts</th>\n",
       "      <th>HasCrCard</th>\n",
       "      <th>IsActiveMember</th>\n",
       "      <th>EstimatedSalary</th>\n",
       "      <th>Exited</th>\n",
       "    </tr>\n",
       "  </thead>\n",
       "  <tbody>\n",
       "    <tr>\n",
       "      <th>0</th>\n",
       "      <td>1</td>\n",
       "      <td>15634602</td>\n",
       "      <td>Hargrave</td>\n",
       "      <td>619</td>\n",
       "      <td>France</td>\n",
       "      <td>Female</td>\n",
       "      <td>42</td>\n",
       "      <td>2.0</td>\n",
       "      <td>0.00</td>\n",
       "      <td>1</td>\n",
       "      <td>1</td>\n",
       "      <td>1</td>\n",
       "      <td>101348.88</td>\n",
       "      <td>1</td>\n",
       "    </tr>\n",
       "    <tr>\n",
       "      <th>1</th>\n",
       "      <td>2</td>\n",
       "      <td>15647311</td>\n",
       "      <td>Hill</td>\n",
       "      <td>608</td>\n",
       "      <td>Spain</td>\n",
       "      <td>Female</td>\n",
       "      <td>41</td>\n",
       "      <td>1.0</td>\n",
       "      <td>83807.86</td>\n",
       "      <td>1</td>\n",
       "      <td>0</td>\n",
       "      <td>1</td>\n",
       "      <td>112542.58</td>\n",
       "      <td>0</td>\n",
       "    </tr>\n",
       "    <tr>\n",
       "      <th>2</th>\n",
       "      <td>3</td>\n",
       "      <td>15619304</td>\n",
       "      <td>Onio</td>\n",
       "      <td>502</td>\n",
       "      <td>France</td>\n",
       "      <td>Female</td>\n",
       "      <td>42</td>\n",
       "      <td>8.0</td>\n",
       "      <td>159660.80</td>\n",
       "      <td>3</td>\n",
       "      <td>1</td>\n",
       "      <td>0</td>\n",
       "      <td>113931.57</td>\n",
       "      <td>1</td>\n",
       "    </tr>\n",
       "    <tr>\n",
       "      <th>3</th>\n",
       "      <td>4</td>\n",
       "      <td>15701354</td>\n",
       "      <td>Boni</td>\n",
       "      <td>699</td>\n",
       "      <td>France</td>\n",
       "      <td>Female</td>\n",
       "      <td>39</td>\n",
       "      <td>1.0</td>\n",
       "      <td>0.00</td>\n",
       "      <td>2</td>\n",
       "      <td>0</td>\n",
       "      <td>0</td>\n",
       "      <td>93826.63</td>\n",
       "      <td>0</td>\n",
       "    </tr>\n",
       "    <tr>\n",
       "      <th>4</th>\n",
       "      <td>5</td>\n",
       "      <td>15737888</td>\n",
       "      <td>Mitchell</td>\n",
       "      <td>850</td>\n",
       "      <td>Spain</td>\n",
       "      <td>Female</td>\n",
       "      <td>43</td>\n",
       "      <td>2.0</td>\n",
       "      <td>125510.82</td>\n",
       "      <td>1</td>\n",
       "      <td>1</td>\n",
       "      <td>1</td>\n",
       "      <td>79084.10</td>\n",
       "      <td>0</td>\n",
       "    </tr>\n",
       "  </tbody>\n",
       "</table>\n",
       "</div>"
      ],
      "text/plain": [
       "   RowNumber  CustomerId   Surname  CreditScore Geography  Gender  Age  \\\n",
       "0          1    15634602  Hargrave          619    France  Female   42   \n",
       "1          2    15647311      Hill          608     Spain  Female   41   \n",
       "2          3    15619304      Onio          502    France  Female   42   \n",
       "3          4    15701354      Boni          699    France  Female   39   \n",
       "4          5    15737888  Mitchell          850     Spain  Female   43   \n",
       "\n",
       "   Tenure    Balance  NumOfProducts  HasCrCard  IsActiveMember  \\\n",
       "0     2.0       0.00              1          1               1   \n",
       "1     1.0   83807.86              1          0               1   \n",
       "2     8.0  159660.80              3          1               0   \n",
       "3     1.0       0.00              2          0               0   \n",
       "4     2.0  125510.82              1          1               1   \n",
       "\n",
       "   EstimatedSalary  Exited  \n",
       "0        101348.88       1  \n",
       "1        112542.58       0  \n",
       "2        113931.57       1  \n",
       "3         93826.63       0  \n",
       "4         79084.10       0  "
      ]
     },
     "execution_count": 4,
     "metadata": {},
     "output_type": "execute_result"
    }
   ],
   "source": [
    "churn_df = pd.read_csv('/datasets/Churn.csv')\n",
    "churn_df.head()"
   ]
  },
  {
   "cell_type": "code",
   "execution_count": 5,
   "metadata": {},
   "outputs": [],
   "source": [
    "churn_df.columns= churn_df.columns.str.lower()"
   ]
  },
  {
   "cell_type": "markdown",
   "metadata": {},
   "source": [
    "**Для удобства и легкочитабельности приведем название столбцов к нижнему регистру.**"
   ]
  },
  {
   "cell_type": "code",
   "execution_count": 6,
   "metadata": {},
   "outputs": [
    {
     "data": {
      "text/html": [
       "<div>\n",
       "<style scoped>\n",
       "    .dataframe tbody tr th:only-of-type {\n",
       "        vertical-align: middle;\n",
       "    }\n",
       "\n",
       "    .dataframe tbody tr th {\n",
       "        vertical-align: top;\n",
       "    }\n",
       "\n",
       "    .dataframe thead th {\n",
       "        text-align: right;\n",
       "    }\n",
       "</style>\n",
       "<table border=\"1\" class=\"dataframe\">\n",
       "  <thead>\n",
       "    <tr style=\"text-align: right;\">\n",
       "      <th></th>\n",
       "      <th>rownumber</th>\n",
       "      <th>customerid</th>\n",
       "      <th>surname</th>\n",
       "      <th>creditscore</th>\n",
       "      <th>geography</th>\n",
       "      <th>gender</th>\n",
       "      <th>age</th>\n",
       "      <th>tenure</th>\n",
       "      <th>balance</th>\n",
       "      <th>numofproducts</th>\n",
       "      <th>hascrcard</th>\n",
       "      <th>isactivemember</th>\n",
       "      <th>estimatedsalary</th>\n",
       "      <th>exited</th>\n",
       "    </tr>\n",
       "  </thead>\n",
       "  <tbody>\n",
       "    <tr>\n",
       "      <th>0</th>\n",
       "      <td>1</td>\n",
       "      <td>15634602</td>\n",
       "      <td>Hargrave</td>\n",
       "      <td>619</td>\n",
       "      <td>France</td>\n",
       "      <td>Female</td>\n",
       "      <td>42</td>\n",
       "      <td>2.0</td>\n",
       "      <td>0.00</td>\n",
       "      <td>1</td>\n",
       "      <td>1</td>\n",
       "      <td>1</td>\n",
       "      <td>101348.88</td>\n",
       "      <td>1</td>\n",
       "    </tr>\n",
       "    <tr>\n",
       "      <th>1</th>\n",
       "      <td>2</td>\n",
       "      <td>15647311</td>\n",
       "      <td>Hill</td>\n",
       "      <td>608</td>\n",
       "      <td>Spain</td>\n",
       "      <td>Female</td>\n",
       "      <td>41</td>\n",
       "      <td>1.0</td>\n",
       "      <td>83807.86</td>\n",
       "      <td>1</td>\n",
       "      <td>0</td>\n",
       "      <td>1</td>\n",
       "      <td>112542.58</td>\n",
       "      <td>0</td>\n",
       "    </tr>\n",
       "    <tr>\n",
       "      <th>2</th>\n",
       "      <td>3</td>\n",
       "      <td>15619304</td>\n",
       "      <td>Onio</td>\n",
       "      <td>502</td>\n",
       "      <td>France</td>\n",
       "      <td>Female</td>\n",
       "      <td>42</td>\n",
       "      <td>8.0</td>\n",
       "      <td>159660.80</td>\n",
       "      <td>3</td>\n",
       "      <td>1</td>\n",
       "      <td>0</td>\n",
       "      <td>113931.57</td>\n",
       "      <td>1</td>\n",
       "    </tr>\n",
       "    <tr>\n",
       "      <th>3</th>\n",
       "      <td>4</td>\n",
       "      <td>15701354</td>\n",
       "      <td>Boni</td>\n",
       "      <td>699</td>\n",
       "      <td>France</td>\n",
       "      <td>Female</td>\n",
       "      <td>39</td>\n",
       "      <td>1.0</td>\n",
       "      <td>0.00</td>\n",
       "      <td>2</td>\n",
       "      <td>0</td>\n",
       "      <td>0</td>\n",
       "      <td>93826.63</td>\n",
       "      <td>0</td>\n",
       "    </tr>\n",
       "    <tr>\n",
       "      <th>4</th>\n",
       "      <td>5</td>\n",
       "      <td>15737888</td>\n",
       "      <td>Mitchell</td>\n",
       "      <td>850</td>\n",
       "      <td>Spain</td>\n",
       "      <td>Female</td>\n",
       "      <td>43</td>\n",
       "      <td>2.0</td>\n",
       "      <td>125510.82</td>\n",
       "      <td>1</td>\n",
       "      <td>1</td>\n",
       "      <td>1</td>\n",
       "      <td>79084.10</td>\n",
       "      <td>0</td>\n",
       "    </tr>\n",
       "  </tbody>\n",
       "</table>\n",
       "</div>"
      ],
      "text/plain": [
       "   rownumber  customerid   surname  creditscore geography  gender  age  \\\n",
       "0          1    15634602  Hargrave          619    France  Female   42   \n",
       "1          2    15647311      Hill          608     Spain  Female   41   \n",
       "2          3    15619304      Onio          502    France  Female   42   \n",
       "3          4    15701354      Boni          699    France  Female   39   \n",
       "4          5    15737888  Mitchell          850     Spain  Female   43   \n",
       "\n",
       "   tenure    balance  numofproducts  hascrcard  isactivemember  \\\n",
       "0     2.0       0.00              1          1               1   \n",
       "1     1.0   83807.86              1          0               1   \n",
       "2     8.0  159660.80              3          1               0   \n",
       "3     1.0       0.00              2          0               0   \n",
       "4     2.0  125510.82              1          1               1   \n",
       "\n",
       "   estimatedsalary  exited  \n",
       "0        101348.88       1  \n",
       "1        112542.58       0  \n",
       "2        113931.57       1  \n",
       "3         93826.63       0  \n",
       "4         79084.10       0  "
      ]
     },
     "execution_count": 6,
     "metadata": {},
     "output_type": "execute_result"
    }
   ],
   "source": [
    "churn_df.head()"
   ]
  },
  {
   "cell_type": "code",
   "execution_count": 7,
   "metadata": {},
   "outputs": [],
   "source": [
    "churn_df = churn_df.drop('rownumber', axis=1)"
   ]
  },
  {
   "cell_type": "markdown",
   "metadata": {},
   "source": [
    "***Колонка \"rownumber\" представляет собой индекс строки в данных и несет информацию о порядке строк в исходном наборе данных. Эта колонка не является полезной для анализа или моделирования, поскольку ее значения могут быть сгенерированы автоматически и не представляют реальные характеристики или свойства клиентов.***"
   ]
  },
  {
   "cell_type": "code",
   "execution_count": 8,
   "metadata": {},
   "outputs": [],
   "source": [
    "churn_df.drop(['customerid', 'surname'], axis=1, inplace=True)"
   ]
  },
  {
   "cell_type": "markdown",
   "metadata": {},
   "source": [
    "\n",
    "Колонка customerid содержит уникальный идентификатор каждого клиента. Он не содержит никакой информации о поведении клиента или факторах, которые могут влиять на решение об уходе. Поэтому эту колонку удаляем без потери информации.\n",
    "\n",
    "Колонка surname содержит фамилии клиентов,которая также не является релевантной информацией для предсказания ухода клиента из банка. Фамилия обычно не связана с факторами, влияющими на решение клиента остаться или уйти из банка. Поэтому эта колонка также может быть удалена.\n",
    "\n",
    "Удаление этих колонок позволит сократить размер данных и упростить анализ, сосредоточившись на более значимых признаках, которые могут быть связаны с уходом клиента.\n"
   ]
  },
  {
   "cell_type": "code",
   "execution_count": 9,
   "metadata": {},
   "outputs": [
    {
     "name": "stdout",
     "output_type": "stream",
     "text": [
      "<class 'pandas.core.frame.DataFrame'>\n",
      "RangeIndex: 10000 entries, 0 to 9999\n",
      "Data columns (total 11 columns):\n",
      " #   Column           Non-Null Count  Dtype  \n",
      "---  ------           --------------  -----  \n",
      " 0   creditscore      10000 non-null  int64  \n",
      " 1   geography        10000 non-null  object \n",
      " 2   gender           10000 non-null  object \n",
      " 3   age              10000 non-null  int64  \n",
      " 4   tenure           9091 non-null   float64\n",
      " 5   balance          10000 non-null  float64\n",
      " 6   numofproducts    10000 non-null  int64  \n",
      " 7   hascrcard        10000 non-null  int64  \n",
      " 8   isactivemember   10000 non-null  int64  \n",
      " 9   estimatedsalary  10000 non-null  float64\n",
      " 10  exited           10000 non-null  int64  \n",
      "dtypes: float64(3), int64(6), object(2)\n",
      "memory usage: 859.5+ KB\n"
     ]
    }
   ],
   "source": [
    "churn_df.info()"
   ]
  },
  {
   "cell_type": "code",
   "execution_count": 10,
   "metadata": {},
   "outputs": [
    {
     "name": "stdout",
     "output_type": "stream",
     "text": [
      "Количество явных дубликатов: 0\n"
     ]
    }
   ],
   "source": [
    "duplicate_rows = churn_df.duplicated().sum()\n",
    "print(\"Количество явных дубликатов:\", duplicate_rows)"
   ]
  },
  {
   "cell_type": "code",
   "execution_count": 12,
   "metadata": {},
   "outputs": [
    {
     "data": {
      "text/html": [
       "<div>\n",
       "<style scoped>\n",
       "    .dataframe tbody tr th:only-of-type {\n",
       "        vertical-align: middle;\n",
       "    }\n",
       "\n",
       "    .dataframe tbody tr th {\n",
       "        vertical-align: top;\n",
       "    }\n",
       "\n",
       "    .dataframe thead th {\n",
       "        text-align: right;\n",
       "    }\n",
       "</style>\n",
       "<table border=\"1\" class=\"dataframe\">\n",
       "  <thead>\n",
       "    <tr style=\"text-align: right;\">\n",
       "      <th></th>\n",
       "      <th>count</th>\n",
       "      <th>unique</th>\n",
       "      <th>top</th>\n",
       "      <th>freq</th>\n",
       "      <th>mean</th>\n",
       "      <th>std</th>\n",
       "      <th>min</th>\n",
       "      <th>25%</th>\n",
       "      <th>50%</th>\n",
       "      <th>75%</th>\n",
       "      <th>max</th>\n",
       "    </tr>\n",
       "  </thead>\n",
       "  <tbody>\n",
       "    <tr>\n",
       "      <th>creditscore</th>\n",
       "      <td>10000.0</td>\n",
       "      <td>NaN</td>\n",
       "      <td>NaN</td>\n",
       "      <td>NaN</td>\n",
       "      <td>650.5288</td>\n",
       "      <td>96.653299</td>\n",
       "      <td>350.0</td>\n",
       "      <td>584.0</td>\n",
       "      <td>652.0</td>\n",
       "      <td>718.0</td>\n",
       "      <td>850.0</td>\n",
       "    </tr>\n",
       "    <tr>\n",
       "      <th>geography</th>\n",
       "      <td>10000</td>\n",
       "      <td>3</td>\n",
       "      <td>France</td>\n",
       "      <td>5014</td>\n",
       "      <td>NaN</td>\n",
       "      <td>NaN</td>\n",
       "      <td>NaN</td>\n",
       "      <td>NaN</td>\n",
       "      <td>NaN</td>\n",
       "      <td>NaN</td>\n",
       "      <td>NaN</td>\n",
       "    </tr>\n",
       "    <tr>\n",
       "      <th>gender</th>\n",
       "      <td>10000</td>\n",
       "      <td>2</td>\n",
       "      <td>Male</td>\n",
       "      <td>5457</td>\n",
       "      <td>NaN</td>\n",
       "      <td>NaN</td>\n",
       "      <td>NaN</td>\n",
       "      <td>NaN</td>\n",
       "      <td>NaN</td>\n",
       "      <td>NaN</td>\n",
       "      <td>NaN</td>\n",
       "    </tr>\n",
       "    <tr>\n",
       "      <th>age</th>\n",
       "      <td>10000.0</td>\n",
       "      <td>NaN</td>\n",
       "      <td>NaN</td>\n",
       "      <td>NaN</td>\n",
       "      <td>38.9218</td>\n",
       "      <td>10.487806</td>\n",
       "      <td>18.0</td>\n",
       "      <td>32.0</td>\n",
       "      <td>37.0</td>\n",
       "      <td>44.0</td>\n",
       "      <td>92.0</td>\n",
       "    </tr>\n",
       "    <tr>\n",
       "      <th>tenure</th>\n",
       "      <td>9091.0</td>\n",
       "      <td>NaN</td>\n",
       "      <td>NaN</td>\n",
       "      <td>NaN</td>\n",
       "      <td>4.99769</td>\n",
       "      <td>2.894723</td>\n",
       "      <td>0.0</td>\n",
       "      <td>2.0</td>\n",
       "      <td>5.0</td>\n",
       "      <td>7.0</td>\n",
       "      <td>10.0</td>\n",
       "    </tr>\n",
       "    <tr>\n",
       "      <th>balance</th>\n",
       "      <td>10000.0</td>\n",
       "      <td>NaN</td>\n",
       "      <td>NaN</td>\n",
       "      <td>NaN</td>\n",
       "      <td>76485.889288</td>\n",
       "      <td>62397.405202</td>\n",
       "      <td>0.0</td>\n",
       "      <td>0.0</td>\n",
       "      <td>97198.54</td>\n",
       "      <td>127644.24</td>\n",
       "      <td>250898.09</td>\n",
       "    </tr>\n",
       "    <tr>\n",
       "      <th>numofproducts</th>\n",
       "      <td>10000.0</td>\n",
       "      <td>NaN</td>\n",
       "      <td>NaN</td>\n",
       "      <td>NaN</td>\n",
       "      <td>1.5302</td>\n",
       "      <td>0.581654</td>\n",
       "      <td>1.0</td>\n",
       "      <td>1.0</td>\n",
       "      <td>1.0</td>\n",
       "      <td>2.0</td>\n",
       "      <td>4.0</td>\n",
       "    </tr>\n",
       "    <tr>\n",
       "      <th>hascrcard</th>\n",
       "      <td>10000.0</td>\n",
       "      <td>NaN</td>\n",
       "      <td>NaN</td>\n",
       "      <td>NaN</td>\n",
       "      <td>0.7055</td>\n",
       "      <td>0.45584</td>\n",
       "      <td>0.0</td>\n",
       "      <td>0.0</td>\n",
       "      <td>1.0</td>\n",
       "      <td>1.0</td>\n",
       "      <td>1.0</td>\n",
       "    </tr>\n",
       "    <tr>\n",
       "      <th>isactivemember</th>\n",
       "      <td>10000.0</td>\n",
       "      <td>NaN</td>\n",
       "      <td>NaN</td>\n",
       "      <td>NaN</td>\n",
       "      <td>0.5151</td>\n",
       "      <td>0.499797</td>\n",
       "      <td>0.0</td>\n",
       "      <td>0.0</td>\n",
       "      <td>1.0</td>\n",
       "      <td>1.0</td>\n",
       "      <td>1.0</td>\n",
       "    </tr>\n",
       "    <tr>\n",
       "      <th>estimatedsalary</th>\n",
       "      <td>10000.0</td>\n",
       "      <td>NaN</td>\n",
       "      <td>NaN</td>\n",
       "      <td>NaN</td>\n",
       "      <td>100090.239881</td>\n",
       "      <td>57510.492818</td>\n",
       "      <td>11.58</td>\n",
       "      <td>51002.11</td>\n",
       "      <td>100193.915</td>\n",
       "      <td>149388.2475</td>\n",
       "      <td>199992.48</td>\n",
       "    </tr>\n",
       "    <tr>\n",
       "      <th>exited</th>\n",
       "      <td>10000.0</td>\n",
       "      <td>NaN</td>\n",
       "      <td>NaN</td>\n",
       "      <td>NaN</td>\n",
       "      <td>0.2037</td>\n",
       "      <td>0.402769</td>\n",
       "      <td>0.0</td>\n",
       "      <td>0.0</td>\n",
       "      <td>0.0</td>\n",
       "      <td>0.0</td>\n",
       "      <td>1.0</td>\n",
       "    </tr>\n",
       "  </tbody>\n",
       "</table>\n",
       "</div>"
      ],
      "text/plain": [
       "                   count unique     top  freq           mean           std  \\\n",
       "creditscore      10000.0    NaN     NaN   NaN       650.5288     96.653299   \n",
       "geography          10000      3  France  5014            NaN           NaN   \n",
       "gender             10000      2    Male  5457            NaN           NaN   \n",
       "age              10000.0    NaN     NaN   NaN        38.9218     10.487806   \n",
       "tenure            9091.0    NaN     NaN   NaN        4.99769      2.894723   \n",
       "balance          10000.0    NaN     NaN   NaN   76485.889288  62397.405202   \n",
       "numofproducts    10000.0    NaN     NaN   NaN         1.5302      0.581654   \n",
       "hascrcard        10000.0    NaN     NaN   NaN         0.7055       0.45584   \n",
       "isactivemember   10000.0    NaN     NaN   NaN         0.5151      0.499797   \n",
       "estimatedsalary  10000.0    NaN     NaN   NaN  100090.239881  57510.492818   \n",
       "exited           10000.0    NaN     NaN   NaN         0.2037      0.402769   \n",
       "\n",
       "                   min       25%         50%          75%        max  \n",
       "creditscore      350.0     584.0       652.0        718.0      850.0  \n",
       "geography          NaN       NaN         NaN          NaN        NaN  \n",
       "gender             NaN       NaN         NaN          NaN        NaN  \n",
       "age               18.0      32.0        37.0         44.0       92.0  \n",
       "tenure             0.0       2.0         5.0          7.0       10.0  \n",
       "balance            0.0       0.0    97198.54    127644.24  250898.09  \n",
       "numofproducts      1.0       1.0         1.0          2.0        4.0  \n",
       "hascrcard          0.0       0.0         1.0          1.0        1.0  \n",
       "isactivemember     0.0       0.0         1.0          1.0        1.0  \n",
       "estimatedsalary  11.58  51002.11  100193.915  149388.2475  199992.48  \n",
       "exited             0.0       0.0         0.0          0.0        1.0  "
      ]
     },
     "execution_count": 12,
     "metadata": {},
     "output_type": "execute_result"
    }
   ],
   "source": [
    "churn_df.describe(include='all').T"
   ]
  },
  {
   "cell_type": "code",
   "execution_count": 13,
   "metadata": {},
   "outputs": [
    {
     "data": {
      "image/png": "[encoded data removed]",
      "text/plain": [
       "<Figure size 1440x1440 with 9 Axes>"
      ]
     },
     "metadata": {
      "needs_background": "light"
     },
     "output_type": "display_data"
    }
   ],
   "source": [
    "churn_df.hist(figsize=(20, 20))\n",
    "plt.tight_layout()\n",
    "plt.show()"
   ]
  },
  {
   "cell_type": "code",
   "execution_count": 14,
   "metadata": {},
   "outputs": [
    {
     "data": {
      "text/plain": [
       "count    9091.000000\n",
       "mean        4.997690\n",
       "std         2.894723\n",
       "min         0.000000\n",
       "25%         2.000000\n",
       "50%         5.000000\n",
       "75%         7.000000\n",
       "max        10.000000\n",
       "Name: tenure, dtype: float64"
      ]
     },
     "execution_count": 14,
     "metadata": {},
     "output_type": "execute_result"
    }
   ],
   "source": [
    "churn_df['tenure'].describe()"
   ]
  },
  {
   "cell_type": "markdown",
   "metadata": {},
   "source": [
    "***Пропуски в столбце \"tenure\" заменим на медианное значение.***\n",
    "\n",
    "**Признак tenure описывает, сколько лет клиент является клиентом банка. Этот признак имеет важное значение для нашей задачи прогнозирования ухода клиентов. Потеря этих данных может привести к искажению результатов и снижению качества модели. Анализ описательной статистики для столбца \"tenure\" показал, что медианное значение составляет 5 лет, а среднее значение около 4.998 лет.** \n",
    "\n",
    "**Замена пропусков медианой позволяет сохранить общую структуру данных, минимизируя влияние пропущенных значений.\n",
    "Выбор медианы вместо среднего значения также обусловлен тем, что столбец \"tenure\" представляет дискретные значения  и медиана будет более репрезентативной для такого типа данных.**"
   ]
  },
  {
   "cell_type": "code",
   "execution_count": 15,
   "metadata": {},
   "outputs": [],
   "source": [
    "median_tenure = churn_df['tenure'].median()\n",
    "churn_df['tenure'] = churn_df['tenure'].fillna(median_tenure)"
   ]
  },
  {
   "cell_type": "markdown",
   "metadata": {},
   "source": [
    "### Преобразуем категориальные признаки."
   ]
  },
  {
   "cell_type": "code",
   "execution_count": 16,
   "metadata": {},
   "outputs": [],
   "source": [
    "churn_df = pd.get_dummies(churn_df, columns=['geography', 'gender'])\n",
    "churn_df.columns= churn_df.columns.str.lower()\n",
    "churn_df.info()"
   ]
  },
  {
   "cell_type": "markdown",
   "metadata": {},
   "source": [
    "### Разделим данные на  обучающую (features_train, target_train), валидационную (features_valid, target_valid) и тестовую (features_test, target_test) выборки, а также масштабируем числовые признаки. \n"
   ]
  },
  {
   "cell_type": "code",
   "execution_count": 17,
   "metadata": {},
   "outputs": [
    {
     "name": "stdout",
     "output_type": "stream",
     "text": [
      "(6000, 10)\n",
      "(2000, 10)\n",
      "(2000, 10)\n"
     ]
    }
   ],
   "source": [
    "pd.options.mode.chained_assignment = None\n",
    "\n",
    "#features = churn_df.drop(['exited', 'customerid', 'surname'], axis=1)\n",
    "features = churn_df.drop(['exited'], axis=1)\n",
    "target = churn_df['exited']\n",
    "\n",
    "features_train_val, features_test, target_train_val, target_test = train_test_split(\n",
    "    features, target, test_size=0.2, random_state=12345)\n",
    "\n",
    "features_train, features_valid, target_train, target_valid = train_test_split(\n",
    "    features_train_val, target_train_val, test_size=0.25, random_state=12345)\n",
    "\n",
    "numeric_features = ['creditscore', 'age', 'tenure', 'balance', 'numofproducts', 'estimatedsalary']\n",
    "\n",
    "scaler = StandardScaler()\n",
    "features_train[numeric_features] = scaler.fit_transform(features_train[numeric_features])\n",
    "features_valid[numeric_features] = scaler.transform(features_valid[numeric_features])\n",
    "features_test[numeric_features] = scaler.transform(features_test[numeric_features])\n",
    "\n",
    "print(features_train.shape)\n",
    "print(features_valid.shape)\n",
    "print(features_test.shape)"
   ]
  },
  {
   "cell_type": "markdown",
   "metadata": {},
   "source": [
    "***В этом пункте проекта были выполнены разделение данных на обучающую, валидационную и тестовую выборки,пропорции выборок составляют 60% для обучающей выборки, 20% для валидационной и 20% тестовой выборок, а также выполнено масштабирование числовых признаков. Предупреждения SettingWithCopyWarning были подавлены. Размеры выборок были успешно выведены.***"
   ]
  },
  {
   "cell_type": "code",
   "execution_count": 18,
   "metadata": {},
   "outputs": [
    {
     "name": "stdout",
     "output_type": "stream",
     "text": [
      "(10000, 10)\n",
      "   geography_Germany  geography_Spain  gender_Male  creditscore       age  \\\n",
      "0                0.0              0.0          0.0          NaN       NaN   \n",
      "1                0.0              0.0          1.0    -0.453804  0.208244   \n",
      "2                1.0              0.0          1.0          NaN       NaN   \n",
      "3                0.0              0.0          0.0     0.484834  0.017370   \n",
      "4                0.0              0.0          0.0     2.042354  0.399118   \n",
      "\n",
      "     tenure   balance  numofproducts  estimatedsalary  exited  \n",
      "0       NaN       NaN            NaN              NaN       0  \n",
      "1 -1.454209  0.112379      -0.896909         0.219672       0  \n",
      "2       NaN       NaN            NaN              NaN       1  \n",
      "3 -1.454209 -1.232442       0.816929        -0.105924       0  \n",
      "4 -1.092511  0.781564      -0.896909        -0.362395       0  \n"
     ]
    }
   ],
   "source": [
    "encoder = OneHotEncoder(drop='first', sparse=False, handle_unknown='ignore')\n",
    "\n",
    "encoder.fit(pd.concat([features_train[['geography', 'gender']], features_valid[['geography', 'gender']], features_test[['geography', 'gender']]]))\n",
    "\n",
    "features_train_encoded = encoder.transform(features_train[['geography', 'gender']])\n",
    "features_valid_encoded = encoder.transform(features_valid[['geography', 'gender']])\n",
    "features_test_encoded = encoder.transform(features_test[['geography', 'gender']])\n",
    "\n",
    "encoded_column_names = encoder.get_feature_names_out(['geography', 'gender'])\n",
    "features_train_encoded = pd.DataFrame(features_train_encoded, columns=encoded_column_names)\n",
    "features_valid_encoded = pd.DataFrame(features_valid_encoded, columns=encoded_column_names)\n",
    "features_test_encoded = pd.DataFrame(features_test_encoded, columns=encoded_column_names)\n",
    "\n",
    "features_train_encoded[numeric_features] = features_train[numeric_features]\n",
    "features_valid_encoded[numeric_features] = features_valid[numeric_features]\n",
    "features_test_encoded[numeric_features] = features_test[numeric_features]\n",
    "\n",
    "churn_df = pd.concat([features_train_encoded, features_valid_encoded, features_test_encoded], ignore_index=True)\n",
    "\n",
    "churn_df['exited'] = pd.concat([target_train, target_valid, target_test], ignore_index=True)\n",
    "\n",
    "print(churn_df.shape)\n",
    "print(churn_df.head())"
   ]
  },
  {
   "cell_type": "markdown",
   "metadata": {},
   "source": [
    "## Исследование задачи"
   ]
  },
  {
   "cell_type": "markdown",
   "metadata": {},
   "source": [
    "### Исследуем баланс классов."
   ]
  },
  {
   "cell_type": "code",
   "execution_count": 20,
   "metadata": {},
   "outputs": [
    {
     "name": "stdout",
     "output_type": "stream",
     "text": [
      "Количество объектов класса 0: 7963\n",
      "Количество объектов класса 1: 2037\n"
     ]
    }
   ],
   "source": [
    "class_counts = churn_df['exited'].value_counts()\n",
    "print(f\"Количество объектов класса 0: {class_counts[0]}\")\n",
    "print(f\"Количество объектов класса 1: {class_counts[1]}\")"
   ]
  },
  {
   "cell_type": "markdown",
   "metadata": {},
   "source": [
    "***После подсчета количества объектов каждого класса в целевой переменной \"exited\" — факт ухода клиента, можно сделать вывод, что наблюдается дисбаланс классов в целевой переменной. Количество объектов класса 0 превышает количество объектов класса 1 примерно в 4 раза. Это значительное расхождение может повлиять на процесс моделирования и интерпретацию результатов.***"
   ]
  },
  {
   "cell_type": "markdown",
   "metadata": {},
   "source": [
    "### Обучение моделей RandomForestClassifier и LogisticRegression без учета дисбаланса."
   ]
  },
  {
   "cell_type": "code",
   "execution_count": 22,
   "metadata": {},
   "outputs": [],
   "source": [
    "imputer = SimpleImputer(strategy='median')\n",
    "features_train_encoded = imputer.fit_transform(features_train_encoded)\n",
    "features_valid_encoded = imputer.transform(features_valid_encoded)\n",
    "features_test_encoded = imputer.transform(features_test_encoded)\n",
    "\n",
    "churn_df = pd.concat([pd.DataFrame(features_train_encoded), pd.DataFrame(features_valid_encoded), pd.DataFrame(features_test_encoded)], ignore_index=True)\n",
    "churn_df['exited'] = pd.concat([target_train, target_valid, target_test], ignore_index=True)"
   ]
  },
  {
   "cell_type": "code",
   "execution_count": 25,
   "metadata": {},
   "outputs": [
    {
     "name": "stdout",
     "output_type": "stream",
     "text": [
      "Лучшее значение F1-меры: 0.00\n",
      "Оптимальное значение параметра C: 0\n"
     ]
    }
   ],
   "source": [
    "best_f1_score = 0\n",
    "best_c = 0\n",
    "\n",
    "for c in [0.01, 0.1, 1, 10, 100]:\n",
    "    lg_model = LogisticRegression(random_state=12345, C=c)\n",
    "    lg_model.fit(features_train_encoded, target_train)\n",
    "    lg_predictions = lg_model.predict(features_valid_encoded)\n",
    "    f1 = f1_score(target_valid, lg_predictions)\n",
    "    if f1 > best_f1_score:\n",
    "        best_f1_score = f1\n",
    "        best_c = c\n",
    "\n",
    "print(f\"Лучшее значение F1-меры: {best_f1_score:.2f}\")\n",
    "print(f\"Оптимальное значение параметра C: {best_c}\")"
   ]
  },
  {
   "cell_type": "markdown",
   "metadata": {},
   "source": [
    "   В случае дисбаланса классов, метрика accuracy становится бесполезной для оценки производительности модели. Даже очень хорошая модель, которая правильно предсказывает положительный класс, может иметь такую же accuracy, как константная модель, которая всегда предсказывает доминирующий класс.\n",
    "\n",
    "Причина заключается в том, что accuracy не учитывает дисбаланс классов и склонна предпочитать модели, которые предсказывают доминирующий класс. Это объясняется тем, что доля объектов доминирующего класса в общем количестве объектов искажает общую точность предсказаний.\n",
    "\n",
    "Поэтому, при работе с дисбалансом классов, рекомендуется использовать соответствующие метрики, которые учитывают целевую метрику задачи, такую как F1-мера, для оценки качества модели."
   ]
  },
  {
   "cell_type": "markdown",
   "metadata": {},
   "source": [
    "***Модель логистической регрессии без учета дисбаланса классов так же показала accuracy на валидационной выборке равную 0.81. Это означает, что примерно 81% объектов были правильно классифицированы моделью. Однако, учитывая дисбаланс классов в исходных данных, accuracy недостаточно для эффективного предсказания меньшего класса. Необходимо учесть этот фактор при интерпретации результатов и выборе оптимальной модели.***"
   ]
  },
  {
   "cell_type": "markdown",
   "metadata": {},
   "source": [
    "## Борьба с дисбалансом"
   ]
  },
  {
   "cell_type": "markdown",
   "metadata": {},
   "source": [
    "### Сделаем объекты редкого класса не такими редкими в данных,обучим модели на основе техники upsampling (от англ. up, «вверх»; sampling, «выборка»)."
   ]
  },
  {
   "cell_type": "code",
   "execution_count": 27,
   "metadata": {},
   "outputs": [],
   "source": [
    "features_train_encoded = pd.get_dummies(features_train)\n",
    "features_valid_encoded = pd.get_dummies(features_valid)\n",
    "features_test_encoded = pd.get_dummies(features_test)\n",
    "\n",
    "def upsample(features, target, repeat):\n",
    "    features_zeros = features[target == 0]\n",
    "    features_ones = features[target == 1]\n",
    "    target_zeros = target[target == 0]\n",
    "    target_ones = target[target == 1]\n",
    "\n",
    "    features_upsampled = pd.concat([features_zeros] + [features_ones] * repeat)\n",
    "    target_upsampled = pd.concat([target_zeros] + [target_ones] * repeat)\n",
    "\n",
    "    features_upsampled, target_upsampled = shuffle(features_upsampled, target_upsampled, random_state=12345)\n",
    "\n",
    "    return features_upsampled, target_upsampled\n",
    "\n",
    "features_train_upsampled, target_train_upsampled = upsample(features_train, target_train, 4)"
   ]
  },
  {
   "cell_type": "markdown",
   "metadata": {},
   "source": [
    "\n",
    "    \n",
    "Этот код выполняет апсэмплинг классов. Он берет объекты класса 0 и объекты класса 1, создает повторяющиеся копии объектов класса 1 в соответствии с указанным коэффициентом repeat, а затем объединяет и перемешивает эти данные. Результатом являются увеличенные выборки features_train_upsampled и target_train_upsampled, где классы сбалансированы в соотношении 1:1."
   ]
  },
  {
   "cell_type": "code",
   "execution_count": 28,
   "metadata": {},
   "outputs": [
    {
     "name": "stdout",
     "output_type": "stream",
     "text": [
      "Лучшая модель:\n",
      "LogisticRegression(C=0.1, class_weight='balanced', penalty='l1',\n",
      "                   random_state=12345, solver='liblinear')\n",
      "Лучшее значение F1-меры: 0.48\n",
      "Площадь ROC-кривой на валидационной выборке: 0.7725787966982399\n"
     ]
    }
   ],
   "source": [
    "features_train_encoded = pd.get_dummies(features_train_upsampled)\n",
    "features_valid_encoded = pd.get_dummies(features_valid)\n",
    "features_test_encoded = pd.get_dummies(features_test)\n",
    "\n",
    "parameters = {'C': [0.01, 0.1, 1, 10, 100], 'penalty': ['l1', 'l2']}\n",
    "best_f1_score = 0\n",
    "best_model = None\n",
    "\n",
    "for c in parameters['C']:\n",
    "    for penalty in parameters['penalty']:\n",
    "        model = LogisticRegression(random_state=12345, solver='liblinear', class_weight='balanced', C=c, penalty=penalty)\n",
    "        model.fit(features_train_encoded, target_train_upsampled)\n",
    "\n",
    "        predicted_valid = model.predict(features_valid_encoded)\n",
    "        f1 = f1_score(target_valid, predicted_valid)\n",
    "\n",
    "        if f1 > best_f1_score:\n",
    "            best_f1_score = f1\n",
    "            best_model = model\n",
    "\n",
    "print(\"Лучшая модель:\")\n",
    "print(best_model)\n",
    "print(f\"Лучшее значение F1-меры: {best_f1_score:.2f}\")\n",
    "\n",
    "probabilities = model.predict_proba(features_valid_encoded)\n",
    "probabilities_one = probabilities[:, 1]\n",
    "print('Площадь ROC-кривой на валидационной выборке:', roc_auc_score(target_valid, probabilities_one))"
   ]
  },
  {
   "cell_type": "markdown",
   "metadata": {},
   "source": [
    "\n",
    "    \n",
    "Модель логистической регрессии с гиперпараметрами C=0.1, penalty='l1', и class_weight='balanced', показала значение F1-меры на валидационной выборке равное 0.48 и площадь ROC-кривой 0.77. Хотя ROC-AUC величина уже неплохая,все же не достигнуто целевого значения F1-меры в 0.59."
   ]
  },
  {
   "cell_type": "code",
   "execution_count": 30,
   "metadata": {},
   "outputs": [
    {
     "name": "stdout",
     "output_type": "stream",
     "text": [
      "Лучшее значение F1-меры: 0.6033653846153847\n",
      "Лучшая модель RandomForestClassifier: RandomForestClassifier(max_depth=15, min_samples_leaf=4, random_state=12345)\n",
      "Площадь ROC-кривой на валидационной выборке: 0.85047820841526\n"
     ]
    }
   ],
   "source": [
    "best_f1_score = 0\n",
    "best_rf_model = None\n",
    "\n",
    "for n_estimators in [60, 80, 100]:\n",
    "    for max_depth in [5, 10, 15]:\n",
    "        for min_samples_split in [2, 5]:\n",
    "            for min_samples_leaf in [2, 4]:\n",
    "                rf_model = RandomForestClassifier(random_state=12345, n_estimators=n_estimators, max_depth=max_depth,\n",
    "                                               min_samples_split=min_samples_split, min_samples_leaf=min_samples_leaf)\n",
    "                rf_model.fit(features_train_encoded, target_train_upsampled)\n",
    "                predicted_valid = rf_model.predict(features_valid_encoded)\n",
    "                f1 = f1_score(target_valid, predicted_valid)\n",
    "                if f1 > best_f1_score:\n",
    "                    best_f1_score = f1\n",
    "                    best_rf_model = rf_model\n",
    "\n",
    "print(\"Лучшее значение F1-меры:\", best_f1_score)\n",
    "print(\"Лучшая модель RandomForestClassifier:\", best_rf_model)\n",
    "probabilities = best_rf_model.predict_proba(features_valid_encoded)\n",
    "probabilities_one = probabilities[:, 1]\n",
    "roc_auc = roc_auc_score(target_valid, probabilities_one)\n",
    "print(\"Площадь ROC-кривой на валидационной выборке:\", roc_auc)"
   ]
  },
  {
   "cell_type": "markdown",
   "metadata": {},
   "source": [
    "\n",
    "Успешно проведя подбор параметров для модели RandomForestClassifier с целью достижения максимального значения F1-меры. После перебора различных комбинаций параметров полученны  следующие результаты:\n",
    "\n",
    "Лучшее значение F1-меры: 0.6033653846153847\n",
    "Лучшая модель RandomForestClassifier: RandomForestClassifier(max_depth=15, min_samples_leaf=4, random_state=12345)\n",
    "Площадь ROC-кривой на валидационной выборке: 0.85047820841526\n",
    "Эти результаты указывают на то, что мы достигли требуемого значения F1-меры (0.59) и имеем модель с хорошей способностью классифицировать целевую переменную. ROC-кривая также демонстрирует хорошую производительность модели на валидационной выборке"
   ]
  },
  {
   "cell_type": "markdown",
   "metadata": {},
   "source": [
    "***Модель RandomForestClassifier является предпочтительным выбором для решения задачи, так как она обеспечивает лучшие результаты по метрикам F1-меры и AUC-ROC на валидационной выборке.***\n",
    "\n",
    "***Обе модели показали результаты лучше случайного угадывания, что свидетельствует о их способности к классификации данных. Модель RandomForestClassifier продемонстрировала лучшую производительность по обеим метрикам, превышая требуемое значение F1-меры (0.59). AUC-ROC метрика также подтверждает, что модель RandomForestClassifier лучше разделяет классы и имеет более высокую способность к предсказанию.***"
   ]
  },
  {
   "cell_type": "markdown",
   "metadata": {},
   "source": [
    "### Cделаем объекты частого класса не такими частыми,обучим модели на основе техники downsampling (от англ. down — «вниз»; sampling — «выборка»)"
   ]
  },
  {
   "cell_type": "code",
   "execution_count": 32,
   "metadata": {},
   "outputs": [],
   "source": [
    "def downsample(features, target):\n",
    "    features_zeros = features[target == 0]\n",
    "    features_ones = features[target == 1]\n",
    "    target_zeros = target[target == 0]\n",
    "    target_ones = target[target == 1]\n",
    "    target_ones_size = target_ones.shape[0]\n",
    "    target_zeros_size = target_zeros.shape[0]\n",
    "\n",
    "    features_zeros_downsampled = features_zeros.iloc[::4, :]\n",
    "    target_zeros_downsampled = target_zeros.iloc[::4]\n",
    "\n",
    "    features_downsampled = pd.concat([features_zeros_downsampled, features_ones])\n",
    "    target_downsampled = pd.concat([target_zeros_downsampled, target_ones])\n",
    "\n",
    "    features_downsampled, target_downsampled = shuffle(features_downsampled, target_downsampled, random_state=12345)\n",
    "\n",
    "    return features_downsampled, target_downsampled\n",
    "\n",
    "features_downsampled, target_downsampled = downsample(features_train, target_train)"
   ]
  },
  {
   "cell_type": "markdown",
   "metadata": {},
   "source": [
    "\n",
    "    \n",
    "В этом коде выбираем каждую четвертую строку из частого класса (класс 0) и комбинируем их с данными единичного класса (класс 1). Таким образом, добиваемся баланса классов 1:1. Данные также перемешиваются для сохранения случайности."
   ]
  },
  {
   "cell_type": "code",
   "execution_count": 35,
   "metadata": {},
   "outputs": [
    {
     "name": "stdout",
     "output_type": "stream",
     "text": [
      "Лучшая модель:\n",
      "LogisticRegression(C=0.01, class_weight='balanced', random_state=12345,\n",
      "                   solver='liblinear')\n",
      "Лучшее значение F1-меры: 0.48\n",
      "Площадь ROC-кривой на валидационной выборке: 0.7676846510755516\n"
     ]
    }
   ],
   "source": [
    "features_downsampled, target_downsampled = downsample(features_train, target_train)\n",
    "\n",
    "features_train_encoded = pd.get_dummies(features_downsampled)\n",
    "features_valid_encoded = pd.get_dummies(features_valid)\n",
    "features_test_encoded = pd.get_dummies(features_test)\n",
    "\n",
    "parameters = {'C': [0.01, 0.1, 1, 10, 100], 'penalty': ['l1', 'l2']}\n",
    "best_f1_score = 0\n",
    "best_model = None\n",
    "\n",
    "for c in parameters['C']:\n",
    "    for penalty in parameters['penalty']:\n",
    "        model = LogisticRegression(random_state=12345, solver='liblinear', class_weight='balanced', C=c, penalty=penalty)\n",
    "        model.fit(features_train_encoded, target_downsampled)\n",
    "\n",
    "        predicted_valid = model.predict(features_valid_encoded)\n",
    "        f1 = f1_score(target_valid, predicted_valid)\n",
    "\n",
    "        if f1 > best_f1_score:\n",
    "            best_f1_score = f1\n",
    "            best_model = model\n",
    "\n",
    "print(\"Лучшая модель:\")\n",
    "print(best_model)\n",
    "print(f\"Лучшее значение F1-меры: {best_f1_score:.2f}\")\n",
    "\n",
    "probabilities = best_model.predict_proba(features_valid_encoded)\n",
    "probabilities_one = probabilities[:, 1]\n",
    "roc_auc = roc_auc_score(target_valid, probabilities_one)\n",
    "print('Площадь ROC-кривой на валидационной выборке:', roc_auc)"
   ]
  },
  {
   "cell_type": "markdown",
   "metadata": {},
   "source": [
    "\n",
    "    \n",
    "Эти результаты говорят о том, что модель достигла некоторого уровня точности и способности к обнаружению положительного класса. Однако, стоит отметить, что F1-мера и площадь под ROC-кривой не являются очень высокими, что может указывать на неидеальную классификацию."
   ]
  },
  {
   "cell_type": "code",
   "execution_count": 36,
   "metadata": {},
   "outputs": [
    {
     "name": "stdout",
     "output_type": "stream",
     "text": [
      "Лучшее значение F1-меры: 0.5524542829643889\n",
      "Лучшая модель RandomForestClassifier: RandomForestClassifier(max_depth=15, min_samples_leaf=4, min_samples_split=5,\n",
      "                       random_state=12345)\n",
      "Площадь ROC-кривой на валидационной выборке: 0.843500196306263\n"
     ]
    }
   ],
   "source": [
    "best_f1_score = 0\n",
    "model_rfc = None\n",
    "\n",
    "for n_estimators in [60, 80, 100]:\n",
    "    for max_depth in [5, 10, 15]:\n",
    "        for min_samples_split in [2, 5]:\n",
    "            for min_samples_leaf in [2, 4]:\n",
    "                model_rfc = RandomForestClassifier(random_state=12345, n_estimators=n_estimators, max_depth=max_depth,\n",
    "                                               min_samples_split=min_samples_split, min_samples_leaf=min_samples_leaf)\n",
    "                model_rfc.fit(features_train_encoded, target_downsampled)\n",
    "                predicted_valid = model_rfc.predict(features_valid_encoded)\n",
    "                f1 = f1_score(target_valid, predicted_valid)\n",
    "                if f1 > best_f1_score:\n",
    "                    best_f1_score = f1\n",
    "                    model_rfc = model_rfc\n",
    "\n",
    "print(\"Лучшее значение F1-меры:\", best_f1_score)\n",
    "print(\"Лучшая модель RandomForestClassifier:\", model_rfc)\n",
    "probabilities = model_rfc.predict_proba(features_valid_encoded)\n",
    "probabilities_one = probabilities[:, 1]\n",
    "roc_auc = roc_auc_score(target_valid, probabilities_one)\n",
    "print(\"Площадь ROC-кривой на валидационной выборке:\", roc_auc)"
   ]
  },
  {
   "cell_type": "markdown",
   "metadata": {},
   "source": [
    "    \n",
    "Исходя из проведенного анализа, лучшая модель RandomForestClassifier с параметрами max_depth=15 и min_samples_leaf=2 достигла значительного улучшения по сравнению с логистической регрессией. Значение F1-меры составило 0.552, что является достаточно хорошим результатом.Площадь под ROC-кривой на валидационной выборке равна 0.839, что говорит о хорошей разделимости классов моделью."
   ]
  },
  {
   "cell_type": "markdown",
   "metadata": {},
   "source": [
    "***Обе модели показывают сопоставимые результаты, но ни одна из них не достигает требуемого значения F1-меры 0.59. Несмотря на некоторое улучшение AUC-ROC для Random Forest, обе модели все еще страдают от недостаточной точности в определении положительного класса. Текущие модели и параметры не оптимальны для решения задачи сбалансированной классификации.***"
   ]
  },
  {
   "cell_type": "markdown",
   "metadata": {},
   "source": [
    "## Тестирование модели"
   ]
  },
  {
   "cell_type": "markdown",
   "metadata": {},
   "source": [
    "### Тестирование модели,обученной на основе техники upsampling."
   ]
  },
  {
   "cell_type": "code",
   "execution_count": 39,
   "metadata": {},
   "outputs": [
    {
     "name": "stdout",
     "output_type": "stream",
     "text": [
      "Значение F1-меры на тестовой выборке: 0.6329966329966329\n",
      "Площадь ROC-кривой на тестовой выборке: 0.8594996657589804\n"
     ]
    }
   ],
   "source": [
    "predicted_test = best_rf_model.predict(features_test_encoded)\n",
    "f1_test = f1_score(target_test, predicted_test)\n",
    "print(\"Значение F1-меры на тестовой выборке:\", f1_test)\n",
    "\n",
    "probabilities_test = best_rf_model.predict_proba(features_test_encoded)\n",
    "probabilities_one_test = probabilities_test[:, 1]\n",
    "roc_auc_test = roc_auc_score(target_test, probabilities_one_test)\n",
    "print(\"Площадь ROC-кривой на тестовой выборке:\", roc_auc_test)"
   ]
  },
  {
   "cell_type": "markdown",
   "metadata": {},
   "source": [
    "\n",
    "Эти значения говорят о том, что модель демонстрирует хорошую производительность на тестовой выборке, превышая требуемое значение метрики F1-меры 0.59. Площадь под ROC-кривой также является высокой, указывая на хорошую способность модели разделять классы.\n",
    "\n",
    "Можно сделать вывод, что модель RandomForestClassifier с параметрами max_depth=15, min_samples_leaf=4 и другими настроенными гиперпараметрами демонстрирует достаточно хорошие результаты на тестовой выборке."
   ]
  },
  {
   "cell_type": "markdown",
   "metadata": {},
   "source": [
    "### Тестирование модели,обученной на основе техники downsampling."
   ]
  },
  {
   "cell_type": "code",
   "execution_count": 42,
   "metadata": {},
   "outputs": [
    {
     "name": "stdout",
     "output_type": "stream",
     "text": [
      "F1-мера дамми-модели: 0.35\n"
     ]
    }
   ],
   "source": [
    "dummy_model = DummyClassifier(strategy='constant', constant=1)\n",
    "dummy_model.fit(features_train, target_train)\n",
    "dummy_predictions = dummy_model.predict(features_test)\n",
    "\n",
    "f1 = f1_score(target_test, dummy_predictions)\n",
    "print(f\"F1-мера дамми-модели: {f1:.2f}\")"
   ]
  },
  {
   "cell_type": "code",
   "execution_count": 43,
   "metadata": {},
   "outputs": [
    {
     "name": "stdout",
     "output_type": "stream",
     "text": [
      "Метрика recall на тестовой выборке: 0.66\n"
     ]
    }
   ],
   "source": [
    "recall = recall_score(target_test, predicted_test)\n",
    "print(f\"Метрика recall на тестовой выборке: {recall:.2f}\")"
   ]
  },
  {
   "cell_type": "markdown",
   "metadata": {},
   "source": [
    "### **<p style=\"text-align: center;\">Итоговый вывод.</p>**\n",
    "***В результате выполнения проекта мы построили модели, которые способны предсказывать уход клиентов из «Бета-Банка». Мы использовали две модели: логистическую регрессию и случайный лес, и обе они показали хорошие результаты.***\n",
    "\n",
    "***Модель случайного леса оказалась немного лучше в предсказании ухода клиентов. Она продемонстрировала высокие значения F1-меры и AUC-ROC как на валидационной выборке, так и на тестовой выборке. Это говорит о том, что модель хорошо обобщает данные и точно предсказывает уход клиентов.***\n",
    "\n",
    "***Использование модели случайного леса для прогнозирования ухода клиентов из банка поможет выявить потенциальных уходящих клиентов заранее и принять меры по их удержанию. В целом, модель поможет экономить ресурсы, так как удержание существующих клиентов обойдется дешевле, чем привлечение новых.***"
   ]
  }
 ],
 "metadata": {
  "ExecuteTimeLog": [
   {
    "duration": 13,
    "start_time": "2023-06-29T04:25:50.014Z"
   },
   {
    "duration": 419,
    "start_time": "2023-06-29T04:31:33.317Z"
   },
   {
    "duration": 113,
    "start_time": "2023-06-29T04:32:46.630Z"
   },
   {
    "duration": 16,
    "start_time": "2023-06-29T04:34:02.885Z"
   },
   {
    "duration": 5,
    "start_time": "2023-06-29T04:44:14.551Z"
   },
   {
    "duration": 83,
    "start_time": "2023-06-29T04:44:25.249Z"
   },
   {
    "duration": 9,
    "start_time": "2023-06-29T04:45:09.987Z"
   },
   {
    "duration": 418,
    "start_time": "2023-06-29T04:45:39.666Z"
   },
   {
    "duration": 59,
    "start_time": "2023-06-29T04:45:40.086Z"
   },
   {
    "duration": 4,
    "start_time": "2023-06-29T04:45:40.147Z"
   },
   {
    "duration": 40,
    "start_time": "2023-06-29T04:45:40.153Z"
   },
   {
    "duration": 22,
    "start_time": "2023-06-29T04:45:40.196Z"
   },
   {
    "duration": 12,
    "start_time": "2023-06-29T04:48:35.984Z"
   },
   {
    "duration": 84,
    "start_time": "2023-06-29T04:54:41.909Z"
   },
   {
    "duration": 15,
    "start_time": "2023-06-29T04:55:04.597Z"
   },
   {
    "duration": 53,
    "start_time": "2023-06-29T05:52:12.368Z"
   },
   {
    "duration": 400,
    "start_time": "2023-06-29T05:52:23.816Z"
   },
   {
    "duration": 64,
    "start_time": "2023-06-29T05:52:24.218Z"
   },
   {
    "duration": 4,
    "start_time": "2023-06-29T05:52:24.284Z"
   },
   {
    "duration": 43,
    "start_time": "2023-06-29T05:52:24.290Z"
   },
   {
    "duration": 46,
    "start_time": "2023-06-29T05:52:24.335Z"
   },
   {
    "duration": 22,
    "start_time": "2023-06-29T05:52:24.383Z"
   },
   {
    "duration": 38,
    "start_time": "2023-06-29T05:52:24.407Z"
   },
   {
    "duration": 83,
    "start_time": "2023-06-29T05:52:24.447Z"
   },
   {
    "duration": 400,
    "start_time": "2023-06-29T07:48:10.257Z"
   },
   {
    "duration": 185,
    "start_time": "2023-06-29T07:48:10.659Z"
   },
   {
    "duration": 4,
    "start_time": "2023-06-29T07:48:10.845Z"
   },
   {
    "duration": 26,
    "start_time": "2023-06-29T07:48:10.850Z"
   },
   {
    "duration": 21,
    "start_time": "2023-06-29T07:48:10.878Z"
   },
   {
    "duration": 20,
    "start_time": "2023-06-29T07:48:10.901Z"
   },
   {
    "duration": 16,
    "start_time": "2023-06-29T07:48:10.922Z"
   },
   {
    "duration": 60,
    "start_time": "2023-06-29T07:48:10.939Z"
   },
   {
    "duration": 406,
    "start_time": "2023-06-29T07:52:30.327Z"
   },
   {
    "duration": 1685,
    "start_time": "2023-06-29T07:53:14.134Z"
   },
   {
    "duration": 1395,
    "start_time": "2023-06-29T07:53:27.279Z"
   },
   {
    "duration": 1708,
    "start_time": "2023-06-29T07:53:42.661Z"
   },
   {
    "duration": 1768,
    "start_time": "2023-06-29T07:53:55.949Z"
   },
   {
    "duration": 11,
    "start_time": "2023-06-29T07:57:49.118Z"
   },
   {
    "duration": 75,
    "start_time": "2023-06-29T08:31:16.140Z"
   },
   {
    "duration": 6,
    "start_time": "2023-06-29T08:31:32.938Z"
   },
   {
    "duration": 13,
    "start_time": "2023-06-29T08:31:50.899Z"
   },
   {
    "duration": 255,
    "start_time": "2023-06-29T08:32:43.551Z"
   },
   {
    "duration": 258,
    "start_time": "2023-06-29T08:33:28.707Z"
   },
   {
    "duration": 147,
    "start_time": "2023-06-29T08:33:39.648Z"
   },
   {
    "duration": 155,
    "start_time": "2023-06-29T08:33:50.703Z"
   },
   {
    "duration": 647,
    "start_time": "2023-06-29T08:36:36.400Z"
   },
   {
    "duration": 52,
    "start_time": "2023-06-29T08:36:37.049Z"
   },
   {
    "duration": 4,
    "start_time": "2023-06-29T08:36:37.103Z"
   },
   {
    "duration": 26,
    "start_time": "2023-06-29T08:36:37.108Z"
   },
   {
    "duration": 25,
    "start_time": "2023-06-29T08:36:37.136Z"
   },
   {
    "duration": 13,
    "start_time": "2023-06-29T08:36:37.163Z"
   },
   {
    "duration": 12,
    "start_time": "2023-06-29T08:36:37.177Z"
   },
   {
    "duration": 37,
    "start_time": "2023-06-29T08:36:37.191Z"
   },
   {
    "duration": 1935,
    "start_time": "2023-06-29T08:36:37.230Z"
   },
   {
    "duration": 9,
    "start_time": "2023-06-29T08:36:39.167Z"
   },
   {
    "duration": 13,
    "start_time": "2023-06-29T08:36:39.178Z"
   },
   {
    "duration": 5,
    "start_time": "2023-06-29T08:46:16.451Z"
   },
   {
    "duration": 13,
    "start_time": "2023-06-29T08:46:29.908Z"
   },
   {
    "duration": 630,
    "start_time": "2023-06-29T08:49:11.133Z"
   },
   {
    "duration": 53,
    "start_time": "2023-06-29T08:49:11.765Z"
   },
   {
    "duration": 3,
    "start_time": "2023-06-29T08:49:11.819Z"
   },
   {
    "duration": 18,
    "start_time": "2023-06-29T08:49:11.824Z"
   },
   {
    "duration": 10,
    "start_time": "2023-06-29T08:49:11.844Z"
   },
   {
    "duration": 32,
    "start_time": "2023-06-29T08:49:11.856Z"
   },
   {
    "duration": 11,
    "start_time": "2023-06-29T08:49:11.889Z"
   },
   {
    "duration": 74,
    "start_time": "2023-06-29T08:49:11.901Z"
   },
   {
    "duration": 0,
    "start_time": "2023-06-29T08:49:11.976Z"
   },
   {
    "duration": 0,
    "start_time": "2023-06-29T08:49:11.978Z"
   },
   {
    "duration": 0,
    "start_time": "2023-06-29T08:49:11.979Z"
   },
   {
    "duration": 0,
    "start_time": "2023-06-29T08:49:11.980Z"
   },
   {
    "duration": 14,
    "start_time": "2023-06-29T08:49:49.923Z"
   },
   {
    "duration": 672,
    "start_time": "2023-06-29T08:50:02.125Z"
   },
   {
    "duration": 55,
    "start_time": "2023-06-29T08:50:02.798Z"
   },
   {
    "duration": 3,
    "start_time": "2023-06-29T08:50:02.855Z"
   },
   {
    "duration": 20,
    "start_time": "2023-06-29T08:50:02.860Z"
   },
   {
    "duration": 8,
    "start_time": "2023-06-29T08:50:02.882Z"
   },
   {
    "duration": 16,
    "start_time": "2023-06-29T08:50:02.891Z"
   },
   {
    "duration": 9,
    "start_time": "2023-06-29T08:50:02.908Z"
   },
   {
    "duration": 10,
    "start_time": "2023-06-29T08:50:02.919Z"
   },
   {
    "duration": 36,
    "start_time": "2023-06-29T08:50:02.930Z"
   },
   {
    "duration": 1897,
    "start_time": "2023-06-29T08:50:02.968Z"
   },
   {
    "duration": 9,
    "start_time": "2023-06-29T08:50:04.867Z"
   },
   {
    "duration": 12,
    "start_time": "2023-06-29T08:50:04.878Z"
   },
   {
    "duration": 12,
    "start_time": "2023-06-29T08:51:15.608Z"
   },
   {
    "duration": 84,
    "start_time": "2023-06-29T08:51:38.369Z"
   },
   {
    "duration": 698,
    "start_time": "2023-06-29T08:52:45.109Z"
   },
   {
    "duration": 54,
    "start_time": "2023-06-29T08:52:45.810Z"
   },
   {
    "duration": 3,
    "start_time": "2023-06-29T08:52:45.866Z"
   },
   {
    "duration": 16,
    "start_time": "2023-06-29T08:52:45.871Z"
   },
   {
    "duration": 9,
    "start_time": "2023-06-29T08:52:45.891Z"
   },
   {
    "duration": 23,
    "start_time": "2023-06-29T08:52:45.902Z"
   },
   {
    "duration": 13,
    "start_time": "2023-06-29T08:52:45.927Z"
   },
   {
    "duration": 25,
    "start_time": "2023-06-29T08:52:45.942Z"
   },
   {
    "duration": 38,
    "start_time": "2023-06-29T08:52:45.969Z"
   },
   {
    "duration": 1904,
    "start_time": "2023-06-29T08:52:46.009Z"
   },
   {
    "duration": 9,
    "start_time": "2023-06-29T08:52:47.915Z"
   },
   {
    "duration": 24,
    "start_time": "2023-06-29T08:52:47.926Z"
   },
   {
    "duration": 50,
    "start_time": "2023-06-29T08:52:47.952Z"
   },
   {
    "duration": 711,
    "start_time": "2023-06-29T08:54:10.450Z"
   },
   {
    "duration": 55,
    "start_time": "2023-06-29T08:54:11.163Z"
   },
   {
    "duration": 4,
    "start_time": "2023-06-29T08:54:11.219Z"
   },
   {
    "duration": 32,
    "start_time": "2023-06-29T08:54:11.225Z"
   },
   {
    "duration": 26,
    "start_time": "2023-06-29T08:54:11.260Z"
   },
   {
    "duration": 24,
    "start_time": "2023-06-29T08:54:11.287Z"
   },
   {
    "duration": 17,
    "start_time": "2023-06-29T08:54:11.313Z"
   },
   {
    "duration": 18,
    "start_time": "2023-06-29T08:54:11.332Z"
   },
   {
    "duration": 45,
    "start_time": "2023-06-29T08:54:11.351Z"
   },
   {
    "duration": 1828,
    "start_time": "2023-06-29T08:54:11.397Z"
   },
   {
    "duration": 10,
    "start_time": "2023-06-29T08:54:13.227Z"
   },
   {
    "duration": 6,
    "start_time": "2023-06-29T08:54:13.239Z"
   },
   {
    "duration": 39,
    "start_time": "2023-06-29T08:54:13.247Z"
   },
   {
    "duration": 780,
    "start_time": "2023-06-30T00:58:50.081Z"
   },
   {
    "duration": 100,
    "start_time": "2023-06-30T00:58:50.864Z"
   },
   {
    "duration": 4,
    "start_time": "2023-06-30T00:58:50.965Z"
   },
   {
    "duration": 37,
    "start_time": "2023-06-30T00:58:50.971Z"
   },
   {
    "duration": 11,
    "start_time": "2023-06-30T00:58:51.010Z"
   },
   {
    "duration": 22,
    "start_time": "2023-06-30T00:58:51.023Z"
   },
   {
    "duration": 13,
    "start_time": "2023-06-30T00:58:51.047Z"
   },
   {
    "duration": 12,
    "start_time": "2023-06-30T00:58:51.062Z"
   },
   {
    "duration": 66,
    "start_time": "2023-06-30T00:58:51.076Z"
   },
   {
    "duration": 1832,
    "start_time": "2023-06-30T00:58:51.145Z"
   },
   {
    "duration": 9,
    "start_time": "2023-06-30T00:58:52.978Z"
   },
   {
    "duration": 23,
    "start_time": "2023-06-30T00:58:52.988Z"
   },
   {
    "duration": 23,
    "start_time": "2023-06-30T00:58:53.013Z"
   },
   {
    "duration": 679,
    "start_time": "2023-06-30T01:13:43.249Z"
   },
   {
    "duration": 24,
    "start_time": "2023-06-30T01:36:31.826Z"
   },
   {
    "duration": 125,
    "start_time": "2023-06-30T01:36:48.391Z"
   },
   {
    "duration": 33,
    "start_time": "2023-06-30T01:38:03.882Z"
   },
   {
    "duration": 1297,
    "start_time": "2023-06-30T01:38:32.345Z"
   },
   {
    "duration": 66,
    "start_time": "2023-06-30T01:38:33.644Z"
   },
   {
    "duration": 3,
    "start_time": "2023-06-30T01:38:33.712Z"
   },
   {
    "duration": 29,
    "start_time": "2023-06-30T01:38:33.717Z"
   },
   {
    "duration": 7,
    "start_time": "2023-06-30T01:38:33.748Z"
   },
   {
    "duration": 18,
    "start_time": "2023-06-30T01:38:33.756Z"
   },
   {
    "duration": 10,
    "start_time": "2023-06-30T01:38:33.776Z"
   },
   {
    "duration": 42,
    "start_time": "2023-06-30T01:38:33.788Z"
   },
   {
    "duration": 38,
    "start_time": "2023-06-30T01:38:33.832Z"
   },
   {
    "duration": 1705,
    "start_time": "2023-06-30T01:38:33.872Z"
   },
   {
    "duration": 8,
    "start_time": "2023-06-30T01:38:35.578Z"
   },
   {
    "duration": 4,
    "start_time": "2023-06-30T01:38:35.588Z"
   },
   {
    "duration": 21,
    "start_time": "2023-06-30T01:38:35.594Z"
   },
   {
    "duration": 130,
    "start_time": "2023-06-30T01:38:35.618Z"
   },
   {
    "duration": 35,
    "start_time": "2023-06-30T01:39:32.446Z"
   },
   {
    "duration": 30,
    "start_time": "2023-06-30T01:40:52.445Z"
   },
   {
    "duration": 1228,
    "start_time": "2023-06-30T01:41:01.085Z"
   },
   {
    "duration": 58,
    "start_time": "2023-06-30T01:41:02.316Z"
   },
   {
    "duration": 3,
    "start_time": "2023-06-30T01:41:02.376Z"
   },
   {
    "duration": 33,
    "start_time": "2023-06-30T01:41:02.381Z"
   },
   {
    "duration": 11,
    "start_time": "2023-06-30T01:41:02.415Z"
   },
   {
    "duration": 35,
    "start_time": "2023-06-30T01:41:02.428Z"
   },
   {
    "duration": 28,
    "start_time": "2023-06-30T01:41:02.465Z"
   },
   {
    "duration": 17,
    "start_time": "2023-06-30T01:41:02.495Z"
   },
   {
    "duration": 63,
    "start_time": "2023-06-30T01:41:02.513Z"
   },
   {
    "duration": 1704,
    "start_time": "2023-06-30T01:41:02.577Z"
   },
   {
    "duration": 8,
    "start_time": "2023-06-30T01:41:04.282Z"
   },
   {
    "duration": 4,
    "start_time": "2023-06-30T01:41:04.291Z"
   },
   {
    "duration": 19,
    "start_time": "2023-06-30T01:41:04.296Z"
   },
   {
    "duration": 106,
    "start_time": "2023-06-30T01:41:04.317Z"
   },
   {
    "duration": 114,
    "start_time": "2023-06-30T01:41:27.347Z"
   },
   {
    "duration": 40,
    "start_time": "2023-06-30T01:44:06.505Z"
   },
   {
    "duration": 58,
    "start_time": "2023-06-30T01:45:04.676Z"
   },
   {
    "duration": 32,
    "start_time": "2023-06-30T01:50:05.376Z"
   },
   {
    "duration": 12,
    "start_time": "2023-06-30T01:55:35.753Z"
   },
   {
    "duration": 20,
    "start_time": "2023-06-30T01:56:56.305Z"
   },
   {
    "duration": 33,
    "start_time": "2023-06-30T02:00:00.401Z"
   },
   {
    "duration": 34,
    "start_time": "2023-06-30T02:01:48.994Z"
   },
   {
    "duration": 31,
    "start_time": "2023-06-30T02:03:16.177Z"
   },
   {
    "duration": 29,
    "start_time": "2023-06-30T02:05:35.959Z"
   },
   {
    "duration": 1499,
    "start_time": "2023-06-30T03:26:49.627Z"
   },
   {
    "duration": 120,
    "start_time": "2023-06-30T03:26:51.128Z"
   },
   {
    "duration": 3,
    "start_time": "2023-06-30T03:26:51.250Z"
   },
   {
    "duration": 15,
    "start_time": "2023-06-30T03:26:51.255Z"
   },
   {
    "duration": 6,
    "start_time": "2023-06-30T03:26:51.272Z"
   },
   {
    "duration": 17,
    "start_time": "2023-06-30T03:26:51.280Z"
   },
   {
    "duration": 32,
    "start_time": "2023-06-30T03:26:51.299Z"
   },
   {
    "duration": 13,
    "start_time": "2023-06-30T03:26:51.332Z"
   },
   {
    "duration": 32,
    "start_time": "2023-06-30T03:26:51.347Z"
   },
   {
    "duration": 1709,
    "start_time": "2023-06-30T03:26:51.381Z"
   },
   {
    "duration": 14,
    "start_time": "2023-06-30T03:26:53.092Z"
   },
   {
    "duration": 26,
    "start_time": "2023-06-30T03:26:53.117Z"
   },
   {
    "duration": 22,
    "start_time": "2023-06-30T03:26:53.144Z"
   },
   {
    "duration": 109,
    "start_time": "2023-06-30T03:26:53.169Z"
   },
   {
    "duration": 40,
    "start_time": "2023-06-30T03:31:00.120Z"
   },
   {
    "duration": 41,
    "start_time": "2023-06-30T03:36:15.531Z"
   },
   {
    "duration": 4,
    "start_time": "2023-06-30T03:50:11.053Z"
   },
   {
    "duration": 4,
    "start_time": "2023-06-30T03:55:48.869Z"
   },
   {
    "duration": 41,
    "start_time": "2023-06-30T04:03:52.815Z"
   },
   {
    "duration": 682,
    "start_time": "2023-06-30T04:04:17.233Z"
   },
   {
    "duration": 742,
    "start_time": "2023-06-30T04:06:59.012Z"
   },
   {
    "duration": 3,
    "start_time": "2023-06-30T04:15:35.906Z"
   },
   {
    "duration": 1735,
    "start_time": "2023-06-30T04:15:48.872Z"
   },
   {
    "duration": 50,
    "start_time": "2023-06-30T04:15:50.609Z"
   },
   {
    "duration": 3,
    "start_time": "2023-06-30T04:15:50.660Z"
   },
   {
    "duration": 13,
    "start_time": "2023-06-30T04:15:50.664Z"
   },
   {
    "duration": 4,
    "start_time": "2023-06-30T04:15:50.680Z"
   },
   {
    "duration": 11,
    "start_time": "2023-06-30T04:15:50.686Z"
   },
   {
    "duration": 9,
    "start_time": "2023-06-30T04:15:50.699Z"
   },
   {
    "duration": 10,
    "start_time": "2023-06-30T04:15:50.710Z"
   },
   {
    "duration": 30,
    "start_time": "2023-06-30T04:15:50.722Z"
   },
   {
    "duration": 1553,
    "start_time": "2023-06-30T04:15:50.753Z"
   },
   {
    "duration": 8,
    "start_time": "2023-06-30T04:15:52.307Z"
   },
   {
    "duration": 4,
    "start_time": "2023-06-30T04:15:52.317Z"
   },
   {
    "duration": 18,
    "start_time": "2023-06-30T04:15:52.322Z"
   },
   {
    "duration": 29,
    "start_time": "2023-06-30T04:15:52.342Z"
   },
   {
    "duration": 4,
    "start_time": "2023-06-30T04:15:52.372Z"
   },
   {
    "duration": 109,
    "start_time": "2023-06-30T04:15:52.400Z"
   },
   {
    "duration": 653,
    "start_time": "2023-06-30T04:17:05.708Z"
   },
   {
    "duration": 1327,
    "start_time": "2023-06-30T04:17:31.573Z"
   },
   {
    "duration": 50,
    "start_time": "2023-06-30T04:17:32.901Z"
   },
   {
    "duration": 3,
    "start_time": "2023-06-30T04:17:32.953Z"
   },
   {
    "duration": 13,
    "start_time": "2023-06-30T04:17:32.957Z"
   },
   {
    "duration": 17,
    "start_time": "2023-06-30T04:17:32.971Z"
   },
   {
    "duration": 13,
    "start_time": "2023-06-30T04:17:32.989Z"
   },
   {
    "duration": 9,
    "start_time": "2023-06-30T04:17:33.003Z"
   },
   {
    "duration": 9,
    "start_time": "2023-06-30T04:17:33.014Z"
   },
   {
    "duration": 32,
    "start_time": "2023-06-30T04:17:33.024Z"
   },
   {
    "duration": 1564,
    "start_time": "2023-06-30T04:17:33.058Z"
   },
   {
    "duration": 8,
    "start_time": "2023-06-30T04:17:34.623Z"
   },
   {
    "duration": 4,
    "start_time": "2023-06-30T04:17:34.632Z"
   },
   {
    "duration": 26,
    "start_time": "2023-06-30T04:17:34.637Z"
   },
   {
    "duration": 28,
    "start_time": "2023-06-30T04:17:34.665Z"
   },
   {
    "duration": 7,
    "start_time": "2023-06-30T04:17:34.694Z"
   },
   {
    "duration": 635,
    "start_time": "2023-06-30T04:17:34.702Z"
   },
   {
    "duration": 355,
    "start_time": "2023-06-30T04:19:56.449Z"
   },
   {
    "duration": 1281,
    "start_time": "2023-06-30T04:20:34.843Z"
   },
   {
    "duration": 63,
    "start_time": "2023-06-30T04:20:36.126Z"
   },
   {
    "duration": 8,
    "start_time": "2023-06-30T04:20:36.192Z"
   },
   {
    "duration": 24,
    "start_time": "2023-06-30T04:20:36.202Z"
   },
   {
    "duration": 12,
    "start_time": "2023-06-30T04:20:36.228Z"
   },
   {
    "duration": 17,
    "start_time": "2023-06-30T04:20:36.242Z"
   },
   {
    "duration": 11,
    "start_time": "2023-06-30T04:20:36.260Z"
   },
   {
    "duration": 12,
    "start_time": "2023-06-30T04:20:36.272Z"
   },
   {
    "duration": 40,
    "start_time": "2023-06-30T04:20:36.285Z"
   },
   {
    "duration": 1535,
    "start_time": "2023-06-30T04:20:36.327Z"
   },
   {
    "duration": 8,
    "start_time": "2023-06-30T04:20:37.865Z"
   },
   {
    "duration": 6,
    "start_time": "2023-06-30T04:20:37.874Z"
   },
   {
    "duration": 18,
    "start_time": "2023-06-30T04:20:37.881Z"
   },
   {
    "duration": 29,
    "start_time": "2023-06-30T04:20:37.901Z"
   },
   {
    "duration": 4,
    "start_time": "2023-06-30T04:20:37.932Z"
   },
   {
    "duration": 693,
    "start_time": "2023-06-30T04:20:37.937Z"
   },
   {
    "duration": 375,
    "start_time": "2023-06-30T04:20:38.632Z"
   },
   {
    "duration": 4,
    "start_time": "2023-06-30T04:32:42.303Z"
   },
   {
    "duration": 121,
    "start_time": "2023-06-30T04:34:09.380Z"
   },
   {
    "duration": 136,
    "start_time": "2023-06-30T04:38:41.913Z"
   },
   {
    "duration": 1315,
    "start_time": "2023-06-30T04:38:59.574Z"
   },
   {
    "duration": 54,
    "start_time": "2023-06-30T04:39:00.891Z"
   },
   {
    "duration": 17,
    "start_time": "2023-06-30T04:39:00.946Z"
   },
   {
    "duration": 46,
    "start_time": "2023-06-30T04:39:00.964Z"
   },
   {
    "duration": 52,
    "start_time": "2023-06-30T04:39:01.013Z"
   },
   {
    "duration": 70,
    "start_time": "2023-06-30T04:39:01.067Z"
   },
   {
    "duration": 48,
    "start_time": "2023-06-30T04:39:01.138Z"
   },
   {
    "duration": 50,
    "start_time": "2023-06-30T04:39:01.188Z"
   },
   {
    "duration": 89,
    "start_time": "2023-06-30T04:39:01.240Z"
   },
   {
    "duration": 1767,
    "start_time": "2023-06-30T04:39:01.331Z"
   },
   {
    "duration": 7,
    "start_time": "2023-06-30T04:39:03.100Z"
   },
   {
    "duration": 4,
    "start_time": "2023-06-30T04:39:03.109Z"
   },
   {
    "duration": 23,
    "start_time": "2023-06-30T04:39:03.114Z"
   },
   {
    "duration": 30,
    "start_time": "2023-06-30T04:39:03.139Z"
   },
   {
    "duration": 4,
    "start_time": "2023-06-30T04:39:03.170Z"
   },
   {
    "duration": 716,
    "start_time": "2023-06-30T04:39:03.176Z"
   },
   {
    "duration": 208,
    "start_time": "2023-06-30T04:39:03.894Z"
   },
   {
    "duration": 288,
    "start_time": "2023-06-30T04:39:04.103Z"
   },
   {
    "duration": 4,
    "start_time": "2023-06-30T04:44:34.466Z"
   },
   {
    "duration": 3,
    "start_time": "2023-06-30T04:44:40.788Z"
   },
   {
    "duration": 9885,
    "start_time": "2023-06-30T04:45:42.126Z"
   },
   {
    "duration": 12395,
    "start_time": "2023-06-30T05:05:50.408Z"
   },
   {
    "duration": 25320,
    "start_time": "2023-06-30T05:08:35.891Z"
   },
   {
    "duration": 84962,
    "start_time": "2023-06-30T05:10:48.246Z"
   },
   {
    "duration": 25,
    "start_time": "2023-06-30T05:12:37.826Z"
   },
   {
    "duration": 1270,
    "start_time": "2023-06-30T05:13:46.342Z"
   },
   {
    "duration": 55,
    "start_time": "2023-06-30T05:13:47.615Z"
   },
   {
    "duration": 3,
    "start_time": "2023-06-30T05:13:47.672Z"
   },
   {
    "duration": 22,
    "start_time": "2023-06-30T05:13:47.676Z"
   },
   {
    "duration": 8,
    "start_time": "2023-06-30T05:13:47.700Z"
   },
   {
    "duration": 16,
    "start_time": "2023-06-30T05:13:47.709Z"
   },
   {
    "duration": 10,
    "start_time": "2023-06-30T05:13:47.726Z"
   },
   {
    "duration": 24,
    "start_time": "2023-06-30T05:13:47.737Z"
   },
   {
    "duration": 39,
    "start_time": "2023-06-30T05:13:47.762Z"
   },
   {
    "duration": 1556,
    "start_time": "2023-06-30T05:13:47.802Z"
   },
   {
    "duration": 10,
    "start_time": "2023-06-30T05:13:49.360Z"
   },
   {
    "duration": 6,
    "start_time": "2023-06-30T05:13:49.371Z"
   },
   {
    "duration": 29,
    "start_time": "2023-06-30T05:13:49.378Z"
   },
   {
    "duration": 47,
    "start_time": "2023-06-30T05:13:49.410Z"
   },
   {
    "duration": 5,
    "start_time": "2023-06-30T05:13:49.459Z"
   },
   {
    "duration": 661,
    "start_time": "2023-06-30T05:13:49.465Z"
   },
   {
    "duration": 81,
    "start_time": "2023-06-30T05:13:50.127Z"
   },
   {
    "duration": 12000,
    "start_time": "2023-06-30T05:13:50.210Z"
   },
   {
    "duration": 12135,
    "start_time": "2023-06-30T05:15:11.266Z"
   },
   {
    "duration": 1297,
    "start_time": "2023-06-30T05:21:59.707Z"
   },
   {
    "duration": 60,
    "start_time": "2023-06-30T05:22:01.007Z"
   },
   {
    "duration": 3,
    "start_time": "2023-06-30T05:22:01.068Z"
   },
   {
    "duration": 67,
    "start_time": "2023-06-30T05:22:01.073Z"
   },
   {
    "duration": 64,
    "start_time": "2023-06-30T05:22:01.141Z"
   },
   {
    "duration": 67,
    "start_time": "2023-06-30T05:22:01.206Z"
   },
   {
    "duration": 56,
    "start_time": "2023-06-30T05:22:01.274Z"
   },
   {
    "duration": 69,
    "start_time": "2023-06-30T05:22:01.331Z"
   },
   {
    "duration": 78,
    "start_time": "2023-06-30T05:22:01.402Z"
   },
   {
    "duration": 1768,
    "start_time": "2023-06-30T05:22:01.482Z"
   },
   {
    "duration": 10,
    "start_time": "2023-06-30T05:22:03.252Z"
   },
   {
    "duration": 43,
    "start_time": "2023-06-30T05:22:03.264Z"
   },
   {
    "duration": 55,
    "start_time": "2023-06-30T05:22:03.308Z"
   },
   {
    "duration": 31,
    "start_time": "2023-06-30T05:22:03.364Z"
   },
   {
    "duration": 71,
    "start_time": "2023-06-30T05:22:03.396Z"
   },
   {
    "duration": 721,
    "start_time": "2023-06-30T05:22:03.469Z"
   },
   {
    "duration": 115,
    "start_time": "2023-06-30T05:22:04.192Z"
   },
   {
    "duration": 11896,
    "start_time": "2023-06-30T05:22:04.312Z"
   },
   {
    "duration": 228570,
    "start_time": "2023-06-30T05:22:16.211Z"
   },
   {
    "duration": 5,
    "start_time": "2023-06-30T05:30:04.165Z"
   },
   {
    "duration": 416,
    "start_time": "2023-06-30T05:48:30.840Z"
   },
   {
    "duration": 976,
    "start_time": "2023-06-30T05:50:42.531Z"
   },
   {
    "duration": 2993,
    "start_time": "2023-06-30T05:53:36.334Z"
   },
   {
    "duration": 4,
    "start_time": "2023-06-30T05:54:27.803Z"
   },
   {
    "duration": 68162,
    "start_time": "2023-06-30T05:54:59.015Z"
   },
   {
    "duration": 11,
    "start_time": "2023-06-30T05:59:16.623Z"
   },
   {
    "duration": 105,
    "start_time": "2023-06-30T05:59:39.304Z"
   },
   {
    "duration": 992,
    "start_time": "2023-06-30T06:01:13.210Z"
   },
   {
    "duration": 957,
    "start_time": "2023-06-30T06:01:26.157Z"
   },
   {
    "duration": 25013,
    "start_time": "2023-06-30T06:05:15.891Z"
   },
   {
    "duration": 24255,
    "start_time": "2023-06-30T06:07:42.638Z"
   },
   {
    "duration": 274,
    "start_time": "2023-06-30T06:11:12.650Z"
   },
   {
    "duration": 51050,
    "start_time": "2023-06-30T06:15:06.002Z"
   },
   {
    "duration": 55549,
    "start_time": "2023-06-30T06:17:30.250Z"
   },
   {
    "duration": 1453,
    "start_time": "2023-06-30T06:21:47.499Z"
   },
   {
    "duration": 1318,
    "start_time": "2023-06-30T06:29:09.834Z"
   },
   {
    "duration": 69,
    "start_time": "2023-06-30T06:29:11.154Z"
   },
   {
    "duration": 4,
    "start_time": "2023-06-30T06:29:11.225Z"
   },
   {
    "duration": 24,
    "start_time": "2023-06-30T06:29:11.231Z"
   },
   {
    "duration": 7,
    "start_time": "2023-06-30T06:29:11.257Z"
   },
   {
    "duration": 17,
    "start_time": "2023-06-30T06:29:11.265Z"
   },
   {
    "duration": 26,
    "start_time": "2023-06-30T06:29:11.283Z"
   },
   {
    "duration": 12,
    "start_time": "2023-06-30T06:29:11.311Z"
   },
   {
    "duration": 32,
    "start_time": "2023-06-30T06:29:11.325Z"
   },
   {
    "duration": 1852,
    "start_time": "2023-06-30T06:29:11.359Z"
   },
   {
    "duration": 10,
    "start_time": "2023-06-30T06:29:13.213Z"
   },
   {
    "duration": 8,
    "start_time": "2023-06-30T06:29:13.224Z"
   },
   {
    "duration": 42,
    "start_time": "2023-06-30T06:29:13.233Z"
   },
   {
    "duration": 51,
    "start_time": "2023-06-30T06:29:13.279Z"
   },
   {
    "duration": 6,
    "start_time": "2023-06-30T06:29:13.331Z"
   },
   {
    "duration": 708,
    "start_time": "2023-06-30T06:29:13.338Z"
   },
   {
    "duration": 954,
    "start_time": "2023-06-30T06:29:14.047Z"
   },
   {
    "duration": 13220,
    "start_time": "2023-06-30T06:29:15.003Z"
   },
   {
    "duration": 252825,
    "start_time": "2023-06-30T06:29:28.300Z"
   },
   {
    "duration": 15,
    "start_time": "2023-06-30T06:33:41.129Z"
   },
   {
    "duration": 1864,
    "start_time": "2023-06-30T06:33:41.146Z"
   },
   {
    "duration": 60862,
    "start_time": "2023-06-30T06:33:43.012Z"
   },
   {
    "duration": 66,
    "start_time": "2023-06-30T06:43:57.564Z"
   },
   {
    "duration": 48,
    "start_time": "2023-06-30T06:46:18.418Z"
   },
   {
    "duration": 17,
    "start_time": "2023-06-30T06:46:56.152Z"
   },
   {
    "duration": 53,
    "start_time": "2023-06-30T06:46:59.399Z"
   },
   {
    "duration": 46,
    "start_time": "2023-06-30T06:48:26.731Z"
   },
   {
    "duration": 19,
    "start_time": "2023-06-30T06:57:22.075Z"
   },
   {
    "duration": 47,
    "start_time": "2023-06-30T06:58:07.497Z"
   },
   {
    "duration": 1498,
    "start_time": "2023-06-30T07:12:50.629Z"
   },
   {
    "duration": 53,
    "start_time": "2023-06-30T07:12:52.129Z"
   },
   {
    "duration": 3,
    "start_time": "2023-06-30T07:12:52.183Z"
   },
   {
    "duration": 48,
    "start_time": "2023-06-30T07:12:52.187Z"
   },
   {
    "duration": 16,
    "start_time": "2023-06-30T07:12:52.238Z"
   },
   {
    "duration": 91,
    "start_time": "2023-06-30T07:12:52.255Z"
   },
   {
    "duration": 46,
    "start_time": "2023-06-30T07:12:52.348Z"
   },
   {
    "duration": 52,
    "start_time": "2023-06-30T07:12:52.395Z"
   },
   {
    "duration": 38,
    "start_time": "2023-06-30T07:12:52.448Z"
   },
   {
    "duration": 1834,
    "start_time": "2023-06-30T07:12:52.487Z"
   },
   {
    "duration": 8,
    "start_time": "2023-06-30T07:12:54.326Z"
   },
   {
    "duration": 18,
    "start_time": "2023-06-30T07:12:54.336Z"
   },
   {
    "duration": 33,
    "start_time": "2023-06-30T07:12:54.356Z"
   },
   {
    "duration": 39,
    "start_time": "2023-06-30T07:12:54.391Z"
   },
   {
    "duration": 9,
    "start_time": "2023-06-30T07:12:54.432Z"
   },
   {
    "duration": 724,
    "start_time": "2023-06-30T07:12:54.442Z"
   },
   {
    "duration": 866,
    "start_time": "2023-06-30T07:12:55.167Z"
   },
   {
    "duration": 12206,
    "start_time": "2023-06-30T07:12:56.107Z"
   },
   {
    "duration": 255857,
    "start_time": "2023-06-30T07:13:08.330Z"
   },
   {
    "duration": 28,
    "start_time": "2023-06-30T07:17:24.189Z"
   },
   {
    "duration": 1584,
    "start_time": "2023-06-30T07:17:24.221Z"
   },
   {
    "duration": 58773,
    "start_time": "2023-06-30T07:17:25.806Z"
   },
   {
    "duration": 127,
    "start_time": "2023-06-30T07:18:24.580Z"
   },
   {
    "duration": 112,
    "start_time": "2023-06-30T07:18:24.708Z"
   },
   {
    "duration": 11,
    "start_time": "2023-06-30T07:18:24.821Z"
   },
   {
    "duration": 207,
    "start_time": "2023-06-30T07:18:24.834Z"
   },
   {
    "duration": 3464,
    "start_time": "2023-06-30T07:31:46.857Z"
   },
   {
    "duration": 98,
    "start_time": "2023-06-30T07:31:50.323Z"
   },
   {
    "duration": 4,
    "start_time": "2023-06-30T07:31:50.423Z"
   },
   {
    "duration": 75,
    "start_time": "2023-06-30T07:31:50.430Z"
   },
   {
    "duration": 15,
    "start_time": "2023-06-30T07:31:50.508Z"
   },
   {
    "duration": 17,
    "start_time": "2023-06-30T07:31:50.526Z"
   },
   {
    "duration": 14,
    "start_time": "2023-06-30T07:31:50.546Z"
   },
   {
    "duration": 16,
    "start_time": "2023-06-30T07:31:50.562Z"
   },
   {
    "duration": 47,
    "start_time": "2023-06-30T07:31:50.580Z"
   },
   {
    "duration": 2020,
    "start_time": "2023-06-30T07:31:50.651Z"
   },
   {
    "duration": 11,
    "start_time": "2023-06-30T07:31:52.673Z"
   },
   {
    "duration": 12,
    "start_time": "2023-06-30T07:31:52.686Z"
   },
   {
    "duration": 46,
    "start_time": "2023-06-30T07:31:52.700Z"
   },
   {
    "duration": 35,
    "start_time": "2023-06-30T07:31:52.748Z"
   },
   {
    "duration": 5,
    "start_time": "2023-06-30T07:31:52.785Z"
   },
   {
    "duration": 749,
    "start_time": "2023-06-30T07:31:52.792Z"
   },
   {
    "duration": 123,
    "start_time": "2023-06-30T07:31:53.543Z"
   },
   {
    "duration": 12500,
    "start_time": "2023-06-30T07:31:53.753Z"
   },
   {
    "duration": 257530,
    "start_time": "2023-06-30T07:32:06.255Z"
   },
   {
    "duration": 12,
    "start_time": "2023-06-30T07:36:23.787Z"
   },
   {
    "duration": 1756,
    "start_time": "2023-06-30T07:36:23.801Z"
   },
   {
    "duration": 66753,
    "start_time": "2023-06-30T07:36:25.560Z"
   },
   {
    "duration": 47,
    "start_time": "2023-06-30T07:37:32.315Z"
   },
   {
    "duration": 146,
    "start_time": "2023-06-30T07:37:32.367Z"
   },
   {
    "duration": 99,
    "start_time": "2023-06-30T07:37:32.553Z"
   },
   {
    "duration": 166,
    "start_time": "2023-06-30T07:37:32.658Z"
   },
   {
    "duration": 1554,
    "start_time": "2023-07-02T03:53:38.333Z"
   },
   {
    "duration": 3,
    "start_time": "2023-07-02T03:55:07.662Z"
   },
   {
    "duration": 4,
    "start_time": "2023-07-02T03:55:12.525Z"
   },
   {
    "duration": 5,
    "start_time": "2023-07-02T04:20:12.732Z"
   },
   {
    "duration": 1321,
    "start_time": "2023-07-02T04:20:12.739Z"
   },
   {
    "duration": 118,
    "start_time": "2023-07-02T04:20:14.062Z"
   },
   {
    "duration": 4,
    "start_time": "2023-07-02T04:20:14.183Z"
   },
   {
    "duration": 19,
    "start_time": "2023-07-02T04:20:14.188Z"
   },
   {
    "duration": 9,
    "start_time": "2023-07-02T04:20:14.208Z"
   },
   {
    "duration": 4,
    "start_time": "2023-07-02T04:20:19.439Z"
   },
   {
    "duration": 22,
    "start_time": "2023-07-02T04:20:23.703Z"
   },
   {
    "duration": 20,
    "start_time": "2023-07-02T04:21:55.929Z"
   },
   {
    "duration": 10,
    "start_time": "2023-07-02T04:32:26.783Z"
   },
   {
    "duration": 3,
    "start_time": "2023-07-02T04:32:42.316Z"
   },
   {
    "duration": 1309,
    "start_time": "2023-07-02T04:32:42.321Z"
   },
   {
    "duration": 50,
    "start_time": "2023-07-02T04:32:43.631Z"
   },
   {
    "duration": 4,
    "start_time": "2023-07-02T04:32:43.682Z"
   },
   {
    "duration": 35,
    "start_time": "2023-07-02T04:32:43.688Z"
   },
   {
    "duration": 12,
    "start_time": "2023-07-02T04:32:43.724Z"
   },
   {
    "duration": 5,
    "start_time": "2023-07-02T04:32:43.737Z"
   },
   {
    "duration": 17,
    "start_time": "2023-07-02T04:32:43.744Z"
   },
   {
    "duration": 10,
    "start_time": "2023-07-02T04:32:51.811Z"
   },
   {
    "duration": 126,
    "start_time": "2023-07-02T04:32:54.097Z"
   },
   {
    "duration": 3,
    "start_time": "2023-07-02T04:33:57.211Z"
   },
   {
    "duration": 32,
    "start_time": "2023-07-02T04:51:53.226Z"
   },
   {
    "duration": 35,
    "start_time": "2023-07-02T04:52:34.889Z"
   },
   {
    "duration": 1436,
    "start_time": "2023-07-02T04:53:08.190Z"
   },
   {
    "duration": 7,
    "start_time": "2023-07-02T04:53:15.146Z"
   },
   {
    "duration": 4,
    "start_time": "2023-07-02T04:53:20.500Z"
   },
   {
    "duration": 16,
    "start_time": "2023-07-02T04:55:57.853Z"
   },
   {
    "duration": 6711,
    "start_time": "2023-07-02T05:07:42.722Z"
   },
   {
    "duration": 4,
    "start_time": "2023-07-02T05:10:20.058Z"
   },
   {
    "duration": 30,
    "start_time": "2023-07-02T05:11:44.196Z"
   },
   {
    "duration": 2091,
    "start_time": "2023-07-02T05:11:57.862Z"
   },
   {
    "duration": 2,
    "start_time": "2023-07-02T05:11:59.955Z"
   },
   {
    "duration": 1381,
    "start_time": "2023-07-02T05:11:59.959Z"
   },
   {
    "duration": 53,
    "start_time": "2023-07-02T05:12:01.342Z"
   },
   {
    "duration": 3,
    "start_time": "2023-07-02T05:12:01.397Z"
   },
   {
    "duration": 55,
    "start_time": "2023-07-02T05:12:01.401Z"
   },
   {
    "duration": 36,
    "start_time": "2023-07-02T05:12:01.457Z"
   },
   {
    "duration": 63,
    "start_time": "2023-07-02T05:12:01.494Z"
   },
   {
    "duration": 40,
    "start_time": "2023-07-02T05:12:01.558Z"
   },
   {
    "duration": 49,
    "start_time": "2023-07-02T05:12:01.600Z"
   },
   {
    "duration": 41,
    "start_time": "2023-07-02T05:12:01.650Z"
   },
   {
    "duration": 74,
    "start_time": "2023-07-02T05:12:01.692Z"
   },
   {
    "duration": 1443,
    "start_time": "2023-07-02T05:12:01.767Z"
   },
   {
    "duration": 8,
    "start_time": "2023-07-02T05:12:03.212Z"
   },
   {
    "duration": 5,
    "start_time": "2023-07-02T05:12:03.222Z"
   },
   {
    "duration": 21,
    "start_time": "2023-07-02T05:12:03.228Z"
   },
   {
    "duration": 30,
    "start_time": "2023-07-02T05:12:09.210Z"
   },
   {
    "duration": 460,
    "start_time": "2023-07-02T05:26:05.775Z"
   },
   {
    "duration": 1940,
    "start_time": "2023-07-02T05:26:48.287Z"
   },
   {
    "duration": 3,
    "start_time": "2023-07-02T05:26:50.229Z"
   },
   {
    "duration": 1070,
    "start_time": "2023-07-02T05:26:50.234Z"
   },
   {
    "duration": 53,
    "start_time": "2023-07-02T05:26:51.305Z"
   },
   {
    "duration": 4,
    "start_time": "2023-07-02T05:26:51.360Z"
   },
   {
    "duration": 18,
    "start_time": "2023-07-02T05:26:51.366Z"
   },
   {
    "duration": 5,
    "start_time": "2023-07-02T05:26:51.386Z"
   },
   {
    "duration": 5,
    "start_time": "2023-07-02T05:26:51.393Z"
   },
   {
    "duration": 15,
    "start_time": "2023-07-02T05:26:51.400Z"
   },
   {
    "duration": 10,
    "start_time": "2023-07-02T05:26:51.417Z"
   },
   {
    "duration": 2,
    "start_time": "2023-07-02T05:26:51.429Z"
   },
   {
    "duration": 68,
    "start_time": "2023-07-02T05:26:51.433Z"
   },
   {
    "duration": 1459,
    "start_time": "2023-07-02T05:26:51.503Z"
   },
   {
    "duration": 10,
    "start_time": "2023-07-02T05:26:52.965Z"
   },
   {
    "duration": 7,
    "start_time": "2023-07-02T05:26:52.976Z"
   },
   {
    "duration": 2,
    "start_time": "2023-07-02T05:26:52.985Z"
   },
   {
    "duration": 31,
    "start_time": "2023-07-02T05:26:52.989Z"
   },
   {
    "duration": 445,
    "start_time": "2023-07-02T05:26:53.022Z"
   },
   {
    "duration": 0,
    "start_time": "2023-07-02T05:26:53.469Z"
   },
   {
    "duration": 0,
    "start_time": "2023-07-02T05:26:53.470Z"
   },
   {
    "duration": 0,
    "start_time": "2023-07-02T05:26:53.471Z"
   },
   {
    "duration": 0,
    "start_time": "2023-07-02T05:26:53.472Z"
   },
   {
    "duration": 0,
    "start_time": "2023-07-02T05:26:53.473Z"
   },
   {
    "duration": 0,
    "start_time": "2023-07-02T05:26:53.474Z"
   },
   {
    "duration": 0,
    "start_time": "2023-07-02T05:26:53.475Z"
   },
   {
    "duration": 0,
    "start_time": "2023-07-02T05:26:53.476Z"
   },
   {
    "duration": 0,
    "start_time": "2023-07-02T05:26:53.477Z"
   },
   {
    "duration": 0,
    "start_time": "2023-07-02T05:26:53.478Z"
   },
   {
    "duration": 0,
    "start_time": "2023-07-02T05:26:53.479Z"
   },
   {
    "duration": 0,
    "start_time": "2023-07-02T05:26:53.480Z"
   },
   {
    "duration": 1995,
    "start_time": "2023-07-02T05:27:07.888Z"
   },
   {
    "duration": 2,
    "start_time": "2023-07-02T05:27:09.885Z"
   },
   {
    "duration": 1114,
    "start_time": "2023-07-02T05:27:09.889Z"
   },
   {
    "duration": 51,
    "start_time": "2023-07-02T05:27:11.005Z"
   },
   {
    "duration": 3,
    "start_time": "2023-07-02T05:27:11.057Z"
   },
   {
    "duration": 13,
    "start_time": "2023-07-02T05:27:11.061Z"
   },
   {
    "duration": 13,
    "start_time": "2023-07-02T05:27:11.075Z"
   },
   {
    "duration": 6,
    "start_time": "2023-07-02T05:27:11.090Z"
   },
   {
    "duration": 14,
    "start_time": "2023-07-02T05:27:11.098Z"
   },
   {
    "duration": 7,
    "start_time": "2023-07-02T05:27:11.114Z"
   },
   {
    "duration": 3,
    "start_time": "2023-07-02T05:27:11.123Z"
   },
   {
    "duration": 35,
    "start_time": "2023-07-02T05:27:11.128Z"
   },
   {
    "duration": 1365,
    "start_time": "2023-07-02T05:27:11.165Z"
   },
   {
    "duration": 8,
    "start_time": "2023-07-02T05:27:12.531Z"
   },
   {
    "duration": 4,
    "start_time": "2023-07-02T05:27:12.540Z"
   },
   {
    "duration": 5,
    "start_time": "2023-07-02T05:27:12.545Z"
   },
   {
    "duration": 40,
    "start_time": "2023-07-02T05:27:12.551Z"
   },
   {
    "duration": 424,
    "start_time": "2023-07-02T05:27:39.982Z"
   },
   {
    "duration": 26,
    "start_time": "2023-07-02T05:40:13.011Z"
   },
   {
    "duration": 1903,
    "start_time": "2023-07-02T06:27:09.249Z"
   },
   {
    "duration": 3,
    "start_time": "2023-07-02T06:27:11.154Z"
   },
   {
    "duration": 1088,
    "start_time": "2023-07-02T06:27:11.158Z"
   },
   {
    "duration": 57,
    "start_time": "2023-07-02T06:27:12.248Z"
   },
   {
    "duration": 3,
    "start_time": "2023-07-02T06:27:12.307Z"
   },
   {
    "duration": 13,
    "start_time": "2023-07-02T06:27:12.311Z"
   },
   {
    "duration": 5,
    "start_time": "2023-07-02T06:27:12.325Z"
   },
   {
    "duration": 6,
    "start_time": "2023-07-02T06:27:12.331Z"
   },
   {
    "duration": 13,
    "start_time": "2023-07-02T06:27:12.338Z"
   },
   {
    "duration": 7,
    "start_time": "2023-07-02T06:27:12.353Z"
   },
   {
    "duration": 2,
    "start_time": "2023-07-02T06:27:12.362Z"
   },
   {
    "duration": 62,
    "start_time": "2023-07-02T06:27:12.365Z"
   },
   {
    "duration": 1381,
    "start_time": "2023-07-02T06:27:12.429Z"
   },
   {
    "duration": 8,
    "start_time": "2023-07-02T06:27:13.813Z"
   },
   {
    "duration": 5,
    "start_time": "2023-07-02T06:27:13.823Z"
   },
   {
    "duration": 3,
    "start_time": "2023-07-02T06:27:13.829Z"
   },
   {
    "duration": 15,
    "start_time": "2023-07-02T06:27:13.834Z"
   },
   {
    "duration": 129,
    "start_time": "2023-07-02T06:27:20.868Z"
   },
   {
    "duration": 34,
    "start_time": "2023-07-02T06:29:55.337Z"
   },
   {
    "duration": 33,
    "start_time": "2023-07-02T06:29:59.356Z"
   },
   {
    "duration": 49,
    "start_time": "2023-07-02T06:31:49.111Z"
   },
   {
    "duration": 38,
    "start_time": "2023-07-02T06:33:44.912Z"
   },
   {
    "duration": 38,
    "start_time": "2023-07-02T06:35:33.174Z"
   },
   {
    "duration": 37,
    "start_time": "2023-07-02T06:43:13.564Z"
   },
   {
    "duration": 13,
    "start_time": "2023-07-02T06:44:13.418Z"
   },
   {
    "duration": 5,
    "start_time": "2023-07-02T06:44:38.230Z"
   },
   {
    "duration": 37,
    "start_time": "2023-07-02T06:47:23.028Z"
   },
   {
    "duration": 53,
    "start_time": "2023-07-02T07:17:04.191Z"
   },
   {
    "duration": 52,
    "start_time": "2023-07-02T07:26:49.192Z"
   },
   {
    "duration": 5,
    "start_time": "2023-07-02T07:28:35.565Z"
   },
   {
    "duration": 33,
    "start_time": "2023-07-02T07:36:12.936Z"
   },
   {
    "duration": 2089,
    "start_time": "2023-07-02T07:36:57.545Z"
   },
   {
    "duration": 4,
    "start_time": "2023-07-02T07:36:59.637Z"
   },
   {
    "duration": 1619,
    "start_time": "2023-07-02T07:36:59.642Z"
   },
   {
    "duration": 73,
    "start_time": "2023-07-02T07:37:01.263Z"
   },
   {
    "duration": 5,
    "start_time": "2023-07-02T07:37:01.339Z"
   },
   {
    "duration": 39,
    "start_time": "2023-07-02T07:37:01.345Z"
   },
   {
    "duration": 46,
    "start_time": "2023-07-02T07:37:01.385Z"
   },
   {
    "duration": 34,
    "start_time": "2023-07-02T07:37:01.433Z"
   },
   {
    "duration": 68,
    "start_time": "2023-07-02T07:37:01.469Z"
   },
   {
    "duration": 23,
    "start_time": "2023-07-02T07:37:01.539Z"
   },
   {
    "duration": 35,
    "start_time": "2023-07-02T07:37:01.564Z"
   },
   {
    "duration": 84,
    "start_time": "2023-07-02T07:37:01.606Z"
   },
   {
    "duration": 1621,
    "start_time": "2023-07-02T07:37:01.691Z"
   },
   {
    "duration": 9,
    "start_time": "2023-07-02T07:37:03.315Z"
   },
   {
    "duration": 4,
    "start_time": "2023-07-02T07:37:03.325Z"
   },
   {
    "duration": 6,
    "start_time": "2023-07-02T07:37:03.331Z"
   },
   {
    "duration": 34,
    "start_time": "2023-07-02T07:37:03.338Z"
   },
   {
    "duration": 54,
    "start_time": "2023-07-02T07:37:03.373Z"
   },
   {
    "duration": 4,
    "start_time": "2023-07-02T07:37:03.429Z"
   },
   {
    "duration": 13,
    "start_time": "2023-07-02T07:37:03.435Z"
   },
   {
    "duration": 118,
    "start_time": "2023-07-02T07:37:08.872Z"
   },
   {
    "duration": 15,
    "start_time": "2023-07-02T07:39:42.757Z"
   },
   {
    "duration": 7,
    "start_time": "2023-07-02T07:57:10.978Z"
   },
   {
    "duration": 5,
    "start_time": "2023-07-02T07:57:18.886Z"
   },
   {
    "duration": 8,
    "start_time": "2023-07-02T07:57:28.204Z"
   },
   {
    "duration": 44,
    "start_time": "2023-07-02T08:05:21.397Z"
   },
   {
    "duration": 8,
    "start_time": "2023-07-02T08:05:48.966Z"
   },
   {
    "duration": 17,
    "start_time": "2023-07-02T08:05:54.627Z"
   },
   {
    "duration": 16,
    "start_time": "2023-07-02T08:06:01.469Z"
   },
   {
    "duration": 18,
    "start_time": "2023-07-02T08:06:06.630Z"
   },
   {
    "duration": 2207,
    "start_time": "2023-07-02T08:06:39.234Z"
   },
   {
    "duration": 3,
    "start_time": "2023-07-02T08:06:41.443Z"
   },
   {
    "duration": 2240,
    "start_time": "2023-07-02T08:06:41.447Z"
   },
   {
    "duration": 116,
    "start_time": "2023-07-02T08:06:43.689Z"
   },
   {
    "duration": 9,
    "start_time": "2023-07-02T08:06:43.807Z"
   },
   {
    "duration": 35,
    "start_time": "2023-07-02T08:06:43.821Z"
   },
   {
    "duration": 23,
    "start_time": "2023-07-02T08:06:43.858Z"
   },
   {
    "duration": 52,
    "start_time": "2023-07-02T08:06:43.882Z"
   },
   {
    "duration": 30,
    "start_time": "2023-07-02T08:06:43.936Z"
   },
   {
    "duration": 25,
    "start_time": "2023-07-02T08:06:43.969Z"
   },
   {
    "duration": 42,
    "start_time": "2023-07-02T08:06:43.996Z"
   },
   {
    "duration": 73,
    "start_time": "2023-07-02T08:06:44.040Z"
   },
   {
    "duration": 1656,
    "start_time": "2023-07-02T08:06:44.114Z"
   },
   {
    "duration": 10,
    "start_time": "2023-07-02T08:06:45.772Z"
   },
   {
    "duration": 5,
    "start_time": "2023-07-02T08:06:45.783Z"
   },
   {
    "duration": 4,
    "start_time": "2023-07-02T08:06:45.790Z"
   },
   {
    "duration": 49,
    "start_time": "2023-07-02T08:06:45.795Z"
   },
   {
    "duration": 39,
    "start_time": "2023-07-02T08:06:45.846Z"
   },
   {
    "duration": 13,
    "start_time": "2023-07-02T08:06:45.886Z"
   },
   {
    "duration": 9,
    "start_time": "2023-07-02T08:06:45.909Z"
   },
   {
    "duration": 30,
    "start_time": "2023-07-02T08:06:45.924Z"
   },
   {
    "duration": 19,
    "start_time": "2023-07-02T08:06:45.955Z"
   },
   {
    "duration": 138,
    "start_time": "2023-07-02T08:06:53.236Z"
   },
   {
    "duration": 12,
    "start_time": "2023-07-02T08:11:03.755Z"
   },
   {
    "duration": 21,
    "start_time": "2023-07-02T08:11:18.959Z"
   },
   {
    "duration": 9,
    "start_time": "2023-07-02T08:11:25.045Z"
   },
   {
    "duration": 16,
    "start_time": "2023-07-02T08:11:29.253Z"
   },
   {
    "duration": 9,
    "start_time": "2023-07-02T08:20:49.563Z"
   },
   {
    "duration": 5,
    "start_time": "2023-07-02T08:21:04.460Z"
   },
   {
    "duration": 6,
    "start_time": "2023-07-02T08:21:15.170Z"
   },
   {
    "duration": 14,
    "start_time": "2023-07-02T08:21:22.448Z"
   },
   {
    "duration": 22,
    "start_time": "2023-07-02T08:21:27.635Z"
   },
   {
    "duration": 2124,
    "start_time": "2023-07-02T08:21:46.345Z"
   },
   {
    "duration": 3,
    "start_time": "2023-07-02T08:21:48.472Z"
   },
   {
    "duration": 1134,
    "start_time": "2023-07-02T08:21:48.476Z"
   },
   {
    "duration": 68,
    "start_time": "2023-07-02T08:21:49.615Z"
   },
   {
    "duration": 3,
    "start_time": "2023-07-02T08:21:49.684Z"
   },
   {
    "duration": 40,
    "start_time": "2023-07-02T08:21:49.689Z"
   },
   {
    "duration": 8,
    "start_time": "2023-07-02T08:21:49.731Z"
   },
   {
    "duration": 5,
    "start_time": "2023-07-02T08:21:49.741Z"
   },
   {
    "duration": 14,
    "start_time": "2023-07-02T08:21:49.748Z"
   },
   {
    "duration": 8,
    "start_time": "2023-07-02T08:21:49.764Z"
   },
   {
    "duration": 2,
    "start_time": "2023-07-02T08:21:49.773Z"
   },
   {
    "duration": 54,
    "start_time": "2023-07-02T08:21:49.777Z"
   },
   {
    "duration": 1450,
    "start_time": "2023-07-02T08:21:49.832Z"
   },
   {
    "duration": 9,
    "start_time": "2023-07-02T08:21:51.284Z"
   },
   {
    "duration": 15,
    "start_time": "2023-07-02T08:21:51.294Z"
   },
   {
    "duration": 10,
    "start_time": "2023-07-02T08:21:51.317Z"
   },
   {
    "duration": 35,
    "start_time": "2023-07-02T08:21:51.328Z"
   },
   {
    "duration": 64,
    "start_time": "2023-07-02T08:21:51.365Z"
   },
   {
    "duration": 6,
    "start_time": "2023-07-02T08:21:51.430Z"
   },
   {
    "duration": 9,
    "start_time": "2023-07-02T08:21:51.438Z"
   },
   {
    "duration": 9,
    "start_time": "2023-07-02T08:21:51.448Z"
   },
   {
    "duration": 3,
    "start_time": "2023-07-02T08:21:55.440Z"
   },
   {
    "duration": 115,
    "start_time": "2023-07-02T08:22:18.832Z"
   },
   {
    "duration": 2089,
    "start_time": "2023-07-02T08:24:00.666Z"
   },
   {
    "duration": 3,
    "start_time": "2023-07-02T08:24:02.758Z"
   },
   {
    "duration": 1193,
    "start_time": "2023-07-02T08:24:02.763Z"
   },
   {
    "duration": 61,
    "start_time": "2023-07-02T08:24:03.958Z"
   },
   {
    "duration": 4,
    "start_time": "2023-07-02T08:24:04.021Z"
   },
   {
    "duration": 21,
    "start_time": "2023-07-02T08:24:04.027Z"
   },
   {
    "duration": 7,
    "start_time": "2023-07-02T08:24:04.050Z"
   },
   {
    "duration": 12,
    "start_time": "2023-07-02T08:24:04.058Z"
   },
   {
    "duration": 16,
    "start_time": "2023-07-02T08:24:04.072Z"
   },
   {
    "duration": 11,
    "start_time": "2023-07-02T08:24:04.090Z"
   },
   {
    "duration": 11,
    "start_time": "2023-07-02T08:24:04.103Z"
   },
   {
    "duration": 49,
    "start_time": "2023-07-02T08:24:04.116Z"
   },
   {
    "duration": 1557,
    "start_time": "2023-07-02T08:24:04.166Z"
   },
   {
    "duration": 10,
    "start_time": "2023-07-02T08:24:05.727Z"
   },
   {
    "duration": 5,
    "start_time": "2023-07-02T08:24:05.739Z"
   },
   {
    "duration": 15,
    "start_time": "2023-07-02T08:24:05.746Z"
   },
   {
    "duration": 55,
    "start_time": "2023-07-02T08:24:05.762Z"
   },
   {
    "duration": 66,
    "start_time": "2023-07-02T08:24:05.819Z"
   },
   {
    "duration": 5,
    "start_time": "2023-07-02T08:24:05.886Z"
   },
   {
    "duration": 15,
    "start_time": "2023-07-02T08:24:05.904Z"
   },
   {
    "duration": 6,
    "start_time": "2023-07-02T08:24:09.256Z"
   },
   {
    "duration": 40,
    "start_time": "2023-07-02T08:26:14.986Z"
   },
   {
    "duration": 147,
    "start_time": "2023-07-02T08:26:19.436Z"
   },
   {
    "duration": 13,
    "start_time": "2023-07-02T08:26:23.336Z"
   },
   {
    "duration": 24,
    "start_time": "2023-07-02T08:26:27.853Z"
   },
   {
    "duration": 1980,
    "start_time": "2023-07-02T08:27:16.051Z"
   },
   {
    "duration": 3,
    "start_time": "2023-07-02T08:27:18.033Z"
   },
   {
    "duration": 1100,
    "start_time": "2023-07-02T08:27:18.038Z"
   },
   {
    "duration": 53,
    "start_time": "2023-07-02T08:27:19.140Z"
   },
   {
    "duration": 3,
    "start_time": "2023-07-02T08:27:19.195Z"
   },
   {
    "duration": 35,
    "start_time": "2023-07-02T08:27:19.201Z"
   },
   {
    "duration": 17,
    "start_time": "2023-07-02T08:27:19.237Z"
   },
   {
    "duration": 4,
    "start_time": "2023-07-02T08:27:19.255Z"
   },
   {
    "duration": 17,
    "start_time": "2023-07-02T08:27:19.260Z"
   },
   {
    "duration": 6,
    "start_time": "2023-07-02T08:27:19.279Z"
   },
   {
    "duration": 5,
    "start_time": "2023-07-02T08:27:19.287Z"
   },
   {
    "duration": 42,
    "start_time": "2023-07-02T08:27:19.294Z"
   },
   {
    "duration": 1429,
    "start_time": "2023-07-02T08:27:19.337Z"
   },
   {
    "duration": 7,
    "start_time": "2023-07-02T08:27:20.768Z"
   },
   {
    "duration": 14,
    "start_time": "2023-07-02T08:27:20.776Z"
   },
   {
    "duration": 29,
    "start_time": "2023-07-02T08:27:20.792Z"
   },
   {
    "duration": 36,
    "start_time": "2023-07-02T08:27:20.823Z"
   },
   {
    "duration": 58,
    "start_time": "2023-07-02T08:27:20.860Z"
   },
   {
    "duration": 5,
    "start_time": "2023-07-02T08:27:20.920Z"
   },
   {
    "duration": 10,
    "start_time": "2023-07-02T08:27:20.926Z"
   },
   {
    "duration": 8,
    "start_time": "2023-07-02T08:27:24.315Z"
   },
   {
    "duration": 115,
    "start_time": "2023-07-02T08:29:44.830Z"
   },
   {
    "duration": 2059,
    "start_time": "2023-07-02T08:30:46.731Z"
   },
   {
    "duration": 3,
    "start_time": "2023-07-02T08:30:48.792Z"
   },
   {
    "duration": 1145,
    "start_time": "2023-07-02T08:30:48.796Z"
   },
   {
    "duration": 53,
    "start_time": "2023-07-02T08:30:49.942Z"
   },
   {
    "duration": 12,
    "start_time": "2023-07-02T08:30:49.997Z"
   },
   {
    "duration": 22,
    "start_time": "2023-07-02T08:30:50.018Z"
   },
   {
    "duration": 10,
    "start_time": "2023-07-02T08:30:50.042Z"
   },
   {
    "duration": 13,
    "start_time": "2023-07-02T08:30:50.054Z"
   },
   {
    "duration": 18,
    "start_time": "2023-07-02T08:30:50.068Z"
   },
   {
    "duration": 8,
    "start_time": "2023-07-02T08:30:50.087Z"
   },
   {
    "duration": 2,
    "start_time": "2023-07-02T08:30:50.096Z"
   },
   {
    "duration": 51,
    "start_time": "2023-07-02T08:30:50.106Z"
   },
   {
    "duration": 1396,
    "start_time": "2023-07-02T08:30:50.158Z"
   },
   {
    "duration": 9,
    "start_time": "2023-07-02T08:30:51.558Z"
   },
   {
    "duration": 13,
    "start_time": "2023-07-02T08:30:51.569Z"
   },
   {
    "duration": 3,
    "start_time": "2023-07-02T08:30:51.583Z"
   },
   {
    "duration": 54,
    "start_time": "2023-07-02T08:30:51.587Z"
   },
   {
    "duration": 37,
    "start_time": "2023-07-02T08:30:51.642Z"
   },
   {
    "duration": 4,
    "start_time": "2023-07-02T08:30:51.680Z"
   },
   {
    "duration": 8,
    "start_time": "2023-07-02T08:30:51.686Z"
   },
   {
    "duration": 32,
    "start_time": "2023-07-02T08:30:51.695Z"
   },
   {
    "duration": 139,
    "start_time": "2023-07-02T08:30:55.996Z"
   },
   {
    "duration": 6,
    "start_time": "2023-07-02T08:31:36.138Z"
   },
   {
    "duration": 76210,
    "start_time": "2023-07-02T08:31:51.224Z"
   },
   {
    "duration": 12,
    "start_time": "2023-07-02T08:35:08.336Z"
   },
   {
    "duration": 17547,
    "start_time": "2023-07-02T08:35:10.649Z"
   },
   {
    "duration": 18303,
    "start_time": "2023-07-02T08:35:32.024Z"
   },
   {
    "duration": 23,
    "start_time": "2023-07-02T08:45:30.235Z"
   },
   {
    "duration": 1986,
    "start_time": "2023-07-02T08:45:40.745Z"
   },
   {
    "duration": 3,
    "start_time": "2023-07-02T08:45:42.733Z"
   },
   {
    "duration": 1087,
    "start_time": "2023-07-02T08:45:42.737Z"
   },
   {
    "duration": 52,
    "start_time": "2023-07-02T08:45:43.825Z"
   },
   {
    "duration": 3,
    "start_time": "2023-07-02T08:45:43.879Z"
   },
   {
    "duration": 34,
    "start_time": "2023-07-02T08:45:43.884Z"
   },
   {
    "duration": 7,
    "start_time": "2023-07-02T08:45:43.919Z"
   },
   {
    "duration": 23,
    "start_time": "2023-07-02T08:45:43.928Z"
   },
   {
    "duration": 30,
    "start_time": "2023-07-02T08:45:43.952Z"
   },
   {
    "duration": 29,
    "start_time": "2023-07-02T08:45:43.984Z"
   },
   {
    "duration": 8,
    "start_time": "2023-07-02T08:45:44.015Z"
   },
   {
    "duration": 37,
    "start_time": "2023-07-02T08:45:44.024Z"
   },
   {
    "duration": 1384,
    "start_time": "2023-07-02T08:45:44.062Z"
   },
   {
    "duration": 8,
    "start_time": "2023-07-02T08:45:45.448Z"
   },
   {
    "duration": 20,
    "start_time": "2023-07-02T08:45:45.457Z"
   },
   {
    "duration": 48,
    "start_time": "2023-07-02T08:45:45.478Z"
   },
   {
    "duration": 53,
    "start_time": "2023-07-02T08:45:45.528Z"
   },
   {
    "duration": 45,
    "start_time": "2023-07-02T08:45:45.583Z"
   },
   {
    "duration": 12,
    "start_time": "2023-07-02T08:45:45.629Z"
   },
   {
    "duration": 6,
    "start_time": "2023-07-02T08:45:45.642Z"
   },
   {
    "duration": 20,
    "start_time": "2023-07-02T08:45:45.650Z"
   },
   {
    "duration": 116,
    "start_time": "2023-07-02T08:45:49.722Z"
   },
   {
    "duration": 12,
    "start_time": "2023-07-02T08:47:03.058Z"
   },
   {
    "duration": 8,
    "start_time": "2023-07-02T08:47:42.419Z"
   },
   {
    "duration": 2518,
    "start_time": "2023-07-02T08:49:52.620Z"
   },
   {
    "duration": 4,
    "start_time": "2023-07-02T08:49:55.141Z"
   },
   {
    "duration": 1581,
    "start_time": "2023-07-02T08:49:55.147Z"
   },
   {
    "duration": 66,
    "start_time": "2023-07-02T08:49:56.731Z"
   },
   {
    "duration": 7,
    "start_time": "2023-07-02T08:49:56.801Z"
   },
   {
    "duration": 31,
    "start_time": "2023-07-02T08:49:56.810Z"
   },
   {
    "duration": 5,
    "start_time": "2023-07-02T08:49:56.843Z"
   },
   {
    "duration": 12,
    "start_time": "2023-07-02T08:49:56.850Z"
   },
   {
    "duration": 19,
    "start_time": "2023-07-02T08:49:56.864Z"
   },
   {
    "duration": 10,
    "start_time": "2023-07-02T08:49:56.886Z"
   },
   {
    "duration": 27,
    "start_time": "2023-07-02T08:49:56.898Z"
   },
   {
    "duration": 56,
    "start_time": "2023-07-02T08:49:56.926Z"
   },
   {
    "duration": 1671,
    "start_time": "2023-07-02T08:49:56.983Z"
   },
   {
    "duration": 10,
    "start_time": "2023-07-02T08:49:58.657Z"
   },
   {
    "duration": 4,
    "start_time": "2023-07-02T08:49:58.669Z"
   },
   {
    "duration": 22,
    "start_time": "2023-07-02T08:49:58.675Z"
   },
   {
    "duration": 63,
    "start_time": "2023-07-02T08:49:58.699Z"
   },
   {
    "duration": 173,
    "start_time": "2023-07-02T08:50:03.590Z"
   },
   {
    "duration": 66,
    "start_time": "2023-07-02T08:51:03.315Z"
   },
   {
    "duration": 32,
    "start_time": "2023-07-02T08:52:18.934Z"
   },
   {
    "duration": 49,
    "start_time": "2023-07-02T08:52:25.789Z"
   },
   {
    "duration": 59,
    "start_time": "2023-07-02T08:53:08.677Z"
   },
   {
    "duration": 20,
    "start_time": "2023-07-02T08:54:01.729Z"
   },
   {
    "duration": 19,
    "start_time": "2023-07-02T08:54:07.259Z"
   },
   {
    "duration": 19448,
    "start_time": "2023-07-02T08:54:12.442Z"
   },
   {
    "duration": 7,
    "start_time": "2023-07-02T08:54:43.567Z"
   },
   {
    "duration": 2405,
    "start_time": "2023-07-02T09:05:14.214Z"
   },
   {
    "duration": 6,
    "start_time": "2023-07-02T09:05:16.621Z"
   },
   {
    "duration": 1256,
    "start_time": "2023-07-02T09:05:16.628Z"
   },
   {
    "duration": 78,
    "start_time": "2023-07-02T09:05:17.885Z"
   },
   {
    "duration": 3,
    "start_time": "2023-07-02T09:05:17.964Z"
   },
   {
    "duration": 20,
    "start_time": "2023-07-02T09:05:17.968Z"
   },
   {
    "duration": 13,
    "start_time": "2023-07-02T09:05:17.989Z"
   },
   {
    "duration": 57,
    "start_time": "2023-07-02T09:05:18.004Z"
   },
   {
    "duration": 20,
    "start_time": "2023-07-02T09:05:18.063Z"
   },
   {
    "duration": 7,
    "start_time": "2023-07-02T09:05:18.084Z"
   },
   {
    "duration": 68,
    "start_time": "2023-07-02T09:05:18.093Z"
   },
   {
    "duration": 50,
    "start_time": "2023-07-02T09:05:18.163Z"
   },
   {
    "duration": 1752,
    "start_time": "2023-07-02T09:05:18.218Z"
   },
   {
    "duration": 8,
    "start_time": "2023-07-02T09:05:19.973Z"
   },
   {
    "duration": 74,
    "start_time": "2023-07-02T09:05:19.982Z"
   },
   {
    "duration": 23,
    "start_time": "2023-07-02T09:05:20.058Z"
   },
   {
    "duration": 97,
    "start_time": "2023-07-02T09:05:20.082Z"
   },
   {
    "duration": 101,
    "start_time": "2023-07-02T09:05:20.181Z"
   },
   {
    "duration": 4,
    "start_time": "2023-07-02T09:05:20.283Z"
   },
   {
    "duration": 69,
    "start_time": "2023-07-02T09:05:20.288Z"
   },
   {
    "duration": 55,
    "start_time": "2023-07-02T09:05:20.358Z"
   },
   {
    "duration": 20104,
    "start_time": "2023-07-02T09:05:26.248Z"
   },
   {
    "duration": 123,
    "start_time": "2023-07-02T09:11:10.025Z"
   },
   {
    "duration": 10,
    "start_time": "2023-07-02T09:11:14.427Z"
   },
   {
    "duration": 18,
    "start_time": "2023-07-02T09:11:29.534Z"
   },
   {
    "duration": 19646,
    "start_time": "2023-07-02T09:14:20.791Z"
   },
   {
    "duration": 16,
    "start_time": "2023-07-02T09:15:05.336Z"
   },
   {
    "duration": 2569,
    "start_time": "2023-07-02T09:15:57.031Z"
   },
   {
    "duration": 10658,
    "start_time": "2023-07-03T04:52:41.222Z"
   },
   {
    "duration": 3,
    "start_time": "2023-07-03T04:52:51.882Z"
   },
   {
    "duration": 1390,
    "start_time": "2023-07-03T04:52:51.886Z"
   },
   {
    "duration": 188,
    "start_time": "2023-07-03T04:52:53.278Z"
   },
   {
    "duration": 7,
    "start_time": "2023-07-03T04:52:53.468Z"
   },
   {
    "duration": 17,
    "start_time": "2023-07-03T04:52:53.476Z"
   },
   {
    "duration": 21,
    "start_time": "2023-07-03T04:52:53.495Z"
   },
   {
    "duration": 32,
    "start_time": "2023-07-03T04:52:53.518Z"
   },
   {
    "duration": 27,
    "start_time": "2023-07-03T04:52:53.552Z"
   },
   {
    "duration": 8,
    "start_time": "2023-07-03T04:52:53.583Z"
   },
   {
    "duration": 6,
    "start_time": "2023-07-03T04:52:53.593Z"
   },
   {
    "duration": 50,
    "start_time": "2023-07-03T04:52:53.601Z"
   },
   {
    "duration": 1753,
    "start_time": "2023-07-03T04:52:53.652Z"
   },
   {
    "duration": 10,
    "start_time": "2023-07-03T04:52:55.409Z"
   },
   {
    "duration": 5,
    "start_time": "2023-07-03T04:52:55.421Z"
   },
   {
    "duration": 10,
    "start_time": "2023-07-03T04:52:55.428Z"
   },
   {
    "duration": 59,
    "start_time": "2023-07-03T04:52:55.440Z"
   },
   {
    "duration": 74,
    "start_time": "2023-07-03T04:52:55.501Z"
   },
   {
    "duration": 6,
    "start_time": "2023-07-03T04:52:55.577Z"
   },
   {
    "duration": 27,
    "start_time": "2023-07-03T04:52:55.585Z"
   },
   {
    "duration": 24,
    "start_time": "2023-07-03T04:52:55.614Z"
   },
   {
    "duration": 17672,
    "start_time": "2023-07-03T04:52:55.640Z"
   },
   {
    "duration": 3,
    "start_time": "2023-07-03T04:53:13.314Z"
   },
   {
    "duration": 89,
    "start_time": "2023-07-03T04:58:14.037Z"
   },
   {
    "duration": 1599,
    "start_time": "2023-07-03T04:59:02.895Z"
   },
   {
    "duration": 2329,
    "start_time": "2023-07-03T05:03:10.830Z"
   },
   {
    "duration": 1689,
    "start_time": "2023-07-03T05:04:31.287Z"
   },
   {
    "duration": 15,
    "start_time": "2023-07-03T05:36:08.369Z"
   },
   {
    "duration": 130,
    "start_time": "2023-07-03T05:46:24.824Z"
   },
   {
    "duration": 48,
    "start_time": "2023-07-03T05:50:19.658Z"
   },
   {
    "duration": 26,
    "start_time": "2023-07-03T05:55:39.838Z"
   },
   {
    "duration": 18,
    "start_time": "2023-07-03T05:58:10.776Z"
   },
   {
    "duration": 33,
    "start_time": "2023-07-03T05:59:40.984Z"
   },
   {
    "duration": 1723,
    "start_time": "2023-07-03T06:00:38.085Z"
   },
   {
    "duration": 1723,
    "start_time": "2023-07-03T06:07:16.087Z"
   },
   {
    "duration": 61,
    "start_time": "2023-07-04T01:02:58.737Z"
   },
   {
    "duration": 10854,
    "start_time": "2023-07-04T01:04:25.710Z"
   },
   {
    "duration": 3,
    "start_time": "2023-07-04T01:04:36.566Z"
   },
   {
    "duration": 1320,
    "start_time": "2023-07-04T01:04:36.571Z"
   },
   {
    "duration": 108,
    "start_time": "2023-07-04T01:04:37.894Z"
   },
   {
    "duration": 3,
    "start_time": "2023-07-04T01:04:38.003Z"
   },
   {
    "duration": 16,
    "start_time": "2023-07-04T01:04:38.008Z"
   },
   {
    "duration": 14,
    "start_time": "2023-07-04T01:04:38.025Z"
   },
   {
    "duration": 21,
    "start_time": "2023-07-04T01:04:38.041Z"
   },
   {
    "duration": 13,
    "start_time": "2023-07-04T01:04:38.064Z"
   },
   {
    "duration": 8,
    "start_time": "2023-07-04T01:04:38.080Z"
   },
   {
    "duration": 22,
    "start_time": "2023-07-04T01:04:38.089Z"
   },
   {
    "duration": 45,
    "start_time": "2023-07-04T01:04:38.113Z"
   },
   {
    "duration": 1553,
    "start_time": "2023-07-04T01:04:38.159Z"
   },
   {
    "duration": 8,
    "start_time": "2023-07-04T01:04:39.714Z"
   },
   {
    "duration": 7,
    "start_time": "2023-07-04T01:04:39.723Z"
   },
   {
    "duration": 10,
    "start_time": "2023-07-04T01:04:39.732Z"
   },
   {
    "duration": 126,
    "start_time": "2023-07-04T01:04:39.744Z"
   },
   {
    "duration": 41,
    "start_time": "2023-07-04T01:04:39.872Z"
   },
   {
    "duration": 23,
    "start_time": "2023-07-04T01:04:39.914Z"
   },
   {
    "duration": 9,
    "start_time": "2023-07-04T01:04:39.939Z"
   },
   {
    "duration": 26,
    "start_time": "2023-07-04T01:04:39.950Z"
   },
   {
    "duration": 18243,
    "start_time": "2023-07-04T01:04:39.978Z"
   },
   {
    "duration": 8,
    "start_time": "2023-07-04T01:04:58.223Z"
   },
   {
    "duration": 2202,
    "start_time": "2023-07-04T01:04:58.233Z"
   },
   {
    "duration": 6,
    "start_time": "2023-07-04T01:05:00.438Z"
   },
   {
    "duration": 136,
    "start_time": "2023-07-04T01:05:00.449Z"
   },
   {
    "duration": 1857,
    "start_time": "2023-07-04T01:05:00.587Z"
   },
   {
    "duration": 78,
    "start_time": "2023-07-04T01:05:02.454Z"
   },
   {
    "duration": 119,
    "start_time": "2023-07-04T01:05:33.204Z"
   },
   {
    "duration": 19075,
    "start_time": "2023-07-04T01:07:53.522Z"
   },
   {
    "duration": 11,
    "start_time": "2023-07-04T01:17:05.801Z"
   },
   {
    "duration": 17,
    "start_time": "2023-07-04T01:19:38.995Z"
   },
   {
    "duration": 2148,
    "start_time": "2023-07-04T01:22:15.030Z"
   },
   {
    "duration": 3,
    "start_time": "2023-07-04T01:22:17.181Z"
   },
   {
    "duration": 1124,
    "start_time": "2023-07-04T01:22:17.185Z"
   },
   {
    "duration": 60,
    "start_time": "2023-07-04T01:22:18.312Z"
   },
   {
    "duration": 4,
    "start_time": "2023-07-04T01:22:18.374Z"
   },
   {
    "duration": 16,
    "start_time": "2023-07-04T01:22:18.380Z"
   },
   {
    "duration": 7,
    "start_time": "2023-07-04T01:22:18.398Z"
   },
   {
    "duration": 7,
    "start_time": "2023-07-04T01:22:18.407Z"
   },
   {
    "duration": 25,
    "start_time": "2023-07-04T01:22:18.416Z"
   },
   {
    "duration": 9,
    "start_time": "2023-07-04T01:22:18.443Z"
   },
   {
    "duration": 11,
    "start_time": "2023-07-04T01:22:18.454Z"
   },
   {
    "duration": 47,
    "start_time": "2023-07-04T01:22:18.466Z"
   },
   {
    "duration": 1718,
    "start_time": "2023-07-04T01:22:18.515Z"
   },
   {
    "duration": 9,
    "start_time": "2023-07-04T01:22:20.236Z"
   },
   {
    "duration": 152,
    "start_time": "2023-07-04T01:22:20.247Z"
   },
   {
    "duration": 117,
    "start_time": "2023-07-04T01:22:20.401Z"
   },
   {
    "duration": 100,
    "start_time": "2023-07-04T01:22:20.520Z"
   },
   {
    "duration": 58,
    "start_time": "2023-07-04T01:22:20.622Z"
   },
   {
    "duration": 5,
    "start_time": "2023-07-04T01:22:20.681Z"
   },
   {
    "duration": 53,
    "start_time": "2023-07-04T01:22:20.688Z"
   },
   {
    "duration": 50,
    "start_time": "2023-07-04T01:22:20.742Z"
   },
   {
    "duration": 18008,
    "start_time": "2023-07-04T01:22:20.793Z"
   },
   {
    "duration": 2,
    "start_time": "2023-07-04T01:22:38.803Z"
   },
   {
    "duration": 2228,
    "start_time": "2023-07-04T01:22:38.807Z"
   },
   {
    "duration": 6,
    "start_time": "2023-07-04T01:22:41.038Z"
   },
   {
    "duration": 113,
    "start_time": "2023-07-04T01:22:41.046Z"
   },
   {
    "duration": 1770,
    "start_time": "2023-07-04T01:22:41.162Z"
   },
   {
    "duration": 3,
    "start_time": "2023-07-04T01:22:42.936Z"
   },
   {
    "duration": 20256,
    "start_time": "2023-07-04T01:22:42.940Z"
   },
   {
    "duration": 3,
    "start_time": "2023-07-04T01:23:03.199Z"
   },
   {
    "duration": 12,
    "start_time": "2023-07-04T01:23:23.153Z"
   },
   {
    "duration": 136,
    "start_time": "2023-07-04T01:30:17.395Z"
   },
   {
    "duration": 930,
    "start_time": "2023-07-04T01:34:17.704Z"
   },
   {
    "duration": 16,
    "start_time": "2023-07-04T01:34:36.159Z"
   },
   {
    "duration": 18,
    "start_time": "2023-07-04T01:36:55.324Z"
   },
   {
    "duration": 2027,
    "start_time": "2023-07-04T01:37:07.601Z"
   },
   {
    "duration": 2,
    "start_time": "2023-07-04T01:37:09.630Z"
   },
   {
    "duration": 1149,
    "start_time": "2023-07-04T01:37:09.633Z"
   },
   {
    "duration": 59,
    "start_time": "2023-07-04T01:37:10.784Z"
   },
   {
    "duration": 3,
    "start_time": "2023-07-04T01:37:10.845Z"
   },
   {
    "duration": 22,
    "start_time": "2023-07-04T01:37:10.849Z"
   },
   {
    "duration": 6,
    "start_time": "2023-07-04T01:37:10.873Z"
   },
   {
    "duration": 7,
    "start_time": "2023-07-04T01:37:10.881Z"
   },
   {
    "duration": 21,
    "start_time": "2023-07-04T01:37:10.889Z"
   },
   {
    "duration": 7,
    "start_time": "2023-07-04T01:37:10.912Z"
   },
   {
    "duration": 2,
    "start_time": "2023-07-04T01:37:10.931Z"
   },
   {
    "duration": 40,
    "start_time": "2023-07-04T01:37:10.935Z"
   },
   {
    "duration": 1505,
    "start_time": "2023-07-04T01:37:10.976Z"
   },
   {
    "duration": 8,
    "start_time": "2023-07-04T01:37:12.482Z"
   },
   {
    "duration": 3,
    "start_time": "2023-07-04T01:37:12.492Z"
   },
   {
    "duration": 11,
    "start_time": "2023-07-04T01:37:12.497Z"
   },
   {
    "duration": 53,
    "start_time": "2023-07-04T01:37:12.510Z"
   },
   {
    "duration": 38,
    "start_time": "2023-07-04T01:37:12.567Z"
   },
   {
    "duration": 5,
    "start_time": "2023-07-04T01:37:12.607Z"
   },
   {
    "duration": 44,
    "start_time": "2023-07-04T01:37:12.613Z"
   },
   {
    "duration": 33,
    "start_time": "2023-07-04T01:37:12.659Z"
   },
   {
    "duration": 17361,
    "start_time": "2023-07-04T01:37:12.693Z"
   },
   {
    "duration": 2,
    "start_time": "2023-07-04T01:37:30.056Z"
   },
   {
    "duration": 777,
    "start_time": "2023-07-04T01:37:30.059Z"
   },
   {
    "duration": 5,
    "start_time": "2023-07-04T01:37:30.838Z"
   },
   {
    "duration": 221,
    "start_time": "2023-07-04T01:37:30.845Z"
   },
   {
    "duration": 1869,
    "start_time": "2023-07-04T01:37:31.068Z"
   },
   {
    "duration": 2,
    "start_time": "2023-07-04T01:37:32.942Z"
   },
   {
    "duration": 27,
    "start_time": "2023-07-04T01:39:26.146Z"
   },
   {
    "duration": 1853,
    "start_time": "2023-07-04T01:39:32.087Z"
   },
   {
    "duration": 19776,
    "start_time": "2023-07-04T01:39:41.086Z"
   },
   {
    "duration": 110,
    "start_time": "2023-07-04T01:43:35.408Z"
   },
   {
    "duration": 2501,
    "start_time": "2023-07-04T01:44:01.314Z"
   },
   {
    "duration": 2,
    "start_time": "2023-07-04T01:44:03.818Z"
   },
   {
    "duration": 1454,
    "start_time": "2023-07-04T01:44:03.821Z"
   },
   {
    "duration": 52,
    "start_time": "2023-07-04T01:44:05.277Z"
   },
   {
    "duration": 6,
    "start_time": "2023-07-04T01:44:05.332Z"
   },
   {
    "duration": 37,
    "start_time": "2023-07-04T01:44:05.339Z"
   },
   {
    "duration": 30,
    "start_time": "2023-07-04T01:44:05.377Z"
   },
   {
    "duration": 22,
    "start_time": "2023-07-04T01:44:05.408Z"
   },
   {
    "duration": 42,
    "start_time": "2023-07-04T01:44:05.434Z"
   },
   {
    "duration": 10,
    "start_time": "2023-07-04T01:44:05.478Z"
   },
   {
    "duration": 20,
    "start_time": "2023-07-04T01:44:05.489Z"
   },
   {
    "duration": 84,
    "start_time": "2023-07-04T01:44:05.511Z"
   },
   {
    "duration": 1528,
    "start_time": "2023-07-04T01:44:05.596Z"
   },
   {
    "duration": 10,
    "start_time": "2023-07-04T01:44:07.127Z"
   },
   {
    "duration": 37,
    "start_time": "2023-07-04T01:44:07.139Z"
   },
   {
    "duration": 9,
    "start_time": "2023-07-04T01:44:07.178Z"
   },
   {
    "duration": 33,
    "start_time": "2023-07-04T01:44:07.188Z"
   },
   {
    "duration": 48,
    "start_time": "2023-07-04T01:44:07.222Z"
   },
   {
    "duration": 4,
    "start_time": "2023-07-04T01:44:07.272Z"
   },
   {
    "duration": 5,
    "start_time": "2023-07-04T01:44:07.277Z"
   },
   {
    "duration": 20,
    "start_time": "2023-07-04T01:44:07.283Z"
   },
   {
    "duration": 18459,
    "start_time": "2023-07-04T01:44:07.304Z"
   },
   {
    "duration": 2,
    "start_time": "2023-07-04T01:44:25.765Z"
   },
   {
    "duration": 1067,
    "start_time": "2023-07-04T01:44:25.769Z"
   },
   {
    "duration": 3,
    "start_time": "2023-07-04T01:44:26.838Z"
   },
   {
    "duration": 221,
    "start_time": "2023-07-04T01:44:26.846Z"
   },
   {
    "duration": 0,
    "start_time": "2023-07-04T01:44:27.069Z"
   },
   {
    "duration": 0,
    "start_time": "2023-07-04T01:44:27.070Z"
   },
   {
    "duration": 0,
    "start_time": "2023-07-04T01:44:27.071Z"
   },
   {
    "duration": 0,
    "start_time": "2023-07-04T01:44:27.072Z"
   },
   {
    "duration": 0,
    "start_time": "2023-07-04T01:44:27.073Z"
   },
   {
    "duration": 0,
    "start_time": "2023-07-04T01:44:27.074Z"
   },
   {
    "duration": 0,
    "start_time": "2023-07-04T01:44:27.075Z"
   },
   {
    "duration": 30,
    "start_time": "2023-07-04T01:45:43.549Z"
   },
   {
    "duration": 1681,
    "start_time": "2023-07-04T01:46:01.555Z"
   },
   {
    "duration": 20019,
    "start_time": "2023-07-04T01:46:14.239Z"
   },
   {
    "duration": 11,
    "start_time": "2023-07-04T01:46:55.084Z"
   },
   {
    "duration": 870,
    "start_time": "2023-07-04T01:47:02.578Z"
   },
   {
    "duration": 8521,
    "start_time": "2023-07-04T02:00:17.411Z"
   },
   {
    "duration": 19046,
    "start_time": "2023-07-04T02:07:25.462Z"
   },
   {
    "duration": 8495,
    "start_time": "2023-07-04T02:08:34.618Z"
   },
   {
    "duration": 8740,
    "start_time": "2023-07-04T02:12:42.001Z"
   },
   {
    "duration": 8549,
    "start_time": "2023-07-04T02:25:04.979Z"
   },
   {
    "duration": 104,
    "start_time": "2023-07-04T02:25:39.158Z"
   },
   {
    "duration": 65,
    "start_time": "2023-07-04T02:26:01.736Z"
   },
   {
    "duration": 3,
    "start_time": "2023-07-04T02:34:16.665Z"
   },
   {
    "duration": 8,
    "start_time": "2023-07-04T02:34:27.547Z"
   },
   {
    "duration": 8,
    "start_time": "2023-07-04T02:38:13.456Z"
   },
   {
    "duration": 2170,
    "start_time": "2023-07-04T02:51:35.218Z"
   },
   {
    "duration": 3,
    "start_time": "2023-07-04T02:51:37.390Z"
   },
   {
    "duration": 1121,
    "start_time": "2023-07-04T02:51:37.394Z"
   },
   {
    "duration": 55,
    "start_time": "2023-07-04T02:51:38.517Z"
   },
   {
    "duration": 3,
    "start_time": "2023-07-04T02:51:38.574Z"
   },
   {
    "duration": 14,
    "start_time": "2023-07-04T02:51:38.578Z"
   },
   {
    "duration": 6,
    "start_time": "2023-07-04T02:51:38.594Z"
   },
   {
    "duration": 6,
    "start_time": "2023-07-04T02:51:38.602Z"
   },
   {
    "duration": 16,
    "start_time": "2023-07-04T02:51:38.609Z"
   },
   {
    "duration": 12,
    "start_time": "2023-07-04T02:51:38.633Z"
   },
   {
    "duration": 5,
    "start_time": "2023-07-04T02:51:38.647Z"
   },
   {
    "duration": 43,
    "start_time": "2023-07-04T02:51:38.653Z"
   },
   {
    "duration": 1508,
    "start_time": "2023-07-04T02:51:38.697Z"
   },
   {
    "duration": 9,
    "start_time": "2023-07-04T02:51:40.206Z"
   },
   {
    "duration": 27,
    "start_time": "2023-07-04T02:51:40.216Z"
   },
   {
    "duration": 13,
    "start_time": "2023-07-04T02:51:40.244Z"
   },
   {
    "duration": 38,
    "start_time": "2023-07-04T02:51:40.259Z"
   },
   {
    "duration": 42,
    "start_time": "2023-07-04T02:51:40.299Z"
   },
   {
    "duration": 5,
    "start_time": "2023-07-04T02:51:40.342Z"
   },
   {
    "duration": 9,
    "start_time": "2023-07-04T02:51:40.348Z"
   },
   {
    "duration": 19,
    "start_time": "2023-07-04T02:51:40.358Z"
   },
   {
    "duration": 17779,
    "start_time": "2023-07-04T02:51:40.379Z"
   },
   {
    "duration": 2,
    "start_time": "2023-07-04T02:51:58.159Z"
   },
   {
    "duration": 1769,
    "start_time": "2023-07-04T02:51:58.163Z"
   },
   {
    "duration": 4,
    "start_time": "2023-07-04T02:51:59.935Z"
   },
   {
    "duration": 139,
    "start_time": "2023-07-04T02:51:59.945Z"
   },
   {
    "duration": 1865,
    "start_time": "2023-07-04T02:52:00.085Z"
   },
   {
    "duration": 82,
    "start_time": "2023-07-04T02:52:01.953Z"
   },
   {
    "duration": 19063,
    "start_time": "2023-07-04T02:52:02.041Z"
   },
   {
    "duration": 2,
    "start_time": "2023-07-04T02:52:21.105Z"
   },
   {
    "duration": 71,
    "start_time": "2023-07-04T02:52:21.109Z"
   },
   {
    "duration": 28,
    "start_time": "2023-07-04T02:52:21.181Z"
   },
   {
    "duration": 11,
    "start_time": "2023-07-04T02:52:21.210Z"
   },
   {
    "duration": 1017,
    "start_time": "2023-07-04T02:52:21.222Z"
   },
   {
    "duration": 8431,
    "start_time": "2023-07-04T02:52:22.241Z"
   },
   {
    "duration": 2,
    "start_time": "2023-07-04T02:52:30.674Z"
   },
   {
    "duration": 61,
    "start_time": "2023-07-04T02:52:30.678Z"
   },
   {
    "duration": 166,
    "start_time": "2023-07-04T02:52:30.740Z"
   },
   {
    "duration": 0,
    "start_time": "2023-07-04T02:52:30.908Z"
   },
   {
    "duration": 0,
    "start_time": "2023-07-04T02:52:30.909Z"
   },
   {
    "duration": 0,
    "start_time": "2023-07-04T02:52:30.910Z"
   },
   {
    "duration": 15,
    "start_time": "2023-07-04T02:52:46.574Z"
   },
   {
    "duration": 133,
    "start_time": "2023-07-04T02:53:58.615Z"
   },
   {
    "duration": 100,
    "start_time": "2023-07-04T02:55:02.975Z"
   },
   {
    "duration": 2124,
    "start_time": "2023-07-04T02:55:32.223Z"
   },
   {
    "duration": 3,
    "start_time": "2023-07-04T02:55:34.349Z"
   },
   {
    "duration": 1219,
    "start_time": "2023-07-04T02:55:34.354Z"
   },
   {
    "duration": 54,
    "start_time": "2023-07-04T02:55:35.574Z"
   },
   {
    "duration": 3,
    "start_time": "2023-07-04T02:55:35.630Z"
   },
   {
    "duration": 20,
    "start_time": "2023-07-04T02:55:35.635Z"
   },
   {
    "duration": 17,
    "start_time": "2023-07-04T02:55:35.656Z"
   },
   {
    "duration": 18,
    "start_time": "2023-07-04T02:55:35.675Z"
   },
   {
    "duration": 14,
    "start_time": "2023-07-04T02:55:35.698Z"
   },
   {
    "duration": 16,
    "start_time": "2023-07-04T02:55:35.713Z"
   },
   {
    "duration": 4,
    "start_time": "2023-07-04T02:55:35.730Z"
   },
   {
    "duration": 45,
    "start_time": "2023-07-04T02:55:35.736Z"
   },
   {
    "duration": 1510,
    "start_time": "2023-07-04T02:55:35.782Z"
   },
   {
    "duration": 8,
    "start_time": "2023-07-04T02:55:37.295Z"
   },
   {
    "duration": 3,
    "start_time": "2023-07-04T02:55:37.305Z"
   },
   {
    "duration": 34,
    "start_time": "2023-07-04T02:55:37.310Z"
   },
   {
    "duration": 38,
    "start_time": "2023-07-04T02:55:37.346Z"
   },
   {
    "duration": 39,
    "start_time": "2023-07-04T02:55:37.385Z"
   },
   {
    "duration": 6,
    "start_time": "2023-07-04T02:55:37.426Z"
   },
   {
    "duration": 26,
    "start_time": "2023-07-04T02:55:37.434Z"
   },
   {
    "duration": 19,
    "start_time": "2023-07-04T02:55:37.462Z"
   },
   {
    "duration": 17430,
    "start_time": "2023-07-04T02:55:37.482Z"
   },
   {
    "duration": 2,
    "start_time": "2023-07-04T02:55:54.913Z"
   },
   {
    "duration": 816,
    "start_time": "2023-07-04T02:55:54.917Z"
   },
   {
    "duration": 5,
    "start_time": "2023-07-04T02:55:55.735Z"
   },
   {
    "duration": 116,
    "start_time": "2023-07-04T02:55:55.742Z"
   },
   {
    "duration": 1900,
    "start_time": "2023-07-04T02:55:55.860Z"
   },
   {
    "duration": 5,
    "start_time": "2023-07-04T02:55:57.835Z"
   },
   {
    "duration": 19426,
    "start_time": "2023-07-04T02:55:57.847Z"
   },
   {
    "duration": 3,
    "start_time": "2023-07-04T02:56:17.274Z"
   },
   {
    "duration": 42,
    "start_time": "2023-07-04T02:56:17.279Z"
   },
   {
    "duration": 12,
    "start_time": "2023-07-04T02:56:17.322Z"
   },
   {
    "duration": 13,
    "start_time": "2023-07-04T02:56:17.335Z"
   },
   {
    "duration": 1187,
    "start_time": "2023-07-04T02:56:17.350Z"
   },
   {
    "duration": 8450,
    "start_time": "2023-07-04T02:56:18.539Z"
   },
   {
    "duration": 2,
    "start_time": "2023-07-04T02:56:26.991Z"
   },
   {
    "duration": 11,
    "start_time": "2023-07-04T02:56:26.994Z"
   },
   {
    "duration": 118,
    "start_time": "2023-07-04T02:56:27.007Z"
   },
   {
    "duration": 4,
    "start_time": "2023-07-04T02:56:27.127Z"
   },
   {
    "duration": 15,
    "start_time": "2023-07-04T02:56:27.133Z"
   },
   {
    "duration": 10,
    "start_time": "2023-07-04T02:56:27.152Z"
   },
   {
    "duration": 116,
    "start_time": "2023-07-04T03:01:57.942Z"
   },
   {
    "duration": 4,
    "start_time": "2023-07-04T03:02:23.339Z"
   },
   {
    "duration": 3,
    "start_time": "2023-07-04T03:02:27.625Z"
   },
   {
    "duration": 6,
    "start_time": "2023-07-04T03:02:34.153Z"
   },
   {
    "duration": 7576,
    "start_time": "2023-07-04T05:17:24.419Z"
   },
   {
    "duration": 3,
    "start_time": "2023-07-04T05:17:31.997Z"
   },
   {
    "duration": 1465,
    "start_time": "2023-07-04T05:17:32.002Z"
   },
   {
    "duration": 101,
    "start_time": "2023-07-04T05:17:33.469Z"
   },
   {
    "duration": 4,
    "start_time": "2023-07-04T05:17:33.571Z"
   },
   {
    "duration": 27,
    "start_time": "2023-07-04T05:17:33.577Z"
   },
   {
    "duration": 15,
    "start_time": "2023-07-04T05:17:33.606Z"
   },
   {
    "duration": 26,
    "start_time": "2023-07-04T05:17:33.623Z"
   },
   {
    "duration": 18,
    "start_time": "2023-07-04T05:17:33.650Z"
   },
   {
    "duration": 14,
    "start_time": "2023-07-04T05:17:33.671Z"
   },
   {
    "duration": 14,
    "start_time": "2023-07-04T05:17:33.686Z"
   },
   {
    "duration": 44,
    "start_time": "2023-07-04T05:17:33.702Z"
   },
   {
    "duration": 1708,
    "start_time": "2023-07-04T05:17:33.748Z"
   },
   {
    "duration": 10,
    "start_time": "2023-07-04T05:17:35.458Z"
   },
   {
    "duration": 7,
    "start_time": "2023-07-04T05:17:35.470Z"
   },
   {
    "duration": 9,
    "start_time": "2023-07-04T05:17:35.478Z"
   },
   {
    "duration": 42,
    "start_time": "2023-07-04T05:17:35.489Z"
   },
   {
    "duration": 47,
    "start_time": "2023-07-04T05:17:35.553Z"
   },
   {
    "duration": 5,
    "start_time": "2023-07-04T05:17:35.602Z"
   },
   {
    "duration": 8,
    "start_time": "2023-07-04T05:17:35.608Z"
   },
   {
    "duration": 38,
    "start_time": "2023-07-04T05:17:35.617Z"
   },
   {
    "duration": 19305,
    "start_time": "2023-07-04T05:17:35.657Z"
   },
   {
    "duration": 2,
    "start_time": "2023-07-04T05:17:54.964Z"
   },
   {
    "duration": 599,
    "start_time": "2023-07-04T05:17:54.968Z"
   },
   {
    "duration": 5,
    "start_time": "2023-07-04T05:17:55.655Z"
   },
   {
    "duration": 152,
    "start_time": "2023-07-04T05:17:55.663Z"
   },
   {
    "duration": 2442,
    "start_time": "2023-07-04T05:17:55.817Z"
   },
   {
    "duration": 92,
    "start_time": "2023-07-04T05:17:58.265Z"
   },
   {
    "duration": 22913,
    "start_time": "2023-07-04T05:17:58.363Z"
   },
   {
    "duration": 2,
    "start_time": "2023-07-04T05:18:21.278Z"
   },
   {
    "duration": 24,
    "start_time": "2023-07-04T05:18:21.282Z"
   },
   {
    "duration": 19,
    "start_time": "2023-07-04T05:18:21.308Z"
   },
   {
    "duration": 28,
    "start_time": "2023-07-04T05:18:21.328Z"
   },
   {
    "duration": 1403,
    "start_time": "2023-07-04T05:18:21.358Z"
   },
   {
    "duration": 9064,
    "start_time": "2023-07-04T05:18:22.763Z"
   },
   {
    "duration": 3,
    "start_time": "2023-07-04T05:18:31.828Z"
   },
   {
    "duration": 24,
    "start_time": "2023-07-04T05:18:31.832Z"
   },
   {
    "duration": 191,
    "start_time": "2023-07-04T05:18:31.859Z"
   },
   {
    "duration": 3,
    "start_time": "2023-07-04T05:18:32.052Z"
   },
   {
    "duration": 39,
    "start_time": "2023-07-04T05:18:32.057Z"
   },
   {
    "duration": 24,
    "start_time": "2023-07-04T05:18:32.098Z"
   },
   {
    "duration": 34,
    "start_time": "2023-07-04T05:18:32.123Z"
   },
   {
    "duration": 12982,
    "start_time": "2023-07-05T01:28:40.571Z"
   },
   {
    "duration": 2,
    "start_time": "2023-07-05T01:28:53.555Z"
   },
   {
    "duration": 1254,
    "start_time": "2023-07-05T01:28:53.559Z"
   },
   {
    "duration": 106,
    "start_time": "2023-07-05T01:28:54.815Z"
   },
   {
    "duration": 4,
    "start_time": "2023-07-05T01:28:54.926Z"
   },
   {
    "duration": 16,
    "start_time": "2023-07-05T01:28:54.931Z"
   },
   {
    "duration": 13,
    "start_time": "2023-07-05T01:28:54.948Z"
   },
   {
    "duration": 11,
    "start_time": "2023-07-05T01:28:54.962Z"
   },
   {
    "duration": 20,
    "start_time": "2023-07-05T01:28:54.975Z"
   },
   {
    "duration": 23,
    "start_time": "2023-07-05T01:28:54.998Z"
   },
   {
    "duration": 13,
    "start_time": "2023-07-05T01:28:55.022Z"
   },
   {
    "duration": 38,
    "start_time": "2023-07-05T01:28:55.036Z"
   },
   {
    "duration": 1555,
    "start_time": "2023-07-05T01:28:55.076Z"
   },
   {
    "duration": 9,
    "start_time": "2023-07-05T01:28:56.633Z"
   },
   {
    "duration": 6,
    "start_time": "2023-07-05T01:28:56.643Z"
   },
   {
    "duration": 7,
    "start_time": "2023-07-05T01:28:56.650Z"
   },
   {
    "duration": 100,
    "start_time": "2023-07-05T01:28:56.658Z"
   },
   {
    "duration": 3,
    "start_time": "2023-07-05T01:28:56.759Z"
   },
   {
    "duration": 121,
    "start_time": "2023-07-05T01:28:56.763Z"
   },
   {
    "duration": 0,
    "start_time": "2023-07-05T01:28:56.886Z"
   },
   {
    "duration": 0,
    "start_time": "2023-07-05T01:28:56.887Z"
   },
   {
    "duration": 0,
    "start_time": "2023-07-05T01:28:56.888Z"
   },
   {
    "duration": 1,
    "start_time": "2023-07-05T01:28:56.888Z"
   },
   {
    "duration": 0,
    "start_time": "2023-07-05T01:28:56.907Z"
   },
   {
    "duration": 0,
    "start_time": "2023-07-05T01:28:56.909Z"
   },
   {
    "duration": 0,
    "start_time": "2023-07-05T01:28:56.912Z"
   },
   {
    "duration": 0,
    "start_time": "2023-07-05T01:28:56.913Z"
   },
   {
    "duration": 0,
    "start_time": "2023-07-05T01:28:56.914Z"
   },
   {
    "duration": 0,
    "start_time": "2023-07-05T01:28:56.916Z"
   },
   {
    "duration": 0,
    "start_time": "2023-07-05T01:28:56.917Z"
   },
   {
    "duration": 0,
    "start_time": "2023-07-05T01:28:56.919Z"
   },
   {
    "duration": 0,
    "start_time": "2023-07-05T01:28:56.920Z"
   },
   {
    "duration": 0,
    "start_time": "2023-07-05T01:28:56.922Z"
   },
   {
    "duration": 0,
    "start_time": "2023-07-05T01:28:56.924Z"
   },
   {
    "duration": 0,
    "start_time": "2023-07-05T01:28:56.925Z"
   },
   {
    "duration": 0,
    "start_time": "2023-07-05T01:28:56.926Z"
   },
   {
    "duration": 0,
    "start_time": "2023-07-05T01:28:56.928Z"
   },
   {
    "duration": 0,
    "start_time": "2023-07-05T01:28:56.929Z"
   },
   {
    "duration": 0,
    "start_time": "2023-07-05T01:28:56.931Z"
   },
   {
    "duration": 0,
    "start_time": "2023-07-05T01:28:56.933Z"
   },
   {
    "duration": 0,
    "start_time": "2023-07-05T01:28:56.935Z"
   },
   {
    "duration": 0,
    "start_time": "2023-07-05T01:28:56.936Z"
   },
   {
    "duration": 0,
    "start_time": "2023-07-05T01:28:56.937Z"
   },
   {
    "duration": 9,
    "start_time": "2023-07-05T01:40:27.127Z"
   },
   {
    "duration": 15,
    "start_time": "2023-07-05T01:41:08.225Z"
   },
   {
    "duration": 12,
    "start_time": "2023-07-05T01:41:39.926Z"
   },
   {
    "duration": 40,
    "start_time": "2023-07-05T01:50:27.820Z"
   },
   {
    "duration": 6946,
    "start_time": "2023-07-06T02:13:06.121Z"
   },
   {
    "duration": 3,
    "start_time": "2023-07-06T02:13:13.069Z"
   },
   {
    "duration": 1518,
    "start_time": "2023-07-06T02:13:13.073Z"
   },
   {
    "duration": 238,
    "start_time": "2023-07-06T02:13:14.593Z"
   },
   {
    "duration": 15,
    "start_time": "2023-07-06T02:13:14.834Z"
   },
   {
    "duration": 16,
    "start_time": "2023-07-06T02:13:14.852Z"
   },
   {
    "duration": 6,
    "start_time": "2023-07-06T02:13:14.870Z"
   },
   {
    "duration": 7,
    "start_time": "2023-07-06T02:13:14.879Z"
   },
   {
    "duration": 30,
    "start_time": "2023-07-06T02:13:14.888Z"
   },
   {
    "duration": 10,
    "start_time": "2023-07-06T02:13:14.920Z"
   },
   {
    "duration": 19,
    "start_time": "2023-07-06T02:13:14.932Z"
   },
   {
    "duration": 51,
    "start_time": "2023-07-06T02:13:14.953Z"
   },
   {
    "duration": 1714,
    "start_time": "2023-07-06T02:13:15.013Z"
   },
   {
    "duration": 10,
    "start_time": "2023-07-06T02:13:16.731Z"
   },
   {
    "duration": 7,
    "start_time": "2023-07-06T02:13:16.743Z"
   },
   {
    "duration": 5,
    "start_time": "2023-07-06T02:13:16.752Z"
   },
   {
    "duration": 39,
    "start_time": "2023-07-06T02:13:16.759Z"
   },
   {
    "duration": 13,
    "start_time": "2023-07-06T02:13:16.800Z"
   },
   {
    "duration": 48,
    "start_time": "2023-07-06T02:13:24.611Z"
   },
   {
    "duration": 2188,
    "start_time": "2023-07-06T02:13:58.362Z"
   },
   {
    "duration": 3,
    "start_time": "2023-07-06T02:14:00.553Z"
   },
   {
    "duration": 1430,
    "start_time": "2023-07-06T02:14:00.558Z"
   },
   {
    "duration": 57,
    "start_time": "2023-07-06T02:14:01.990Z"
   },
   {
    "duration": 24,
    "start_time": "2023-07-06T02:14:02.049Z"
   },
   {
    "duration": 84,
    "start_time": "2023-07-06T02:14:02.075Z"
   },
   {
    "duration": 66,
    "start_time": "2023-07-06T02:14:02.160Z"
   },
   {
    "duration": 68,
    "start_time": "2023-07-06T02:14:02.228Z"
   },
   {
    "duration": 80,
    "start_time": "2023-07-06T02:14:02.298Z"
   },
   {
    "duration": 89,
    "start_time": "2023-07-06T02:14:02.381Z"
   },
   {
    "duration": 58,
    "start_time": "2023-07-06T02:14:02.471Z"
   },
   {
    "duration": 99,
    "start_time": "2023-07-06T02:14:02.531Z"
   },
   {
    "duration": 1691,
    "start_time": "2023-07-06T02:14:02.632Z"
   },
   {
    "duration": 9,
    "start_time": "2023-07-06T02:14:04.325Z"
   },
   {
    "duration": 37,
    "start_time": "2023-07-06T02:14:04.336Z"
   },
   {
    "duration": 9,
    "start_time": "2023-07-06T02:14:04.375Z"
   },
   {
    "duration": 55,
    "start_time": "2023-07-06T02:14:04.386Z"
   },
   {
    "duration": 3,
    "start_time": "2023-07-06T02:14:04.443Z"
   },
   {
    "duration": 28,
    "start_time": "2023-07-06T02:14:09.249Z"
   },
   {
    "duration": 5,
    "start_time": "2023-07-06T02:14:14.612Z"
   },
   {
    "duration": 114,
    "start_time": "2023-07-06T02:15:18.505Z"
   },
   {
    "duration": 20,
    "start_time": "2023-07-06T02:16:29.434Z"
   },
   {
    "duration": 36,
    "start_time": "2023-07-06T02:17:49.708Z"
   },
   {
    "duration": 33,
    "start_time": "2023-07-06T02:19:38.155Z"
   },
   {
    "duration": 2124,
    "start_time": "2023-07-06T02:19:50.772Z"
   },
   {
    "duration": 3,
    "start_time": "2023-07-06T02:19:52.898Z"
   },
   {
    "duration": 1285,
    "start_time": "2023-07-06T02:19:52.903Z"
   },
   {
    "duration": 57,
    "start_time": "2023-07-06T02:19:54.191Z"
   },
   {
    "duration": 3,
    "start_time": "2023-07-06T02:19:54.250Z"
   },
   {
    "duration": 24,
    "start_time": "2023-07-06T02:19:54.255Z"
   },
   {
    "duration": 27,
    "start_time": "2023-07-06T02:19:54.281Z"
   },
   {
    "duration": 61,
    "start_time": "2023-07-06T02:19:54.310Z"
   },
   {
    "duration": 79,
    "start_time": "2023-07-06T02:19:54.373Z"
   },
   {
    "duration": 50,
    "start_time": "2023-07-06T02:19:54.455Z"
   },
   {
    "duration": 27,
    "start_time": "2023-07-06T02:19:54.507Z"
   },
   {
    "duration": 110,
    "start_time": "2023-07-06T02:19:54.536Z"
   },
   {
    "duration": 1687,
    "start_time": "2023-07-06T02:19:54.648Z"
   },
   {
    "duration": 10,
    "start_time": "2023-07-06T02:19:56.337Z"
   },
   {
    "duration": 54,
    "start_time": "2023-07-06T02:19:56.348Z"
   },
   {
    "duration": 51,
    "start_time": "2023-07-06T02:19:56.404Z"
   },
   {
    "duration": 46,
    "start_time": "2023-07-06T02:19:56.457Z"
   },
   {
    "duration": 10,
    "start_time": "2023-07-06T02:19:56.505Z"
   },
   {
    "duration": 53,
    "start_time": "2023-07-06T02:19:56.517Z"
   },
   {
    "duration": 17,
    "start_time": "2023-07-06T02:19:56.572Z"
   },
   {
    "duration": 58,
    "start_time": "2023-07-06T02:19:56.591Z"
   },
   {
    "duration": 20,
    "start_time": "2023-07-06T02:19:56.651Z"
   },
   {
    "duration": 137,
    "start_time": "2023-07-06T02:20:00.415Z"
   },
   {
    "duration": 32,
    "start_time": "2023-07-06T02:22:08.373Z"
   },
   {
    "duration": 2031,
    "start_time": "2023-07-06T02:44:29.644Z"
   },
   {
    "duration": 2,
    "start_time": "2023-07-06T02:44:31.677Z"
   },
   {
    "duration": 1199,
    "start_time": "2023-07-06T02:44:31.681Z"
   },
   {
    "duration": 56,
    "start_time": "2023-07-06T02:44:32.882Z"
   },
   {
    "duration": 88,
    "start_time": "2023-07-06T02:44:32.940Z"
   },
   {
    "duration": 71,
    "start_time": "2023-07-06T02:44:33.030Z"
   },
   {
    "duration": 70,
    "start_time": "2023-07-06T02:44:33.103Z"
   },
   {
    "duration": 18,
    "start_time": "2023-07-06T02:44:33.175Z"
   },
   {
    "duration": 34,
    "start_time": "2023-07-06T02:44:33.194Z"
   },
   {
    "duration": 11,
    "start_time": "2023-07-06T02:44:33.229Z"
   },
   {
    "duration": 14,
    "start_time": "2023-07-06T02:44:33.242Z"
   },
   {
    "duration": 41,
    "start_time": "2023-07-06T02:44:33.257Z"
   },
   {
    "duration": 1639,
    "start_time": "2023-07-06T02:44:33.300Z"
   },
   {
    "duration": 10,
    "start_time": "2023-07-06T02:44:34.943Z"
   },
   {
    "duration": 6,
    "start_time": "2023-07-06T02:44:34.954Z"
   },
   {
    "duration": 14,
    "start_time": "2023-07-06T02:44:34.962Z"
   },
   {
    "duration": 41,
    "start_time": "2023-07-06T02:44:34.978Z"
   },
   {
    "duration": 3,
    "start_time": "2023-07-06T02:44:35.021Z"
   },
   {
    "duration": 43,
    "start_time": "2023-07-06T02:44:35.026Z"
   },
   {
    "duration": 5,
    "start_time": "2023-07-06T02:44:35.070Z"
   },
   {
    "duration": 10,
    "start_time": "2023-07-06T02:44:35.076Z"
   },
   {
    "duration": 19,
    "start_time": "2023-07-06T02:44:35.088Z"
   },
   {
    "duration": 124,
    "start_time": "2023-07-06T02:44:39.422Z"
   },
   {
    "duration": 31,
    "start_time": "2023-07-06T02:45:31.854Z"
   },
   {
    "duration": 2263,
    "start_time": "2023-07-06T02:45:44.040Z"
   },
   {
    "duration": 2,
    "start_time": "2023-07-06T02:45:46.306Z"
   },
   {
    "duration": 1366,
    "start_time": "2023-07-06T02:45:46.310Z"
   },
   {
    "duration": 72,
    "start_time": "2023-07-06T02:45:47.679Z"
   },
   {
    "duration": 4,
    "start_time": "2023-07-06T02:45:47.753Z"
   },
   {
    "duration": 28,
    "start_time": "2023-07-06T02:45:47.759Z"
   },
   {
    "duration": 12,
    "start_time": "2023-07-06T02:45:47.789Z"
   },
   {
    "duration": 21,
    "start_time": "2023-07-06T02:45:47.804Z"
   },
   {
    "duration": 21,
    "start_time": "2023-07-06T02:45:47.827Z"
   },
   {
    "duration": 18,
    "start_time": "2023-07-06T02:45:47.852Z"
   },
   {
    "duration": 11,
    "start_time": "2023-07-06T02:45:47.872Z"
   },
   {
    "duration": 79,
    "start_time": "2023-07-06T02:45:47.886Z"
   },
   {
    "duration": 1793,
    "start_time": "2023-07-06T02:45:47.966Z"
   },
   {
    "duration": 10,
    "start_time": "2023-07-06T02:45:49.762Z"
   },
   {
    "duration": 11,
    "start_time": "2023-07-06T02:45:49.774Z"
   },
   {
    "duration": 10,
    "start_time": "2023-07-06T02:45:49.787Z"
   },
   {
    "duration": 57,
    "start_time": "2023-07-06T02:45:49.799Z"
   },
   {
    "duration": 4,
    "start_time": "2023-07-06T02:45:49.858Z"
   },
   {
    "duration": 39,
    "start_time": "2023-07-06T02:45:49.864Z"
   },
   {
    "duration": 10,
    "start_time": "2023-07-06T02:45:49.905Z"
   },
   {
    "duration": 2,
    "start_time": "2023-07-06T02:45:49.917Z"
   },
   {
    "duration": 6,
    "start_time": "2023-07-06T02:45:49.921Z"
   },
   {
    "duration": 132,
    "start_time": "2023-07-06T02:45:53.999Z"
   },
   {
    "duration": 4,
    "start_time": "2023-07-06T02:49:54.174Z"
   },
   {
    "duration": 31,
    "start_time": "2023-07-06T02:51:39.175Z"
   },
   {
    "duration": 28,
    "start_time": "2023-07-06T02:51:52.106Z"
   },
   {
    "duration": 17,
    "start_time": "2023-07-06T02:52:01.596Z"
   },
   {
    "duration": 15,
    "start_time": "2023-07-06T02:52:14.404Z"
   },
   {
    "duration": 2072,
    "start_time": "2023-07-06T02:52:42.807Z"
   },
   {
    "duration": 2,
    "start_time": "2023-07-06T02:52:44.882Z"
   },
   {
    "duration": 1275,
    "start_time": "2023-07-06T02:52:44.886Z"
   },
   {
    "duration": 55,
    "start_time": "2023-07-06T02:52:46.163Z"
   },
   {
    "duration": 3,
    "start_time": "2023-07-06T02:52:46.220Z"
   },
   {
    "duration": 20,
    "start_time": "2023-07-06T02:52:46.224Z"
   },
   {
    "duration": 24,
    "start_time": "2023-07-06T02:52:46.245Z"
   },
   {
    "duration": 12,
    "start_time": "2023-07-06T02:52:46.270Z"
   },
   {
    "duration": 38,
    "start_time": "2023-07-06T02:52:46.283Z"
   },
   {
    "duration": 8,
    "start_time": "2023-07-06T02:52:46.323Z"
   },
   {
    "duration": 4,
    "start_time": "2023-07-06T02:52:46.333Z"
   },
   {
    "duration": 47,
    "start_time": "2023-07-06T02:52:46.339Z"
   },
   {
    "duration": 1644,
    "start_time": "2023-07-06T02:52:46.387Z"
   },
   {
    "duration": 8,
    "start_time": "2023-07-06T02:52:48.033Z"
   },
   {
    "duration": 18,
    "start_time": "2023-07-06T02:52:48.043Z"
   },
   {
    "duration": 8,
    "start_time": "2023-07-06T02:52:48.063Z"
   },
   {
    "duration": 37,
    "start_time": "2023-07-06T02:52:48.072Z"
   },
   {
    "duration": 3,
    "start_time": "2023-07-06T02:52:48.110Z"
   },
   {
    "duration": 30,
    "start_time": "2023-07-06T02:52:52.653Z"
   },
   {
    "duration": 6,
    "start_time": "2023-07-06T02:53:55.727Z"
   },
   {
    "duration": 114,
    "start_time": "2023-07-06T02:56:40.722Z"
   },
   {
    "duration": 28,
    "start_time": "2023-07-06T02:58:27.169Z"
   },
   {
    "duration": 1995,
    "start_time": "2023-07-06T02:58:37.359Z"
   },
   {
    "duration": 3,
    "start_time": "2023-07-06T02:58:39.356Z"
   },
   {
    "duration": 1198,
    "start_time": "2023-07-06T02:58:39.360Z"
   },
   {
    "duration": 57,
    "start_time": "2023-07-06T02:58:40.560Z"
   },
   {
    "duration": 3,
    "start_time": "2023-07-06T02:58:40.619Z"
   },
   {
    "duration": 15,
    "start_time": "2023-07-06T02:58:40.623Z"
   },
   {
    "duration": 8,
    "start_time": "2023-07-06T02:58:40.639Z"
   },
   {
    "duration": 7,
    "start_time": "2023-07-06T02:58:40.649Z"
   },
   {
    "duration": 13,
    "start_time": "2023-07-06T02:58:40.657Z"
   },
   {
    "duration": 8,
    "start_time": "2023-07-06T02:58:40.672Z"
   },
   {
    "duration": 2,
    "start_time": "2023-07-06T02:58:40.714Z"
   },
   {
    "duration": 40,
    "start_time": "2023-07-06T02:58:40.718Z"
   },
   {
    "duration": 1627,
    "start_time": "2023-07-06T02:58:40.760Z"
   },
   {
    "duration": 8,
    "start_time": "2023-07-06T02:58:42.389Z"
   },
   {
    "duration": 4,
    "start_time": "2023-07-06T02:58:42.399Z"
   },
   {
    "duration": 8,
    "start_time": "2023-07-06T02:58:42.405Z"
   },
   {
    "duration": 34,
    "start_time": "2023-07-06T02:58:42.414Z"
   },
   {
    "duration": 3,
    "start_time": "2023-07-06T02:58:42.449Z"
   },
   {
    "duration": 31,
    "start_time": "2023-07-06T02:58:42.454Z"
   },
   {
    "duration": 6,
    "start_time": "2023-07-06T02:58:42.513Z"
   },
   {
    "duration": 5,
    "start_time": "2023-07-06T02:58:42.521Z"
   },
   {
    "duration": 6,
    "start_time": "2023-07-06T02:58:42.528Z"
   },
   {
    "duration": 238,
    "start_time": "2023-07-06T02:58:42.537Z"
   },
   {
    "duration": 19,
    "start_time": "2023-07-06T02:58:50.210Z"
   },
   {
    "duration": 2095,
    "start_time": "2023-07-06T03:06:58.857Z"
   },
   {
    "duration": 3,
    "start_time": "2023-07-06T03:07:00.955Z"
   },
   {
    "duration": 1315,
    "start_time": "2023-07-06T03:07:00.959Z"
   },
   {
    "duration": 57,
    "start_time": "2023-07-06T03:07:02.277Z"
   },
   {
    "duration": 36,
    "start_time": "2023-07-06T03:07:02.336Z"
   },
   {
    "duration": 74,
    "start_time": "2023-07-06T03:07:02.374Z"
   },
   {
    "duration": 48,
    "start_time": "2023-07-06T03:07:02.450Z"
   },
   {
    "duration": 19,
    "start_time": "2023-07-06T03:07:02.500Z"
   },
   {
    "duration": 33,
    "start_time": "2023-07-06T03:07:02.520Z"
   },
   {
    "duration": 33,
    "start_time": "2023-07-06T03:07:02.556Z"
   },
   {
    "duration": 10,
    "start_time": "2023-07-06T03:07:02.591Z"
   },
   {
    "duration": 52,
    "start_time": "2023-07-06T03:07:02.602Z"
   },
   {
    "duration": 1574,
    "start_time": "2023-07-06T03:07:02.656Z"
   },
   {
    "duration": 9,
    "start_time": "2023-07-06T03:07:04.233Z"
   },
   {
    "duration": 24,
    "start_time": "2023-07-06T03:07:04.243Z"
   },
   {
    "duration": 4,
    "start_time": "2023-07-06T03:07:04.269Z"
   },
   {
    "duration": 10,
    "start_time": "2023-07-06T03:07:04.274Z"
   },
   {
    "duration": 8,
    "start_time": "2023-07-06T03:07:04.285Z"
   },
   {
    "duration": 20,
    "start_time": "2023-07-06T03:07:04.295Z"
   },
   {
    "duration": 12,
    "start_time": "2023-07-06T03:07:04.316Z"
   },
   {
    "duration": 12,
    "start_time": "2023-07-06T03:07:04.329Z"
   },
   {
    "duration": 8,
    "start_time": "2023-07-06T03:07:04.343Z"
   },
   {
    "duration": 108,
    "start_time": "2023-07-06T03:07:07.928Z"
   },
   {
    "duration": 2449,
    "start_time": "2023-07-06T03:08:25.017Z"
   },
   {
    "duration": 2,
    "start_time": "2023-07-06T03:08:27.468Z"
   },
   {
    "duration": 1177,
    "start_time": "2023-07-06T03:08:27.472Z"
   },
   {
    "duration": 54,
    "start_time": "2023-07-06T03:08:28.651Z"
   },
   {
    "duration": 4,
    "start_time": "2023-07-06T03:08:28.707Z"
   },
   {
    "duration": 26,
    "start_time": "2023-07-06T03:08:28.712Z"
   },
   {
    "duration": 24,
    "start_time": "2023-07-06T03:08:28.740Z"
   },
   {
    "duration": 18,
    "start_time": "2023-07-06T03:08:28.765Z"
   },
   {
    "duration": 22,
    "start_time": "2023-07-06T03:08:28.784Z"
   },
   {
    "duration": 8,
    "start_time": "2023-07-06T03:08:28.808Z"
   },
   {
    "duration": 13,
    "start_time": "2023-07-06T03:08:28.817Z"
   },
   {
    "duration": 45,
    "start_time": "2023-07-06T03:08:28.832Z"
   },
   {
    "duration": 1648,
    "start_time": "2023-07-06T03:08:28.879Z"
   },
   {
    "duration": 9,
    "start_time": "2023-07-06T03:08:30.529Z"
   },
   {
    "duration": 76,
    "start_time": "2023-07-06T03:08:30.540Z"
   },
   {
    "duration": 40,
    "start_time": "2023-07-06T03:08:30.618Z"
   },
   {
    "duration": 38,
    "start_time": "2023-07-06T03:08:30.660Z"
   },
   {
    "duration": 32,
    "start_time": "2023-07-06T03:08:30.700Z"
   },
   {
    "duration": 39,
    "start_time": "2023-07-06T03:08:30.734Z"
   },
   {
    "duration": 90,
    "start_time": "2023-07-06T03:08:30.775Z"
   },
   {
    "duration": 37,
    "start_time": "2023-07-06T03:08:30.868Z"
   },
   {
    "duration": 26,
    "start_time": "2023-07-06T03:08:30.907Z"
   },
   {
    "duration": 118,
    "start_time": "2023-07-06T03:08:37.228Z"
   },
   {
    "duration": 6773,
    "start_time": "2023-07-07T03:58:53.017Z"
   },
   {
    "duration": 3,
    "start_time": "2023-07-07T03:58:59.792Z"
   },
   {
    "duration": 1290,
    "start_time": "2023-07-07T03:58:59.796Z"
   },
   {
    "duration": 92,
    "start_time": "2023-07-07T03:59:01.087Z"
   },
   {
    "duration": 3,
    "start_time": "2023-07-07T03:59:01.181Z"
   },
   {
    "duration": 34,
    "start_time": "2023-07-07T03:59:01.185Z"
   },
   {
    "duration": 27,
    "start_time": "2023-07-07T03:59:01.220Z"
   },
   {
    "duration": 25,
    "start_time": "2023-07-07T03:59:01.248Z"
   },
   {
    "duration": 34,
    "start_time": "2023-07-07T03:59:01.274Z"
   },
   {
    "duration": 26,
    "start_time": "2023-07-07T03:59:01.310Z"
   },
   {
    "duration": 31,
    "start_time": "2023-07-07T03:59:01.338Z"
   },
   {
    "duration": 76,
    "start_time": "2023-07-07T03:59:01.371Z"
   },
   {
    "duration": 1499,
    "start_time": "2023-07-07T03:59:01.449Z"
   },
   {
    "duration": 8,
    "start_time": "2023-07-07T03:59:02.951Z"
   },
   {
    "duration": 27,
    "start_time": "2023-07-07T03:59:02.961Z"
   },
   {
    "duration": 26,
    "start_time": "2023-07-07T03:59:02.990Z"
   },
   {
    "duration": 26,
    "start_time": "2023-07-07T03:59:03.018Z"
   },
   {
    "duration": 19,
    "start_time": "2023-07-07T03:59:03.046Z"
   },
   {
    "duration": 23,
    "start_time": "2023-07-07T03:59:03.067Z"
   },
   {
    "duration": 34,
    "start_time": "2023-07-07T03:59:03.092Z"
   },
   {
    "duration": 42,
    "start_time": "2023-07-07T03:59:03.128Z"
   },
   {
    "duration": 37,
    "start_time": "2023-07-07T03:59:03.171Z"
   },
   {
    "duration": 181,
    "start_time": "2023-07-07T03:59:08.262Z"
   },
   {
    "duration": 35,
    "start_time": "2023-07-07T04:00:06.487Z"
   },
   {
    "duration": 2220,
    "start_time": "2023-07-07T04:00:19.137Z"
   },
   {
    "duration": 3,
    "start_time": "2023-07-07T04:00:21.359Z"
   },
   {
    "duration": 1100,
    "start_time": "2023-07-07T04:00:21.363Z"
   },
   {
    "duration": 54,
    "start_time": "2023-07-07T04:00:22.464Z"
   },
   {
    "duration": 3,
    "start_time": "2023-07-07T04:00:22.520Z"
   },
   {
    "duration": 33,
    "start_time": "2023-07-07T04:00:22.524Z"
   },
   {
    "duration": 18,
    "start_time": "2023-07-07T04:00:22.558Z"
   },
   {
    "duration": 19,
    "start_time": "2023-07-07T04:00:22.577Z"
   },
   {
    "duration": 21,
    "start_time": "2023-07-07T04:00:22.597Z"
   },
   {
    "duration": 9,
    "start_time": "2023-07-07T04:00:22.619Z"
   },
   {
    "duration": 10,
    "start_time": "2023-07-07T04:00:22.630Z"
   },
   {
    "duration": 42,
    "start_time": "2023-07-07T04:00:22.641Z"
   },
   {
    "duration": 1436,
    "start_time": "2023-07-07T04:00:22.684Z"
   },
   {
    "duration": 7,
    "start_time": "2023-07-07T04:00:24.123Z"
   },
   {
    "duration": 11,
    "start_time": "2023-07-07T04:00:24.132Z"
   },
   {
    "duration": 5,
    "start_time": "2023-07-07T04:00:24.144Z"
   },
   {
    "duration": 7,
    "start_time": "2023-07-07T04:00:24.150Z"
   },
   {
    "duration": 14,
    "start_time": "2023-07-07T04:00:24.159Z"
   },
   {
    "duration": 17,
    "start_time": "2023-07-07T04:00:24.174Z"
   },
   {
    "duration": 22,
    "start_time": "2023-07-07T04:00:24.192Z"
   },
   {
    "duration": 13,
    "start_time": "2023-07-07T04:00:24.215Z"
   },
   {
    "duration": 24,
    "start_time": "2023-07-07T04:00:24.229Z"
   },
   {
    "duration": 122,
    "start_time": "2023-07-07T04:00:29.067Z"
   },
   {
    "duration": 20,
    "start_time": "2023-07-07T04:02:45.253Z"
   },
   {
    "duration": 75,
    "start_time": "2023-07-07T04:03:01.970Z"
   },
   {
    "duration": 18,
    "start_time": "2023-07-07T04:04:17.999Z"
   },
   {
    "duration": 18,
    "start_time": "2023-07-07T04:10:08.268Z"
   },
   {
    "duration": 70,
    "start_time": "2023-07-07T04:10:21.282Z"
   },
   {
    "duration": 2037,
    "start_time": "2023-07-07T04:11:43.029Z"
   },
   {
    "duration": 3,
    "start_time": "2023-07-07T04:11:45.068Z"
   },
   {
    "duration": 1073,
    "start_time": "2023-07-07T04:11:45.073Z"
   },
   {
    "duration": 54,
    "start_time": "2023-07-07T04:11:46.147Z"
   },
   {
    "duration": 3,
    "start_time": "2023-07-07T04:11:46.202Z"
   },
   {
    "duration": 39,
    "start_time": "2023-07-07T04:11:46.206Z"
   },
   {
    "duration": 35,
    "start_time": "2023-07-07T04:11:46.246Z"
   },
   {
    "duration": 19,
    "start_time": "2023-07-07T04:11:46.282Z"
   },
   {
    "duration": 30,
    "start_time": "2023-07-07T04:11:46.302Z"
   },
   {
    "duration": 27,
    "start_time": "2023-07-07T04:11:46.334Z"
   },
   {
    "duration": 15,
    "start_time": "2023-07-07T04:11:46.363Z"
   },
   {
    "duration": 43,
    "start_time": "2023-07-07T04:11:46.380Z"
   },
   {
    "duration": 1471,
    "start_time": "2023-07-07T04:11:46.425Z"
   },
   {
    "duration": 9,
    "start_time": "2023-07-07T04:11:47.900Z"
   },
   {
    "duration": 8,
    "start_time": "2023-07-07T04:11:47.911Z"
   },
   {
    "duration": 5,
    "start_time": "2023-07-07T04:11:47.920Z"
   },
   {
    "duration": 7,
    "start_time": "2023-07-07T04:11:47.926Z"
   },
   {
    "duration": 6,
    "start_time": "2023-07-07T04:11:47.934Z"
   },
   {
    "duration": 7,
    "start_time": "2023-07-07T04:11:47.942Z"
   },
   {
    "duration": 15,
    "start_time": "2023-07-07T04:11:47.950Z"
   },
   {
    "duration": 6,
    "start_time": "2023-07-07T04:11:47.967Z"
   },
   {
    "duration": 6,
    "start_time": "2023-07-07T04:11:47.974Z"
   },
   {
    "duration": 161,
    "start_time": "2023-07-07T04:11:51.114Z"
   },
   {
    "duration": 57,
    "start_time": "2023-07-07T04:13:40.024Z"
   },
   {
    "duration": 2088,
    "start_time": "2023-07-07T04:14:47.451Z"
   },
   {
    "duration": 3,
    "start_time": "2023-07-07T04:14:49.541Z"
   },
   {
    "duration": 1189,
    "start_time": "2023-07-07T04:14:49.545Z"
   },
   {
    "duration": 54,
    "start_time": "2023-07-07T04:14:50.735Z"
   },
   {
    "duration": 3,
    "start_time": "2023-07-07T04:14:50.791Z"
   },
   {
    "duration": 13,
    "start_time": "2023-07-07T04:14:50.796Z"
   },
   {
    "duration": 11,
    "start_time": "2023-07-07T04:14:50.811Z"
   },
   {
    "duration": 7,
    "start_time": "2023-07-07T04:14:50.824Z"
   },
   {
    "duration": 25,
    "start_time": "2023-07-07T04:14:50.833Z"
   },
   {
    "duration": 8,
    "start_time": "2023-07-07T04:14:50.860Z"
   },
   {
    "duration": 16,
    "start_time": "2023-07-07T04:14:50.870Z"
   },
   {
    "duration": 45,
    "start_time": "2023-07-07T04:14:50.888Z"
   },
   {
    "duration": 1502,
    "start_time": "2023-07-07T04:14:50.935Z"
   },
   {
    "duration": 8,
    "start_time": "2023-07-07T04:14:52.441Z"
   },
   {
    "duration": 10,
    "start_time": "2023-07-07T04:14:52.451Z"
   },
   {
    "duration": 11,
    "start_time": "2023-07-07T04:14:52.463Z"
   },
   {
    "duration": 31,
    "start_time": "2023-07-07T04:14:57.715Z"
   },
   {
    "duration": 39,
    "start_time": "2023-07-07T04:15:07.995Z"
   },
   {
    "duration": 4,
    "start_time": "2023-07-07T04:15:19.103Z"
   },
   {
    "duration": 115,
    "start_time": "2023-07-07T04:15:55.030Z"
   },
   {
    "duration": 15,
    "start_time": "2023-07-07T04:18:20.517Z"
   },
   {
    "duration": 2032,
    "start_time": "2023-07-07T04:18:30.795Z"
   },
   {
    "duration": 2,
    "start_time": "2023-07-07T04:18:32.829Z"
   },
   {
    "duration": 1214,
    "start_time": "2023-07-07T04:18:32.832Z"
   },
   {
    "duration": 52,
    "start_time": "2023-07-07T04:18:34.048Z"
   },
   {
    "duration": 3,
    "start_time": "2023-07-07T04:18:34.102Z"
   },
   {
    "duration": 32,
    "start_time": "2023-07-07T04:18:34.106Z"
   },
   {
    "duration": 6,
    "start_time": "2023-07-07T04:18:34.139Z"
   },
   {
    "duration": 6,
    "start_time": "2023-07-07T04:18:34.146Z"
   },
   {
    "duration": 15,
    "start_time": "2023-07-07T04:18:34.153Z"
   },
   {
    "duration": 7,
    "start_time": "2023-07-07T04:18:34.169Z"
   },
   {
    "duration": 4,
    "start_time": "2023-07-07T04:18:34.177Z"
   },
   {
    "duration": 50,
    "start_time": "2023-07-07T04:18:34.182Z"
   },
   {
    "duration": 1498,
    "start_time": "2023-07-07T04:18:34.234Z"
   },
   {
    "duration": 8,
    "start_time": "2023-07-07T04:18:35.736Z"
   },
   {
    "duration": 12,
    "start_time": "2023-07-07T04:18:35.745Z"
   },
   {
    "duration": 8,
    "start_time": "2023-07-07T04:18:35.758Z"
   },
   {
    "duration": 42,
    "start_time": "2023-07-07T04:18:35.767Z"
   },
   {
    "duration": 46,
    "start_time": "2023-07-07T04:18:35.810Z"
   },
   {
    "duration": 2,
    "start_time": "2023-07-07T04:18:35.858Z"
   },
   {
    "duration": 11,
    "start_time": "2023-07-07T04:18:35.862Z"
   },
   {
    "duration": 23,
    "start_time": "2023-07-07T04:18:35.875Z"
   },
   {
    "duration": 6,
    "start_time": "2023-07-07T04:18:35.899Z"
   },
   {
    "duration": 105,
    "start_time": "2023-07-07T04:18:39.519Z"
   },
   {
    "duration": 37,
    "start_time": "2023-07-07T04:19:35.168Z"
   },
   {
    "duration": 2061,
    "start_time": "2023-07-07T04:19:43.309Z"
   },
   {
    "duration": 3,
    "start_time": "2023-07-07T04:19:45.372Z"
   },
   {
    "duration": 1082,
    "start_time": "2023-07-07T04:19:45.376Z"
   },
   {
    "duration": 57,
    "start_time": "2023-07-07T04:19:46.461Z"
   },
   {
    "duration": 3,
    "start_time": "2023-07-07T04:19:46.520Z"
   },
   {
    "duration": 33,
    "start_time": "2023-07-07T04:19:46.524Z"
   },
   {
    "duration": 16,
    "start_time": "2023-07-07T04:19:46.559Z"
   },
   {
    "duration": 19,
    "start_time": "2023-07-07T04:19:46.576Z"
   },
   {
    "duration": 33,
    "start_time": "2023-07-07T04:19:46.596Z"
   },
   {
    "duration": 8,
    "start_time": "2023-07-07T04:19:46.632Z"
   },
   {
    "duration": 15,
    "start_time": "2023-07-07T04:19:46.642Z"
   },
   {
    "duration": 51,
    "start_time": "2023-07-07T04:19:46.658Z"
   },
   {
    "duration": 1470,
    "start_time": "2023-07-07T04:19:46.710Z"
   },
   {
    "duration": 8,
    "start_time": "2023-07-07T04:19:48.182Z"
   },
   {
    "duration": 5,
    "start_time": "2023-07-07T04:19:48.192Z"
   },
   {
    "duration": 3,
    "start_time": "2023-07-07T04:19:48.198Z"
   },
   {
    "duration": 31,
    "start_time": "2023-07-07T04:19:48.203Z"
   },
   {
    "duration": 39,
    "start_time": "2023-07-07T04:19:48.236Z"
   },
   {
    "duration": 3,
    "start_time": "2023-07-07T04:19:48.276Z"
   },
   {
    "duration": 21,
    "start_time": "2023-07-07T04:19:48.281Z"
   },
   {
    "duration": 15,
    "start_time": "2023-07-07T04:19:48.303Z"
   },
   {
    "duration": 16,
    "start_time": "2023-07-07T04:19:48.320Z"
   },
   {
    "duration": 141,
    "start_time": "2023-07-07T04:19:48.337Z"
   },
   {
    "duration": 37,
    "start_time": "2023-07-07T04:19:52.504Z"
   },
   {
    "duration": 37,
    "start_time": "2023-07-07T04:20:53.782Z"
   },
   {
    "duration": 8185,
    "start_time": "2023-07-07T05:50:49.307Z"
   },
   {
    "duration": 4,
    "start_time": "2023-07-07T05:50:57.495Z"
   },
   {
    "duration": 1429,
    "start_time": "2023-07-07T05:50:57.501Z"
   },
   {
    "duration": 182,
    "start_time": "2023-07-07T05:50:58.932Z"
   },
   {
    "duration": 3,
    "start_time": "2023-07-07T05:50:59.116Z"
   },
   {
    "duration": 15,
    "start_time": "2023-07-07T05:50:59.121Z"
   },
   {
    "duration": 5,
    "start_time": "2023-07-07T05:50:59.138Z"
   },
   {
    "duration": 11,
    "start_time": "2023-07-07T05:50:59.144Z"
   },
   {
    "duration": 23,
    "start_time": "2023-07-07T05:50:59.157Z"
   },
   {
    "duration": 9,
    "start_time": "2023-07-07T05:50:59.181Z"
   },
   {
    "duration": 3,
    "start_time": "2023-07-07T05:50:59.192Z"
   },
   {
    "duration": 81,
    "start_time": "2023-07-07T05:50:59.197Z"
   },
   {
    "duration": 1953,
    "start_time": "2023-07-07T05:50:59.280Z"
   },
   {
    "duration": 13,
    "start_time": "2023-07-07T05:51:01.236Z"
   },
   {
    "duration": 30,
    "start_time": "2023-07-07T05:51:01.251Z"
   },
   {
    "duration": 20,
    "start_time": "2023-07-07T05:51:01.283Z"
   },
   {
    "duration": 78,
    "start_time": "2023-07-07T05:51:01.305Z"
   },
   {
    "duration": 67,
    "start_time": "2023-07-07T05:51:01.385Z"
   },
   {
    "duration": 12,
    "start_time": "2023-07-07T05:51:01.454Z"
   },
   {
    "duration": 56,
    "start_time": "2023-07-07T05:51:01.468Z"
   },
   {
    "duration": 45,
    "start_time": "2023-07-07T05:51:01.526Z"
   },
   {
    "duration": 47,
    "start_time": "2023-07-07T05:51:01.573Z"
   },
   {
    "duration": 177,
    "start_time": "2023-07-07T05:51:01.622Z"
   },
   {
    "duration": 0,
    "start_time": "2023-07-07T05:51:01.801Z"
   },
   {
    "duration": 0,
    "start_time": "2023-07-07T05:51:01.803Z"
   },
   {
    "duration": 0,
    "start_time": "2023-07-07T05:51:01.804Z"
   },
   {
    "duration": 0,
    "start_time": "2023-07-07T05:51:01.805Z"
   },
   {
    "duration": 0,
    "start_time": "2023-07-07T05:51:01.807Z"
   },
   {
    "duration": 0,
    "start_time": "2023-07-07T05:51:01.808Z"
   },
   {
    "duration": 0,
    "start_time": "2023-07-07T05:51:01.809Z"
   },
   {
    "duration": 0,
    "start_time": "2023-07-07T05:51:01.811Z"
   },
   {
    "duration": 0,
    "start_time": "2023-07-07T05:51:01.812Z"
   },
   {
    "duration": 0,
    "start_time": "2023-07-07T05:51:01.813Z"
   },
   {
    "duration": 0,
    "start_time": "2023-07-07T05:51:01.814Z"
   },
   {
    "duration": 0,
    "start_time": "2023-07-07T05:51:01.816Z"
   },
   {
    "duration": 0,
    "start_time": "2023-07-07T05:51:01.817Z"
   },
   {
    "duration": 0,
    "start_time": "2023-07-07T05:51:01.817Z"
   },
   {
    "duration": 0,
    "start_time": "2023-07-07T05:51:01.818Z"
   },
   {
    "duration": 0,
    "start_time": "2023-07-07T05:51:01.819Z"
   },
   {
    "duration": 0,
    "start_time": "2023-07-07T05:51:01.820Z"
   },
   {
    "duration": 0,
    "start_time": "2023-07-07T05:51:01.821Z"
   },
   {
    "duration": 0,
    "start_time": "2023-07-07T05:51:01.866Z"
   },
   {
    "duration": 0,
    "start_time": "2023-07-07T05:51:01.867Z"
   },
   {
    "duration": 2204,
    "start_time": "2023-07-07T05:51:51.184Z"
   },
   {
    "duration": 3,
    "start_time": "2023-07-07T05:51:53.391Z"
   },
   {
    "duration": 1287,
    "start_time": "2023-07-07T05:51:53.395Z"
   },
   {
    "duration": 56,
    "start_time": "2023-07-07T05:51:54.683Z"
   },
   {
    "duration": 3,
    "start_time": "2023-07-07T05:51:54.741Z"
   },
   {
    "duration": 21,
    "start_time": "2023-07-07T05:51:54.746Z"
   },
   {
    "duration": 11,
    "start_time": "2023-07-07T05:51:54.769Z"
   },
   {
    "duration": 5,
    "start_time": "2023-07-07T05:51:54.783Z"
   },
   {
    "duration": 16,
    "start_time": "2023-07-07T05:51:54.789Z"
   },
   {
    "duration": 9,
    "start_time": "2023-07-07T05:51:54.807Z"
   },
   {
    "duration": 3,
    "start_time": "2023-07-07T05:51:54.818Z"
   },
   {
    "duration": 69,
    "start_time": "2023-07-07T05:51:54.823Z"
   },
   {
    "duration": 1843,
    "start_time": "2023-07-07T05:51:54.894Z"
   },
   {
    "duration": 10,
    "start_time": "2023-07-07T05:51:56.740Z"
   },
   {
    "duration": 92,
    "start_time": "2023-07-07T05:51:56.752Z"
   },
   {
    "duration": 3,
    "start_time": "2023-07-07T05:51:56.846Z"
   },
   {
    "duration": 42,
    "start_time": "2023-07-07T05:51:56.852Z"
   },
   {
    "duration": 54,
    "start_time": "2023-07-07T05:51:56.896Z"
   },
   {
    "duration": 11,
    "start_time": "2023-07-07T05:51:56.963Z"
   },
   {
    "duration": 6,
    "start_time": "2023-07-07T05:51:56.978Z"
   },
   {
    "duration": 5,
    "start_time": "2023-07-07T05:51:56.986Z"
   },
   {
    "duration": 34,
    "start_time": "2023-07-07T05:51:56.993Z"
   },
   {
    "duration": 4,
    "start_time": "2023-07-07T05:51:57.029Z"
   },
   {
    "duration": 13,
    "start_time": "2023-07-07T05:51:57.035Z"
   },
   {
    "duration": 1026,
    "start_time": "2023-07-07T05:51:57.050Z"
   },
   {
    "duration": 6,
    "start_time": "2023-07-07T05:51:58.078Z"
   },
   {
    "duration": 100,
    "start_time": "2023-07-07T05:51:58.086Z"
   },
   {
    "duration": 1881,
    "start_time": "2023-07-07T05:51:58.188Z"
   },
   {
    "duration": 6,
    "start_time": "2023-07-07T05:52:00.071Z"
   },
   {
    "duration": 21961,
    "start_time": "2023-07-07T05:52:00.081Z"
   },
   {
    "duration": 3,
    "start_time": "2023-07-07T05:52:22.044Z"
   },
   {
    "duration": 23,
    "start_time": "2023-07-07T05:52:22.059Z"
   },
   {
    "duration": 10,
    "start_time": "2023-07-07T05:52:22.084Z"
   },
   {
    "duration": 34,
    "start_time": "2023-07-07T05:52:22.096Z"
   },
   {
    "duration": 1034,
    "start_time": "2023-07-07T05:52:22.132Z"
   },
   {
    "duration": 9505,
    "start_time": "2023-07-07T05:52:23.174Z"
   },
   {
    "duration": 3,
    "start_time": "2023-07-07T05:52:32.681Z"
   },
   {
    "duration": 5,
    "start_time": "2023-07-07T05:52:32.686Z"
   },
   {
    "duration": 124,
    "start_time": "2023-07-07T05:52:32.693Z"
   },
   {
    "duration": 3,
    "start_time": "2023-07-07T05:52:32.819Z"
   },
   {
    "duration": 21,
    "start_time": "2023-07-07T05:52:32.825Z"
   },
   {
    "duration": 15,
    "start_time": "2023-07-07T05:52:32.848Z"
   },
   {
    "duration": 9,
    "start_time": "2023-07-07T05:52:32.866Z"
   }
  ],
  "kernelspec": {
   "display_name": "Python 3 (ipykernel)",
   "language": "python",
   "name": "python3"
  },
  "language_info": {
   "codemirror_mode": {
    "name": "ipython",
    "version": 3
   },
   "file_extension": ".py",
   "mimetype": "text/x-python",
   "name": "python",
   "nbconvert_exporter": "python",
   "pygments_lexer": "ipython3",
   "version": "3.10.12"
  },
  "toc": {
   "base_numbering": 1,
   "nav_menu": {},
   "number_sections": true,
   "sideBar": true,
   "skip_h1_title": true,
   "title_cell": "Содержание",
   "title_sidebar": "Contents",
   "toc_cell": true,
   "toc_position": {},
   "toc_section_display": true,
   "toc_window_display": false
  }
 },
 "nbformat": 4,
 "nbformat_minor": 2
}
